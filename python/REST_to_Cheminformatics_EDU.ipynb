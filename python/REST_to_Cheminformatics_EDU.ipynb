{
  "cells": [
    {
      "cell_type": "markdown",
      "metadata": {
        "colab_type": "text",
        "id": "view-in-github"
      },
      "source": [
        "<a href=\"https://colab.research.google.com/github/Gressling/cheminformatics/blob/main/REST_to_Cheminformatics_EDU.ipynb\" target=\"_parent\"><img src=\"https://colab.research.google.com/assets/colab-badge.svg\" alt=\"Open In Colab\"/></a>"
      ]
    },
    {
      "cell_type": "code",
      "execution_count": 1,
      "metadata": {
        "colab": {
          "base_uri": "https://localhost:8080/"
        },
        "id": "44AXW_Ba4HW5",
        "outputId": "2e2f79b1-6e49-4ab6-91d9-4c846ec44e13"
      },
      "outputs": [
        {
          "name": "stdout",
          "output_type": "stream",
          "text": [
            "{'status': 'success', 'message': 'Access granted', 'data': {'info': 'This is a secured data example', 'timestamp': '2024-08-08 01:02:42'}}\n"
          ]
        }
      ],
      "source": [
        "import requests\n",
        "\n",
        "url = \"http://gressling.net/v2/api.php\"\n",
        "\n",
        "query = {\n",
        "  \"apiKey\": \"242KKlhkh899\" # Replace with your actual API key\n",
        "}\n",
        "\n",
        "response = requests.get(url, params=query)\n",
        "\n",
        "data = response.json()\n",
        "print(data)"
      ]
    }
  ],
  "metadata": {
    "colab": {
      "authorship_tag": "ABX9TyN4ksWYSWohEOt24LyCfNqZ",
      "include_colab_link": true,
      "provenance": []
    },
    "kernelspec": {
      "display_name": "Python 3",
      "name": "python3"
    },
    "language_info": {
      "codemirror_mode": {
        "name": "ipython",
        "version": 3
      },
      "file_extension": ".py",
      "mimetype": "text/x-python",
      "name": "python",
      "nbconvert_exporter": "python",
      "pygments_lexer": "ipython3",
      "version": "3.11.7"
    }
  },
  "nbformat": 4,
  "nbformat_minor": 0
}
