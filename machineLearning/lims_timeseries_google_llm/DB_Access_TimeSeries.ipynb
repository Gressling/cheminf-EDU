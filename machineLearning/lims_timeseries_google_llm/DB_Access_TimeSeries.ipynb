{
 "cells": [
  {
   "cell_type": "code",
   "id": "initial_id",
   "metadata": {
    "collapsed": true,
    "ExecuteTime": {
     "end_time": "2024-04-30T17:35:00.551167Z",
     "start_time": "2024-04-30T17:34:58.586693Z"
    }
   },
   "source": "!pip install influxdb-client",
   "outputs": [
    {
     "name": "stdout",
     "output_type": "stream",
     "text": [
      "Collecting influxdb-client\r\n",
      "  Downloading influxdb_client-1.42.0-py3-none-any.whl.metadata (64 kB)\r\n",
      "\u001B[2K     \u001B[90m━━━━━━━━━━━━━━━━━━━━━━━━━━━━━━━━━━━━━━━━\u001B[0m \u001B[32m64.8/64.8 kB\u001B[0m \u001B[31m1.2 MB/s\u001B[0m eta \u001B[36m0:00:00\u001B[0ma \u001B[36m0:00:01\u001B[0m\r\n",
      "\u001B[?25hCollecting reactivex>=4.0.4 (from influxdb-client)\r\n",
      "  Downloading reactivex-4.0.4-py3-none-any.whl.metadata (5.5 kB)\r\n",
      "Requirement already satisfied: certifi>=14.05.14 in /home/daniel/anaconda3/envs/cheminf-EDU/lib/python3.11/site-packages (from influxdb-client) (2024.2.2)\r\n",
      "Requirement already satisfied: python-dateutil>=2.5.3 in /home/daniel/anaconda3/envs/cheminf-EDU/lib/python3.11/site-packages (from influxdb-client) (2.8.2)\r\n",
      "Requirement already satisfied: setuptools>=21.0.0 in /home/daniel/anaconda3/envs/cheminf-EDU/lib/python3.11/site-packages (from influxdb-client) (68.2.2)\r\n",
      "Requirement already satisfied: urllib3>=1.26.0 in /home/daniel/anaconda3/envs/cheminf-EDU/lib/python3.11/site-packages (from influxdb-client) (2.1.0)\r\n",
      "Requirement already satisfied: six>=1.5 in /home/daniel/anaconda3/envs/cheminf-EDU/lib/python3.11/site-packages (from python-dateutil>=2.5.3->influxdb-client) (1.16.0)\r\n",
      "Requirement already satisfied: typing-extensions<5.0.0,>=4.1.1 in /home/daniel/anaconda3/envs/cheminf-EDU/lib/python3.11/site-packages (from reactivex>=4.0.4->influxdb-client) (4.9.0)\r\n",
      "Downloading influxdb_client-1.42.0-py3-none-any.whl (744 kB)\r\n",
      "\u001B[2K   \u001B[90m━━━━━━━━━━━━━━━━━━━━━━━━━━━━━━━━━━━━━━━━\u001B[0m \u001B[32m744.6/744.6 kB\u001B[0m \u001B[31m6.9 MB/s\u001B[0m eta \u001B[36m0:00:00\u001B[0m00:01\u001B[0m00:01\u001B[0m\r\n",
      "\u001B[?25hDownloading reactivex-4.0.4-py3-none-any.whl (217 kB)\r\n",
      "\u001B[2K   \u001B[90m━━━━━━━━━━━━━━━━━━━━━━━━━━━━━━━━━━━━━━━━\u001B[0m \u001B[32m217.8/217.8 kB\u001B[0m \u001B[31m6.7 MB/s\u001B[0m eta \u001B[36m0:00:00\u001B[0m\r\n",
      "\u001B[?25hInstalling collected packages: reactivex, influxdb-client\r\n",
      "Successfully installed influxdb-client-1.42.0 reactivex-4.0.4\r\n"
     ]
    }
   ],
   "execution_count": 1
  },
  {
   "metadata": {
    "ExecuteTime": {
     "end_time": "2024-05-28T16:23:50.689419Z",
     "start_time": "2024-05-28T16:23:50.317967Z"
    }
   },
   "cell_type": "code",
   "source": [
    "import influxdb_client\n",
    "import pandas as pd"
   ],
   "id": "625be585cf7e0e8b",
   "outputs": [],
   "execution_count": 1
  },
  {
   "metadata": {
    "ExecuteTime": {
     "end_time": "2024-05-28T16:23:50.696584Z",
     "start_time": "2024-05-28T16:23:50.690158Z"
    }
   },
   "cell_type": "code",
   "source": [
    "org=\"2684bd5f2421cb07\"\n",
    "bucket = \"labinformatics HU2022\"\n",
    "\n",
    "client = influxdb_client.InfluxDBClient(\n",
    "    url='https://eu-central-1-1.aws.cloud2.influxdata.com',\n",
    "    token='vSqR-lzePjp98WqlrlQa03f4fULu0MeumLVjId5_COSdbY2amYdNu0f891QPkS0Rt1wMvAPYAyh0FoV4aZX3Ig==',\n",
    "    org=org)"
   ],
   "id": "b96d43800cfbbdc0",
   "outputs": [],
   "execution_count": 2
  },
  {
   "metadata": {
    "ExecuteTime": {
     "end_time": "2024-05-28T16:23:53.967706Z",
     "start_time": "2024-05-28T16:23:50.697269Z"
    }
   },
   "cell_type": "code",
   "source": [
    "query_api = client.query_api()\n",
    "\n",
    "query = f'from(bucket:\"{bucket}\")\\\n",
    "    |> range(start: 0, stop: now())\\\n",
    "    |> filter(fn: (r) => r._measurement == \"LDR_status\")\\\n",
    "    |> filter(fn: (r) => r._field == \"LDR\")\\\n",
    "    |> filter(fn: (r) => r.device == \"ESP8266\")\\\n",
    "    |> filter(fn: (r) => r.LDR == \"Sensor 1\")'\n",
    "\n",
    "result = query_api.query(org=org, query=query)\n",
    "\n",
    "results = []\n",
    "for table in result:\n",
    "  for record in table.records:\n",
    "    results.append((record.get_field(), record.get_value(), record.get_time(), record.values.get(\"device\")))\n",
    "\n",
    "df = pd.DataFrame(results, columns=['field', 'value', 'time', 'device'])\n",
    "df.head(10)"
   ],
   "id": "2149cef96756194d",
   "outputs": [
    {
     "data": {
      "text/plain": [
       "  field  value                             time   device\n",
       "0   LDR    566 2024-05-05 13:25:06.436544+00:00  ESP8266\n",
       "1   LDR    567 2024-05-05 13:25:09.604311+00:00  ESP8266\n",
       "2   LDR    567 2024-05-05 13:25:12.719508+00:00  ESP8266\n",
       "3   LDR    578 2024-05-05 13:25:15.905835+00:00  ESP8266\n",
       "4   LDR    578 2024-05-05 13:25:19.063087+00:00  ESP8266\n",
       "5   LDR    588 2024-05-05 13:25:22.198785+00:00  ESP8266\n",
       "6   LDR    585 2024-05-05 13:25:25.308645+00:00  ESP8266\n",
       "7   LDR    592 2024-05-05 13:25:28.461389+00:00  ESP8266\n",
       "8   LDR    594 2024-05-05 13:25:31.586918+00:00  ESP8266\n",
       "9   LDR    596 2024-05-05 13:25:34.702513+00:00  ESP8266"
      ],
      "text/html": [
       "<div>\n",
       "<style scoped>\n",
       "    .dataframe tbody tr th:only-of-type {\n",
       "        vertical-align: middle;\n",
       "    }\n",
       "\n",
       "    .dataframe tbody tr th {\n",
       "        vertical-align: top;\n",
       "    }\n",
       "\n",
       "    .dataframe thead th {\n",
       "        text-align: right;\n",
       "    }\n",
       "</style>\n",
       "<table border=\"1\" class=\"dataframe\">\n",
       "  <thead>\n",
       "    <tr style=\"text-align: right;\">\n",
       "      <th></th>\n",
       "      <th>field</th>\n",
       "      <th>value</th>\n",
       "      <th>time</th>\n",
       "      <th>device</th>\n",
       "    </tr>\n",
       "  </thead>\n",
       "  <tbody>\n",
       "    <tr>\n",
       "      <th>0</th>\n",
       "      <td>LDR</td>\n",
       "      <td>566</td>\n",
       "      <td>2024-05-05 13:25:06.436544+00:00</td>\n",
       "      <td>ESP8266</td>\n",
       "    </tr>\n",
       "    <tr>\n",
       "      <th>1</th>\n",
       "      <td>LDR</td>\n",
       "      <td>567</td>\n",
       "      <td>2024-05-05 13:25:09.604311+00:00</td>\n",
       "      <td>ESP8266</td>\n",
       "    </tr>\n",
       "    <tr>\n",
       "      <th>2</th>\n",
       "      <td>LDR</td>\n",
       "      <td>567</td>\n",
       "      <td>2024-05-05 13:25:12.719508+00:00</td>\n",
       "      <td>ESP8266</td>\n",
       "    </tr>\n",
       "    <tr>\n",
       "      <th>3</th>\n",
       "      <td>LDR</td>\n",
       "      <td>578</td>\n",
       "      <td>2024-05-05 13:25:15.905835+00:00</td>\n",
       "      <td>ESP8266</td>\n",
       "    </tr>\n",
       "    <tr>\n",
       "      <th>4</th>\n",
       "      <td>LDR</td>\n",
       "      <td>578</td>\n",
       "      <td>2024-05-05 13:25:19.063087+00:00</td>\n",
       "      <td>ESP8266</td>\n",
       "    </tr>\n",
       "    <tr>\n",
       "      <th>5</th>\n",
       "      <td>LDR</td>\n",
       "      <td>588</td>\n",
       "      <td>2024-05-05 13:25:22.198785+00:00</td>\n",
       "      <td>ESP8266</td>\n",
       "    </tr>\n",
       "    <tr>\n",
       "      <th>6</th>\n",
       "      <td>LDR</td>\n",
       "      <td>585</td>\n",
       "      <td>2024-05-05 13:25:25.308645+00:00</td>\n",
       "      <td>ESP8266</td>\n",
       "    </tr>\n",
       "    <tr>\n",
       "      <th>7</th>\n",
       "      <td>LDR</td>\n",
       "      <td>592</td>\n",
       "      <td>2024-05-05 13:25:28.461389+00:00</td>\n",
       "      <td>ESP8266</td>\n",
       "    </tr>\n",
       "    <tr>\n",
       "      <th>8</th>\n",
       "      <td>LDR</td>\n",
       "      <td>594</td>\n",
       "      <td>2024-05-05 13:25:31.586918+00:00</td>\n",
       "      <td>ESP8266</td>\n",
       "    </tr>\n",
       "    <tr>\n",
       "      <th>9</th>\n",
       "      <td>LDR</td>\n",
       "      <td>596</td>\n",
       "      <td>2024-05-05 13:25:34.702513+00:00</td>\n",
       "      <td>ESP8266</td>\n",
       "    </tr>\n",
       "  </tbody>\n",
       "</table>\n",
       "</div>"
      ]
     },
     "execution_count": 3,
     "metadata": {},
     "output_type": "execute_result"
    }
   ],
   "execution_count": 3
  },
  {
   "metadata": {},
   "cell_type": "code",
   "outputs": [],
   "execution_count": null,
   "source": "",
   "id": "3bcdcbd58db5ac7e"
  }
 ],
 "metadata": {
  "kernelspec": {
   "display_name": "Python 3",
   "language": "python",
   "name": "python3"
  },
  "language_info": {
   "codemirror_mode": {
    "name": "ipython",
    "version": 2
   },
   "file_extension": ".py",
   "mimetype": "text/x-python",
   "name": "python",
   "nbconvert_exporter": "python",
   "pygments_lexer": "ipython2",
   "version": "2.7.6"
  }
 },
 "nbformat": 4,
 "nbformat_minor": 5
}
