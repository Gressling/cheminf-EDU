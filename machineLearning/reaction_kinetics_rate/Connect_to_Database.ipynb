{
  "cells": [
    {
      "cell_type": "code",
      "execution_count": 2,
      "id": "28ef1482",
      "metadata": {
        "colab": {
          "base_uri": "https://localhost:8080/"
        },
        "id": "28ef1482",
        "outputId": "931eca29-09c1-491b-bfbd-e2c29a20c3a0"
      },
      "outputs": [
        {
          "output_type": "stream",
          "name": "stdout",
          "text": [
            "Requirement already satisfied: sqlalchemy in /usr/local/lib/python3.10/dist-packages (2.0.31)\n",
            "Requirement already satisfied: pandas in /usr/local/lib/python3.10/dist-packages (2.0.3)\n",
            "Collecting python-dotenv\n",
            "  Downloading python_dotenv-1.0.1-py3-none-any.whl (19 kB)\n",
            "Collecting pymysql\n",
            "  Downloading PyMySQL-1.1.1-py3-none-any.whl (44 kB)\n",
            "\u001b[2K     \u001b[90m━━━━━━━━━━━━━━━━━━━━━━━━━━━━━━━━━━━━━━━━\u001b[0m \u001b[32m45.0/45.0 kB\u001b[0m \u001b[31m1.9 MB/s\u001b[0m eta \u001b[36m0:00:00\u001b[0m\n",
            "\u001b[?25hRequirement already satisfied: pyarrow in /usr/local/lib/python3.10/dist-packages (14.0.2)\n",
            "Requirement already satisfied: matplotlib in /usr/local/lib/python3.10/dist-packages (3.7.1)\n",
            "Requirement already satisfied: typing-extensions>=4.6.0 in /usr/local/lib/python3.10/dist-packages (from sqlalchemy) (4.12.2)\n",
            "Requirement already satisfied: greenlet!=0.4.17 in /usr/local/lib/python3.10/dist-packages (from sqlalchemy) (3.0.3)\n",
            "Requirement already satisfied: python-dateutil>=2.8.2 in /usr/local/lib/python3.10/dist-packages (from pandas) (2.8.2)\n",
            "Requirement already satisfied: pytz>=2020.1 in /usr/local/lib/python3.10/dist-packages (from pandas) (2023.4)\n",
            "Requirement already satisfied: tzdata>=2022.1 in /usr/local/lib/python3.10/dist-packages (from pandas) (2024.1)\n",
            "Requirement already satisfied: numpy>=1.21.0 in /usr/local/lib/python3.10/dist-packages (from pandas) (1.25.2)\n",
            "Requirement already satisfied: contourpy>=1.0.1 in /usr/local/lib/python3.10/dist-packages (from matplotlib) (1.2.1)\n",
            "Requirement already satisfied: cycler>=0.10 in /usr/local/lib/python3.10/dist-packages (from matplotlib) (0.12.1)\n",
            "Requirement already satisfied: fonttools>=4.22.0 in /usr/local/lib/python3.10/dist-packages (from matplotlib) (4.53.0)\n",
            "Requirement already satisfied: kiwisolver>=1.0.1 in /usr/local/lib/python3.10/dist-packages (from matplotlib) (1.4.5)\n",
            "Requirement already satisfied: packaging>=20.0 in /usr/local/lib/python3.10/dist-packages (from matplotlib) (24.1)\n",
            "Requirement already satisfied: pillow>=6.2.0 in /usr/local/lib/python3.10/dist-packages (from matplotlib) (9.4.0)\n",
            "Requirement already satisfied: pyparsing>=2.3.1 in /usr/local/lib/python3.10/dist-packages (from matplotlib) (3.1.2)\n",
            "Requirement already satisfied: six>=1.5 in /usr/local/lib/python3.10/dist-packages (from python-dateutil>=2.8.2->pandas) (1.16.0)\n",
            "Installing collected packages: python-dotenv, pymysql\n",
            "Successfully installed pymysql-1.1.1 python-dotenv-1.0.1\n"
          ]
        }
      ],
      "source": [
        "%pip install sqlalchemy pandas python-dotenv pymysql pyarrow matplotlib\n",
        "import pandas as pd\n",
        "import pymysql.cursors\n",
        "from getpass import getpass\n",
        "from sqlalchemy import create_engine, text\n",
        "from dotenv import load_dotenv\n",
        "import os\n",
        "import matplotlib.pyplot as plt\n",
        "\n"
      ]
    },
    {
      "cell_type": "code",
      "source": [
        "def connect_to_db():\n",
        "    ### Load credentials\n",
        "    # .env file path\n",
        "    env_path = os.path.join(\"env\", \"credentials.env\")\n",
        "    # Load .env file\n",
        "    load_dotenv(dotenv_path=env_path)\n",
        "\n",
        "\n",
        "    try:\n",
        "        return pymysql.connect(\n",
        "        #host = os.getenv(\"DB_HOST\"),\n",
        "        #user = os.getenv(\"DB_USER\"),\n",
        "        #password = os.getenv(\"DB_PASSWORD\"),\n",
        "        #database =os.getenv(\"DB_NAME\")\n",
        "\n",
        "        host=input(\"host: \"),\n",
        "        user=input(\"Username: \"),\n",
        "        password=getpass(\"Password: \"),\n",
        "        database =\"situation\",\n",
        "                    )\n",
        "    except pymysql.Error as e:\n",
        "        print(e)\n",
        "\n",
        "def get_table():\n",
        "    db_conn= connect_to_db()\n",
        "\n",
        "    select_table_qry=\"SELECT * FROM k11_reaction_kinetics LIMIT 100\"\n",
        "\n",
        "    if not(type(db_conn) == str):\n",
        "      with db_conn:\n",
        "        with db_conn.cursor() as cursor:\n",
        "            cursor.execute(select_table_qry)\n",
        "            result= cursor.fetchall()\n",
        "        return result\n",
        "    else:\n",
        "        return[]\n",
        "\n",
        "\n",
        "\n",
        "def save_data(df):\n",
        "    # Save path for CSV and parquet files\n",
        "    save_path_parquet = \"kinetics_rate_data.parquet\"\n",
        "    save_path_csv = \"kinetics_rate_data.csv\"\n",
        "    df.to_parquet(save_path_parquet)\n",
        "    print(f\"Data (Parquet) successfully saved in '{save_path_parquet}'\")\n",
        "    df.to_csv(save_path_csv, index=False)\n",
        "    print(f\"Data (CSV) successfully saved in '{save_path_csv}'\")"
      ],
      "metadata": {
        "id": "I46Cl7XV5iit"
      },
      "id": "I46Cl7XV5iit",
      "execution_count": 18,
      "outputs": []
    },
    {
      "cell_type": "code",
      "source": [
        "df=pd.DataFrame(get_table())\n",
        "df.rename(columns={0: 'exp_id', 1: 'time',2: 'temperature',3: 'concentration',4: 'reaction_rate'}, inplace=True)\n",
        "print(df)\n",
        "#save_data(df)"
      ],
      "metadata": {
        "colab": {
          "base_uri": "https://localhost:8080/"
        },
        "id": "ngOh4oIR06vT",
        "outputId": "60dfee72-658a-48d9-cac5-3f713ac18edf"
      },
      "id": "ngOh4oIR06vT",
      "execution_count": 27,
      "outputs": [
        {
          "output_type": "stream",
          "name": "stdout",
          "text": [
            "host: den1.mysql6.gear.host\n",
            "Username: situation\n",
            "Password: ··········\n",
            "    exp_id  time  temperature  concentration  reaction_rate\n",
            "0        1   0.0         25.0       1.000000       0.050000\n",
            "1        1   2.0         25.0       0.904837       0.045242\n",
            "2        1   4.0         25.0       0.818731       0.040937\n",
            "3        1   6.0         25.0       0.740818       0.037041\n",
            "4        1   8.0         25.0       0.670320       0.033516\n",
            "5        1  10.0         25.0       0.606531       0.030327\n",
            "6        1  12.0         25.0       0.548812       0.027441\n",
            "7        1  14.0         25.0       0.496585       0.024829\n",
            "8        1  16.0         25.0       0.449329       0.022466\n",
            "9        1  18.0         25.0       0.406570       0.020329\n",
            "10       1  20.0         25.0       0.367879       0.018394\n",
            "11       1  22.0         25.0       0.332871       0.016644\n",
            "12       1  24.0         25.0       0.301194       0.015060\n",
            "13       1  26.0         25.0       0.272532       0.013627\n",
            "14       1  28.0         25.0       0.246597       0.012330\n",
            "15       1  30.0         25.0       0.223130       0.011157\n",
            "16       1  32.0         25.0       0.201897       0.010095\n",
            "17       1  34.0         25.0       0.182683       0.009134\n",
            "18       1  36.0         25.0       0.165299       0.008265\n",
            "19       1  38.0         25.0       0.149569       0.007478\n",
            "20       1  40.0         25.0       0.135335       0.006767\n",
            "21       1  42.0         25.0       0.122456       0.006123\n"
          ]
        }
      ]
    },
    {
      "cell_type": "code",
      "execution_count": 30,
      "id": "dfe00ca4",
      "metadata": {
        "id": "dfe00ca4",
        "outputId": "9169012f-2ce9-4e37-f8bd-41d72e90d251",
        "colab": {
          "base_uri": "https://localhost:8080/",
          "height": 1000
        }
      },
      "outputs": [
        {
          "output_type": "stream",
          "name": "stdout",
          "text": [
            "    exp_id  time  temperature  concentration  reaction_rate\n",
            "0        1   0.0         25.0       1.000000       0.050000\n",
            "1        1   2.0         25.0       0.904837       0.045242\n",
            "2        1   4.0         25.0       0.818731       0.040937\n",
            "3        1   6.0         25.0       0.740818       0.037041\n",
            "4        1   8.0         25.0       0.670320       0.033516\n",
            "5        1  10.0         25.0       0.606531       0.030327\n",
            "6        1  12.0         25.0       0.548812       0.027441\n",
            "7        1  14.0         25.0       0.496585       0.024829\n",
            "8        1  16.0         25.0       0.449329       0.022466\n",
            "9        1  18.0         25.0       0.406570       0.020329\n",
            "10       1  20.0         25.0       0.367879       0.018394\n",
            "11       1  22.0         25.0       0.332871       0.016644\n",
            "12       1  24.0         25.0       0.301194       0.015060\n",
            "13       1  26.0         25.0       0.272532       0.013627\n",
            "14       1  28.0         25.0       0.246597       0.012330\n",
            "15       1  30.0         25.0       0.223130       0.011157\n",
            "16       1  32.0         25.0       0.201897       0.010095\n",
            "17       1  34.0         25.0       0.182683       0.009134\n",
            "18       1  36.0         25.0       0.165299       0.008265\n",
            "19       1  38.0         25.0       0.149569       0.007478\n",
            "20       1  40.0         25.0       0.135335       0.006767\n",
            "21       1  42.0         25.0       0.122456       0.006123\n",
            "Reation Rate: \n",
            " count    22.000000\n",
            "mean      0.021236\n",
            "std       0.013275\n",
            "min       0.006123\n",
            "25%       0.010360\n",
            "50%       0.017519\n",
            "75%       0.029605\n",
            "max       0.050000\n",
            "Name: reaction_rate, dtype: float64 \n",
            "\n",
            "Experiments: \n",
            " exp_id\n",
            "1    22\n",
            "Name: count, dtype: int64 \n",
            "\n"
          ]
        },
        {
          "output_type": "display_data",
          "data": {
            "text/plain": [
              "<Figure size 640x480 with 1 Axes>"
            ],
            "image/png": "[encoded data removed]"
          },
          "metadata": {}
        }
      ],
      "source": [
        "### Read and analyse data\n",
        "\n",
        "#data = pd.read_parquet(save_path_parquet, engine=\"pyarrow\")\n",
        "#data.head(5)\n",
        "print(df)\n",
        "# Summary statistics for affinity and resolution\n",
        "affinity_stats = df['reaction_rate'].describe()\n",
        "\n",
        "# Count of classifications\n",
        "classification_counts = df['exp_id'].value_counts()\n",
        "\n",
        "print(\"Reation Rate: \\n\", affinity_stats, \"\\n\")\n",
        "print(\"Experiments: \\n\", classification_counts, \"\\n\")\n",
        "\n",
        "# Plotting the histogram for affinity\n",
        "plt.hist(df['reaction_rate'], bins=10, edgecolor='black')\n",
        "plt.title('Histogram of Reaction rates')\n",
        "plt.xlabel('Reaction Rate')\n",
        "plt.ylabel('Frequency')\n",
        "plt.show()"
      ]
    }
  ],
  "metadata": {
    "colab": {
      "provenance": []
    },
    "kernelspec": {
      "display_name": "Python 3 (ipykernel)",
      "language": "python",
      "name": "python3"
    },
    "language_info": {
      "codemirror_mode": {
        "name": "ipython",
        "version": 3
      },
      "file_extension": ".py",
      "mimetype": "text/x-python",
      "name": "python",
      "nbconvert_exporter": "python",
      "pygments_lexer": "ipython3",
      "version": "3.9.7"
    }
  },
  "nbformat": 4,
  "nbformat_minor": 5
}