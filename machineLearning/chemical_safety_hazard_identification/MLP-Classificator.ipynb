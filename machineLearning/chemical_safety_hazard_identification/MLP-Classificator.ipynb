{
 "cells": [
  {
   "cell_type": "markdown",
   "id": "78f06ed1-22b1-43cc-a3b0-19d929aeff57",
   "metadata": {},
   "source": [
    "##### Imports:"
   ]
  },
  {
   "cell_type": "code",
   "execution_count": 1,
   "id": "6e020a0e-bf64-49fe-a313-28dd1e35dc56",
   "metadata": {},
   "outputs": [],
   "source": [
    "import pandas as pd\n",
    "from sklearn.model_selection import train_test_split\n",
    "from sklearn.preprocessing import OneHotEncoder\n",
    "from sklearn.neural_network import MLPClassifier\n",
    "from sklearn.metrics import classification_report, accuracy_score"
   ]
  },
  {
   "cell_type": "markdown",
   "id": "88cc7690-3e60-4680-a573-083a1e833a7f",
   "metadata": {},
   "source": [
    "##### MLPClassifier:"
   ]
  },
  {
   "cell_type": "code",
   "execution_count": 2,
   "id": "bc777eb7-03ca-42ae-9fbf-642800df4b5d",
   "metadata": {},
   "outputs": [
    {
     "name": "stdout",
     "output_type": "stream",
     "text": [
      "Accuracy: 33.3333 %\n",
      "\n",
      "Report:\n",
      "              precision    recall  f1-score   support\n",
      "\n",
      "           0       0.00      0.00      0.00         3\n",
      "           1       0.33      1.00      0.50         2\n",
      "           2       0.50      0.29      0.36         7\n",
      "\n",
      "    accuracy                           0.33        12\n",
      "   macro avg       0.28      0.43      0.29        12\n",
      "weighted avg       0.35      0.33      0.30        12\n",
      "\n"
     ]
    }
   ],
   "source": [
    "# Load data\n",
    "csv_file_path = \"data/chemicalsafetydata.csv\"\n",
    "data = pd.read_csv(csv_file_path)\n",
    "\n",
    "# Define features and target variable\n",
    "X = data.drop(columns=[\"ID\", \n",
    "                       \"Label_Class\", \n",
    "                       \"Chemical_Name\", \n",
    "                       \"CAS_Number\", \n",
    "                       \"Data_Source\"])\n",
    "y = data[\"Label_Class\"]\n",
    "\n",
    "X = pd.get_dummies(X)\n",
    "\n",
    "# Split data into train/test set\n",
    "X_train, X_test, y_train, y_test = train_test_split(X,\n",
    "                                                    y, \n",
    "                                                    test_size=0.2, \n",
    "                                                    random_state=42)\n",
    "\n",
    "mlp = MLPClassifier(hidden_layer_sizes=(100,),\n",
    "                    max_iter=1000,\n",
    "                    random_state=42)\n",
    "\n",
    "mlp.fit(X_train, y_train)\n",
    "y_pred = mlp.predict(X_test)\n",
    "\n",
    "accuracy = accuracy_score(y_test, y_pred)\n",
    "report = classification_report(y_test, y_pred)\n",
    "\n",
    "print(f\"Accuracy: {round(accuracy * 100, 4)} %\\n\\nReport:\\n{report}\")"
   ]
  },
  {
   "cell_type": "code",
   "execution_count": null,
   "id": "f078f292-3a7f-4851-86ba-d50cfb4fd913",
   "metadata": {},
   "outputs": [],
   "source": []
  }
 ],
 "metadata": {
  "kernelspec": {
   "display_name": "Python 3 (ipykernel)",
   "language": "python",
   "name": "python3"
  },
  "language_info": {
   "codemirror_mode": {
    "name": "ipython",
    "version": 3
   },
   "file_extension": ".py",
   "mimetype": "text/x-python",
   "name": "python",
   "nbconvert_exporter": "python",
   "pygments_lexer": "ipython3",
   "version": "3.9.19"
  }
 },
 "nbformat": 4,
 "nbformat_minor": 5
}
