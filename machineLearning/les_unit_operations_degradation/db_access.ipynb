{
  "nbformat": 4,
  "nbformat_minor": 0,
  "metadata": {
    "colab": {
      "provenance": []
    },
    "kernelspec": {
      "name": "python3",
      "display_name": "Python 3"
    },
    "language_info": {
      "name": "python"
    }
  },
  "cells": [
    {
      "cell_type": "code",
      "execution_count": 82,
      "metadata": {
        "colab": {
          "base_uri": "https://localhost:8080/"
        },
        "id": "gTbiRmsrEnPf",
        "outputId": "a0debef5-ccda-402b-d1af-e76a9951d56d"
      },
      "outputs": [
        {
          "output_type": "stream",
          "name": "stdout",
          "text": [
            "Requirement already satisfied: pymysql in /usr/local/lib/python3.10/dist-packages (1.1.1)\n",
            "Requirement already satisfied: pandas in /usr/local/lib/python3.10/dist-packages (2.0.3)\n",
            "Requirement already satisfied: python-dateutil>=2.8.2 in /usr/local/lib/python3.10/dist-packages (from pandas) (2.8.2)\n",
            "Requirement already satisfied: pytz>=2020.1 in /usr/local/lib/python3.10/dist-packages (from pandas) (2023.4)\n",
            "Requirement already satisfied: tzdata>=2022.1 in /usr/local/lib/python3.10/dist-packages (from pandas) (2024.1)\n",
            "Requirement already satisfied: numpy>=1.21.0 in /usr/local/lib/python3.10/dist-packages (from pandas) (1.25.2)\n",
            "Requirement already satisfied: six>=1.5 in /usr/local/lib/python3.10/dist-packages (from python-dateutil>=2.8.2->pandas) (1.16.0)\n"
          ]
        }
      ],
      "source": [
        "!pip install pymysql pandas"
      ]
    },
    {
      "cell_type": "code",
      "source": [
        "import pandas as pd\n",
        "import os\n",
        "from sqlalchemy import create_engine,text\n",
        "from sqlalchemy import URL, create_engine"
      ],
      "metadata": {
        "id": "gAErEe19g7nL"
      },
      "execution_count": 83,
      "outputs": []
    },
    {
      "cell_type": "markdown",
      "source": [
        "# Database connection information"
      ],
      "metadata": {
        "id": "IJvKJavKzqJA"
      }
    },
    {
      "cell_type": "code",
      "source": [
        "DB_HOST = \"den1.mysql6.gear.host\"\n",
        "DB_NAME = \"situation\"\n",
        "DB_USER = \"situation\"\n",
        "DB_PASSWORD = input(\"Enter your database password: \")"
      ],
      "metadata": {
        "colab": {
          "base_uri": "https://localhost:8080/"
        },
        "id": "MMCo-nfGZN1f",
        "outputId": "aa2ad1ce-5e54-4101-fe19-ac749a1b307d"
      },
      "execution_count": 84,
      "outputs": [
        {
          "name": "stdout",
          "output_type": "stream",
          "text": [
            "Enter your database password: aichem567.\n"
          ]
        }
      ]
    },
    {
      "cell_type": "code",
      "source": [
        "# Establish connection to the database\n",
        "DATABASE_URI = f\"mysql+pymysql://{DB_USER}:{DB_PASSWORD}@{DB_HOST}/{DB_NAME}\"\n",
        "engine = create_engine(DATABASE_URI)"
      ],
      "metadata": {
        "id": "ZYeqTUHavXdL"
      },
      "execution_count": 85,
      "outputs": []
    },
    {
      "cell_type": "markdown",
      "source": [
        "# Fetch data from the database using read_sql_table"
      ],
      "metadata": {
        "id": "D9NBKcldz385"
      }
    },
    {
      "cell_type": "code",
      "source": [
        "df_degradation = pd.read_sql_table('g7_les_unit_operations_degradation', engine)\n",
        "df_params = pd.read_sql_table('g7_les_uo_params', engine)"
      ],
      "metadata": {
        "id": "q7OXrVCtvcfv"
      },
      "execution_count": 86,
      "outputs": []
    },
    {
      "cell_type": "code",
      "source": [
        "# display the first rows of the DataFrames\n",
        "print(\"Degradation Data:\")\n",
        "print(df_degradation.head())\n",
        "\n",
        "print(\"\\nParameters Data:\")\n",
        "print(df_params.head())"
      ],
      "metadata": {
        "colab": {
          "base_uri": "https://localhost:8080/"
        },
        "id": "Vxh5ZEkBv7rE",
        "outputId": "8ef038eb-4d20-4d53-ec26-2c86443fbae4"
      },
      "execution_count": 87,
      "outputs": [
        {
          "output_type": "stream",
          "name": "stdout",
          "text": [
            "Degradation Data:\n",
            "   id reactor_robot_id experiment_group workflow_step parameter_name  \\\n",
            "0   1            RR101           Group2         Step1      Viscosity   \n",
            "1   2            RR104           Group3         Step1      Viscosity   \n",
            "2   3            RR102           Group1         Step1       Pressure   \n",
            "3   4            RR101           Group2         Step1      Viscosity   \n",
            "4   5            RR104           Group2         Step1       Pressure   \n",
            "\n",
            "   parameter_value      execution_time  inefficiency_score  \n",
            "0       344.139346 2024-05-13 11:30:53            0.087365  \n",
            "1       218.951722 2024-05-13 11:35:53            0.023142  \n",
            "2       364.330959 2024-05-13 11:40:53            0.142511  \n",
            "3       274.381862 2024-05-13 11:45:53            0.096173  \n",
            "4       364.520609 2024-05-13 11:50:53            0.147191  \n",
            "\n",
            "Parameters Data:\n",
            "  Unit_Operation_ID        UOName  \\\n",
            "0             UO001  Distillation   \n",
            "1             UO002           Dry   \n",
            "2             UO003        Mixing   \n",
            "3             UO004       Washing   \n",
            "4             UO005      Weighing   \n",
            "\n",
            "                                       UODescription  \\\n",
            "0  Separation of components in a liquid mixture b...   \n",
            "1      Removal of moisture or water from a substance   \n",
            "2  Combine two or more substances to create a hom...   \n",
            "3  Removal of impurities, unwanted substances, or...   \n",
            "4  Transfer specific amounts of powder or liquid ...   \n",
            "\n",
            "                                            UOParams  \n",
            "0  ['Mixture', 'Temperature', 'Pressure', 'Heatin...  \n",
            "1  ['Product', 'DryingMethod', 'DryingTemperature...  \n",
            "2  [{'Ingredients' : {'Ingredient': {'Name', 'Qua...  \n",
            "3  ['MaterialToBeWashed', 'Impurities', 'WashingS...  \n",
            "4  ['Substance', 'Amount', 'Duration', 'BalanceTy...  \n"
          ]
        }
      ]
    },
    {
      "cell_type": "code",
      "source": [
        "# display column names\n",
        "print(\"\\nColumn names of df_degradation:\")\n",
        "print(df_degradation.columns)\n",
        "\n",
        "print(\"\\nColumn names of df_params:\")\n",
        "print(df_params.columns)"
      ],
      "metadata": {
        "colab": {
          "base_uri": "https://localhost:8080/"
        },
        "id": "XDNY-K8ev-Nd",
        "outputId": "db25d4e1-4e28-4253-9315-2a8b20770d0b"
      },
      "execution_count": 88,
      "outputs": [
        {
          "output_type": "stream",
          "name": "stdout",
          "text": [
            "\n",
            "Column names of df_degradation:\n",
            "Index(['id', 'reactor_robot_id', 'experiment_group', 'workflow_step',\n",
            "       'parameter_name', 'parameter_value', 'execution_time',\n",
            "       'inefficiency_score'],\n",
            "      dtype='object')\n",
            "\n",
            "Column names of df_params:\n",
            "Index(['Unit_Operation_ID', 'UOName', 'UODescription', 'UOParams'], dtype='object')\n"
          ]
        }
      ]
    },
    {
      "cell_type": "markdown",
      "source": [
        "# CSV files"
      ],
      "metadata": {
        "id": "pYZkDaUK0ele"
      }
    },
    {
      "cell_type": "code",
      "source": [
        "# reate CSV files\n",
        "df_degradation.to_csv(\"g7_les_unit_operations_degradation.csv\", index=False)\n",
        "df_params.to_csv(\"g7_les_uo_params.csv\", index=False)"
      ],
      "metadata": {
        "id": "ptJJUzI40kI3"
      },
      "execution_count": 89,
      "outputs": []
    },
    {
      "cell_type": "code",
      "source": [
        "# read CSV files\n",
        "read_df_degradation = pd.read_csv(\"g7_les_unit_operations_degradation.csv\")\n",
        "read_df_params = pd.read_csv(\"g7_les_uo_params.csv\")"
      ],
      "metadata": {
        "id": "bvBfUDcP0rpy"
      },
      "execution_count": 90,
      "outputs": []
    },
    {
      "cell_type": "code",
      "source": [
        "# display the first rows of the read DataFrames\n",
        "print(\"\\nRead Degradation Data:\")\n",
        "print(read_df_degradation.head())\n",
        "\n",
        "print(\"\\nRead Parameters Data:\")\n",
        "print(read_df_params.head())"
      ],
      "metadata": {
        "colab": {
          "base_uri": "https://localhost:8080/"
        },
        "id": "7RVEo-4S0zs3",
        "outputId": "63854b22-2b8c-4b64-9b6d-b6e5eb88118e"
      },
      "execution_count": 91,
      "outputs": [
        {
          "output_type": "stream",
          "name": "stdout",
          "text": [
            "\n",
            "Read Degradation Data:\n",
            "   id reactor_robot_id experiment_group workflow_step parameter_name  \\\n",
            "0   1            RR101           Group2         Step1      Viscosity   \n",
            "1   2            RR104           Group3         Step1      Viscosity   \n",
            "2   3            RR102           Group1         Step1       Pressure   \n",
            "3   4            RR101           Group2         Step1      Viscosity   \n",
            "4   5            RR104           Group2         Step1       Pressure   \n",
            "\n",
            "   parameter_value       execution_time  inefficiency_score  \n",
            "0       344.139346  2024-05-13 11:30:53            0.087365  \n",
            "1       218.951722  2024-05-13 11:35:53            0.023142  \n",
            "2       364.330959  2024-05-13 11:40:53            0.142511  \n",
            "3       274.381862  2024-05-13 11:45:53            0.096173  \n",
            "4       364.520609  2024-05-13 11:50:53            0.147191  \n",
            "\n",
            "Read Parameters Data:\n",
            "  Unit_Operation_ID        UOName  \\\n",
            "0             UO001  Distillation   \n",
            "1             UO002           Dry   \n",
            "2             UO003        Mixing   \n",
            "3             UO004       Washing   \n",
            "4             UO005      Weighing   \n",
            "\n",
            "                                       UODescription  \\\n",
            "0  Separation of components in a liquid mixture b...   \n",
            "1      Removal of moisture or water from a substance   \n",
            "2  Combine two or more substances to create a hom...   \n",
            "3  Removal of impurities, unwanted substances, or...   \n",
            "4  Transfer specific amounts of powder or liquid ...   \n",
            "\n",
            "                                            UOParams  \n",
            "0  ['Mixture', 'Temperature', 'Pressure', 'Heatin...  \n",
            "1  ['Product', 'DryingMethod', 'DryingTemperature...  \n",
            "2  [{'Ingredients' : {'Ingredient': {'Name', 'Qua...  \n",
            "3  ['MaterialToBeWashed', 'Impurities', 'WashingS...  \n",
            "4  ['Substance', 'Amount', 'Duration', 'BalanceTy...  \n"
          ]
        }
      ]
    },
    {
      "cell_type": "markdown",
      "source": [
        "# Extract features and target variable"
      ],
      "metadata": {
        "id": "hH55sPnS1aaf"
      }
    },
    {
      "cell_type": "code",
      "source": [
        "if 'UOParams' in df_params.columns:\n",
        "    features = df_params[['UOParams']]\n",
        "else:\n",
        "    print(\"Column 'UOParams' not found in df_params. Available columns are:\", df_params.columns)\n",
        "    features = pd.DataFrame()  # Empty DataFrame for features\n",
        "\n",
        "if 'inefficiency_score' in df_degradation.columns:\n",
        "    target = df_degradation['inefficiency_score']\n",
        "else:\n",
        "    print(\"Column 'inefficiency_score' not found in df_degradation. Available columns are:\", df_degradation.columns)\n",
        "    target = pd.Series()  # Empty Series for target\n",
        "\n",
        "print(\"\\nFeatures:\")\n",
        "if not features.empty:\n",
        "    print(features.head())\n",
        "else:\n",
        "    print(\"No features available.\")\n",
        "\n",
        "print(\"\\nTarget:\")\n",
        "if not target.empty:\n",
        "    print(target.head())\n",
        "else:\n",
        "    print(\"No target variable available.\")"
      ],
      "metadata": {
        "colab": {
          "base_uri": "https://localhost:8080/"
        },
        "id": "HbWiuFk71bVx",
        "outputId": "d4d25a3d-de23-4633-d736-d8755c55f8fa"
      },
      "execution_count": 92,
      "outputs": [
        {
          "output_type": "stream",
          "name": "stdout",
          "text": [
            "\n",
            "Features:\n",
            "                                            UOParams\n",
            "0  ['Mixture', 'Temperature', 'Pressure', 'Heatin...\n",
            "1  ['Product', 'DryingMethod', 'DryingTemperature...\n",
            "2  [{'Ingredients' : {'Ingredient': {'Name', 'Qua...\n",
            "3  ['MaterialToBeWashed', 'Impurities', 'WashingS...\n",
            "4  ['Substance', 'Amount', 'Duration', 'BalanceTy...\n",
            "\n",
            "Target:\n",
            "0    0.087365\n",
            "1    0.023142\n",
            "2    0.142511\n",
            "3    0.096173\n",
            "4    0.147191\n",
            "Name: inefficiency_score, dtype: float64\n"
          ]
        }
      ]
    }
  ]
}