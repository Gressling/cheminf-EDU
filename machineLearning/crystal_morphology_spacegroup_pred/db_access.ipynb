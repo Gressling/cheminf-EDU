{
 "cells": [
  {
   "cell_type": "code",
   "id": "652f9e8a-2d45-4429-a93f-efa330b8c8d1",
   "metadata": {
    "ExecuteTime": {
     "end_time": "2024-06-07T11:54:04.097146Z",
     "start_time": "2024-06-07T11:54:04.093699Z"
    }
   },
   "source": [
    "import pandas as pd\n",
    "from sqlalchemy import URL, create_engine\n",
    "import os"
   ],
   "outputs": [],
   "execution_count": 13
  },
  {
   "cell_type": "code",
   "id": "d74ded16-24fc-4663-b037-cccbcf397900",
   "metadata": {
    "ExecuteTime": {
     "end_time": "2024-06-07T11:57:08.609112Z",
     "start_time": "2024-06-07T11:57:08.606406Z"
    }
   },
   "source": [
    "DATA_DIR = \"data/\"\n",
    "DATA_FILE = \"data.csv\""
   ],
   "outputs": [],
   "execution_count": 23
  },
  {
   "metadata": {
    "ExecuteTime": {
     "end_time": "2024-06-07T11:57:19.610033Z",
     "start_time": "2024-06-07T11:57:19.606835Z"
    }
   },
   "cell_type": "code",
   "source": "file_path_df = DATA_DIR + DATA_FILE",
   "id": "bfb0a74230c65da7",
   "outputs": [],
   "execution_count": 24
  },
  {
   "metadata": {
    "ExecuteTime": {
     "end_time": "2024-06-07T11:57:21.021498Z",
     "start_time": "2024-06-07T11:57:21.018253Z"
    }
   },
   "cell_type": "code",
   "source": [
    "if not os.path.exists(DATA_DIR):\n",
    "    os.mkdir(DATA_DIR)"
   ],
   "id": "e80afb23bcd9e72e",
   "outputs": [],
   "execution_count": 25
  },
  {
   "cell_type": "markdown",
   "id": "12364c02-ca4d-46a8-bdf3-fe0cd992aeab",
   "metadata": {},
   "source": [
    "# 1. Create connection to MySQL database"
   ]
  },
  {
   "cell_type": "code",
   "id": "3cea12d5-0a66-4254-9e84-8ce19e7e25b9",
   "metadata": {
    "ExecuteTime": {
     "end_time": "2024-06-07T11:54:43.605247Z",
     "start_time": "2024-06-07T11:54:16.141857Z"
    }
   },
   "source": [
    "password = input(\"Password: \")"
   ],
   "outputs": [],
   "execution_count": 16
  },
  {
   "cell_type": "code",
   "id": "02b3cd42-550b-43ed-a33b-e6e3fecb312f",
   "metadata": {
    "ExecuteTime": {
     "end_time": "2024-06-07T11:54:51.376766Z",
     "start_time": "2024-06-07T11:54:51.372974Z"
    }
   },
   "source": [
    "DATABASE_URI = URL.create(\n",
    "    \"mysql+pymysql\",\n",
    "    username=\"situation\",\n",
    "    password=password,\n",
    "    host=\"den1.mysql6.gear.host\",\n",
    "    database=\"situation\",\n",
    ")"
   ],
   "outputs": [],
   "execution_count": 17
  },
  {
   "cell_type": "code",
   "id": "7cace38c-6100-40ac-995f-b7c97eccc91d",
   "metadata": {
    "ExecuteTime": {
     "end_time": "2024-06-07T11:54:53.436693Z",
     "start_time": "2024-06-07T11:54:53.433336Z"
    }
   },
   "source": [
    "engine = create_engine(DATABASE_URI)"
   ],
   "outputs": [],
   "execution_count": 18
  },
  {
   "cell_type": "markdown",
   "id": "703c4b8c-d3b8-4dfd-b12e-20ae115a82e8",
   "metadata": {},
   "source": [
    "# 2. Get Table as pandas DataFrame"
   ]
  },
  {
   "cell_type": "code",
   "id": "526fd642-d921-4f6e-9c33-af3e311d1f7f",
   "metadata": {
    "ExecuteTime": {
     "end_time": "2024-06-07T11:54:58.134262Z",
     "start_time": "2024-06-07T11:54:55.598407Z"
    }
   },
   "source": [
    "df = pd.read_sql_table('j10_crystalmorphology', engine)\n",
    "df.head()"
   ],
   "outputs": [
    {
     "data": {
      "text/plain": [
       "   id                                             bitmap spacegroup\n",
       "0   1  b'76,181,54,74,59,59,187,198,37,74,56,86,139,1...         P2\n",
       "1   2  b'48,118,142,11,188,190,179,136,28,16,116,103,...         P2\n",
       "2   3  b'148,102,46,195,120,63,85,123,88,98,119,204,1...         P2\n",
       "3   4  b'142,131,92,86,1,148,78,145,92,191,184,44,85,...         P2\n",
       "4   5  b'113,57,28,67,142,129,178,26,32,107,182,153,1...         P2"
      ],
      "text/html": [
       "<div>\n",
       "<style scoped>\n",
       "    .dataframe tbody tr th:only-of-type {\n",
       "        vertical-align: middle;\n",
       "    }\n",
       "\n",
       "    .dataframe tbody tr th {\n",
       "        vertical-align: top;\n",
       "    }\n",
       "\n",
       "    .dataframe thead th {\n",
       "        text-align: right;\n",
       "    }\n",
       "</style>\n",
       "<table border=\"1\" class=\"dataframe\">\n",
       "  <thead>\n",
       "    <tr style=\"text-align: right;\">\n",
       "      <th></th>\n",
       "      <th>id</th>\n",
       "      <th>bitmap</th>\n",
       "      <th>spacegroup</th>\n",
       "    </tr>\n",
       "  </thead>\n",
       "  <tbody>\n",
       "    <tr>\n",
       "      <th>0</th>\n",
       "      <td>1</td>\n",
       "      <td>b'76,181,54,74,59,59,187,198,37,74,56,86,139,1...</td>\n",
       "      <td>P2</td>\n",
       "    </tr>\n",
       "    <tr>\n",
       "      <th>1</th>\n",
       "      <td>2</td>\n",
       "      <td>b'48,118,142,11,188,190,179,136,28,16,116,103,...</td>\n",
       "      <td>P2</td>\n",
       "    </tr>\n",
       "    <tr>\n",
       "      <th>2</th>\n",
       "      <td>3</td>\n",
       "      <td>b'148,102,46,195,120,63,85,123,88,98,119,204,1...</td>\n",
       "      <td>P2</td>\n",
       "    </tr>\n",
       "    <tr>\n",
       "      <th>3</th>\n",
       "      <td>4</td>\n",
       "      <td>b'142,131,92,86,1,148,78,145,92,191,184,44,85,...</td>\n",
       "      <td>P2</td>\n",
       "    </tr>\n",
       "    <tr>\n",
       "      <th>4</th>\n",
       "      <td>5</td>\n",
       "      <td>b'113,57,28,67,142,129,178,26,32,107,182,153,1...</td>\n",
       "      <td>P2</td>\n",
       "    </tr>\n",
       "  </tbody>\n",
       "</table>\n",
       "</div>"
      ]
     },
     "execution_count": 19,
     "metadata": {},
     "output_type": "execute_result"
    }
   ],
   "execution_count": 19
  },
  {
   "cell_type": "markdown",
   "id": "ef608129-aacf-4193-97f5-a5c666124b25",
   "metadata": {},
   "source": [
    "# 3. Save DataFrame as a file"
   ]
  },
  {
   "cell_type": "code",
   "id": "acaa6115-71d2-46b8-9bb0-80d0d6727ea8",
   "metadata": {
    "ExecuteTime": {
     "end_time": "2024-06-07T11:55:00.613168Z",
     "start_time": "2024-06-07T11:55:00.607572Z"
    }
   },
   "source": [
    "df.to_csv(file_path_df, index=False)"
   ],
   "outputs": [],
   "execution_count": 20
  },
  {
   "cell_type": "markdown",
   "id": "9c2176ab-73b5-410e-9551-69b2e14234f0",
   "metadata": {},
   "source": [
    "# 4. Read In DataFrame from file"
   ]
  },
  {
   "cell_type": "code",
   "id": "82f49f36-a692-4a37-bc47-43404d291b9c",
   "metadata": {
    "ExecuteTime": {
     "end_time": "2024-06-07T11:57:26.037829Z",
     "start_time": "2024-06-07T11:57:26.027668Z"
    }
   },
   "source": [
    "read_df = pd.read_csv(file_path_df)\n",
    "read_df.head()"
   ],
   "outputs": [
    {
     "data": {
      "text/plain": [
       "   id                                             bitmap spacegroup\n",
       "0   1  b'76,181,54,74,59,59,187,198,37,74,56,86,139,1...         P2\n",
       "1   2  b'48,118,142,11,188,190,179,136,28,16,116,103,...         P2\n",
       "2   3  b'148,102,46,195,120,63,85,123,88,98,119,204,1...         P2\n",
       "3   4  b'142,131,92,86,1,148,78,145,92,191,184,44,85,...         P2\n",
       "4   5  b'113,57,28,67,142,129,178,26,32,107,182,153,1...         P2"
      ],
      "text/html": [
       "<div>\n",
       "<style scoped>\n",
       "    .dataframe tbody tr th:only-of-type {\n",
       "        vertical-align: middle;\n",
       "    }\n",
       "\n",
       "    .dataframe tbody tr th {\n",
       "        vertical-align: top;\n",
       "    }\n",
       "\n",
       "    .dataframe thead th {\n",
       "        text-align: right;\n",
       "    }\n",
       "</style>\n",
       "<table border=\"1\" class=\"dataframe\">\n",
       "  <thead>\n",
       "    <tr style=\"text-align: right;\">\n",
       "      <th></th>\n",
       "      <th>id</th>\n",
       "      <th>bitmap</th>\n",
       "      <th>spacegroup</th>\n",
       "    </tr>\n",
       "  </thead>\n",
       "  <tbody>\n",
       "    <tr>\n",
       "      <th>0</th>\n",
       "      <td>1</td>\n",
       "      <td>b'76,181,54,74,59,59,187,198,37,74,56,86,139,1...</td>\n",
       "      <td>P2</td>\n",
       "    </tr>\n",
       "    <tr>\n",
       "      <th>1</th>\n",
       "      <td>2</td>\n",
       "      <td>b'48,118,142,11,188,190,179,136,28,16,116,103,...</td>\n",
       "      <td>P2</td>\n",
       "    </tr>\n",
       "    <tr>\n",
       "      <th>2</th>\n",
       "      <td>3</td>\n",
       "      <td>b'148,102,46,195,120,63,85,123,88,98,119,204,1...</td>\n",
       "      <td>P2</td>\n",
       "    </tr>\n",
       "    <tr>\n",
       "      <th>3</th>\n",
       "      <td>4</td>\n",
       "      <td>b'142,131,92,86,1,148,78,145,92,191,184,44,85,...</td>\n",
       "      <td>P2</td>\n",
       "    </tr>\n",
       "    <tr>\n",
       "      <th>4</th>\n",
       "      <td>5</td>\n",
       "      <td>b'113,57,28,67,142,129,178,26,32,107,182,153,1...</td>\n",
       "      <td>P2</td>\n",
       "    </tr>\n",
       "  </tbody>\n",
       "</table>\n",
       "</div>"
      ]
     },
     "execution_count": 26,
     "metadata": {},
     "output_type": "execute_result"
    }
   ],
   "execution_count": 26
  },
  {
   "cell_type": "code",
   "execution_count": null,
   "id": "244363f2-bfe4-4a90-bc56-0c49eeae7da9",
   "metadata": {},
   "outputs": [],
   "source": []
  },
  {
   "cell_type": "code",
   "execution_count": null,
   "id": "e8387208-268e-4c3f-86bf-8cb53eeb37a8",
   "metadata": {},
   "outputs": [],
   "source": []
  }
 ],
 "metadata": {
  "kernelspec": {
   "display_name": "Python 3 (ipykernel)",
   "language": "python",
   "name": "python3"
  },
  "language_info": {
   "codemirror_mode": {
    "name": "ipython",
    "version": 3
   },
   "file_extension": ".py",
   "mimetype": "text/x-python",
   "name": "python",
   "nbconvert_exporter": "python",
   "pygments_lexer": "ipython3",
   "version": "3.11.7"
  }
 },
 "nbformat": 4,
 "nbformat_minor": 5
}
