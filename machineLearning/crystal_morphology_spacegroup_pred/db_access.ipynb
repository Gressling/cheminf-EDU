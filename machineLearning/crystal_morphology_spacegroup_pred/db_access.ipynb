{
 "cells": [
  {
   "cell_type": "code",
   "execution_count": 12,
   "id": "652f9e8a-2d45-4429-a93f-efa330b8c8d1",
   "metadata": {},
   "outputs": [],
   "source": [
    "import pandas as pd\n",
    "from sqlalchemy import URL, create_engine"
   ]
  },
  {
   "cell_type": "code",
   "execution_count": 33,
   "id": "d74ded16-24fc-4663-b037-cccbcf397900",
   "metadata": {},
   "outputs": [],
   "source": [
    "file_path_df = \"data.csv\""
   ]
  },
  {
   "cell_type": "markdown",
   "id": "12364c02-ca4d-46a8-bdf3-fe0cd992aeab",
   "metadata": {},
   "source": [
    "# 1. Create connection to MySQL database"
   ]
  },
  {
   "cell_type": "code",
   "execution_count": 40,
   "id": "02b3cd42-550b-43ed-a33b-e6e3fecb312f",
   "metadata": {},
   "outputs": [],
   "source": [
    "DATABASE_URI = URL.create(\n",
    "    \"mysql+pymysql\",\n",
    "    username=\"situation\",\n",
    "    password=\"cogni88.\",  # plain (unescaped) text\n",
    "    host=\"den1.mysql6.gear.host\",\n",
    "    database=\"situation\",\n",
    ")"
   ]
  },
  {
   "cell_type": "code",
   "execution_count": 41,
   "id": "7cace38c-6100-40ac-995f-b7c97eccc91d",
   "metadata": {},
   "outputs": [],
   "source": [
    "engine = create_engine(DATABASE_URI)"
   ]
  },
  {
   "cell_type": "markdown",
   "id": "703c4b8c-d3b8-4dfd-b12e-20ae115a82e8",
   "metadata": {},
   "source": [
    "# 2. Get Table as pandas DataFrame"
   ]
  },
  {
   "cell_type": "code",
   "execution_count": 42,
   "id": "526fd642-d921-4f6e-9c33-af3e311d1f7f",
   "metadata": {},
   "outputs": [
    {
     "data": {
      "text/html": [
       "<div>\n",
       "<style scoped>\n",
       "    .dataframe tbody tr th:only-of-type {\n",
       "        vertical-align: middle;\n",
       "    }\n",
       "\n",
       "    .dataframe tbody tr th {\n",
       "        vertical-align: top;\n",
       "    }\n",
       "\n",
       "    .dataframe thead th {\n",
       "        text-align: right;\n",
       "    }\n",
       "</style>\n",
       "<table border=\"1\" class=\"dataframe\">\n",
       "  <thead>\n",
       "    <tr style=\"text-align: right;\">\n",
       "      <th></th>\n",
       "      <th>id</th>\n",
       "      <th>bitmap</th>\n",
       "      <th>spacegroup</th>\n",
       "    </tr>\n",
       "  </thead>\n",
       "  <tbody>\n",
       "    <tr>\n",
       "      <th>0</th>\n",
       "      <td>1</td>\n",
       "      <td>b'76,181,54,74,59,59,187,198,37,74,56,86,139,1...</td>\n",
       "      <td>P2</td>\n",
       "    </tr>\n",
       "    <tr>\n",
       "      <th>1</th>\n",
       "      <td>2</td>\n",
       "      <td>b'48,118,142,11,188,190,179,136,28,16,116,103,...</td>\n",
       "      <td>P2</td>\n",
       "    </tr>\n",
       "    <tr>\n",
       "      <th>2</th>\n",
       "      <td>3</td>\n",
       "      <td>b'148,102,46,195,120,63,85,123,88,98,119,204,1...</td>\n",
       "      <td>P2</td>\n",
       "    </tr>\n",
       "    <tr>\n",
       "      <th>3</th>\n",
       "      <td>4</td>\n",
       "      <td>b'142,131,92,86,1,148,78,145,92,191,184,44,85,...</td>\n",
       "      <td>P2</td>\n",
       "    </tr>\n",
       "    <tr>\n",
       "      <th>4</th>\n",
       "      <td>5</td>\n",
       "      <td>b'113,57,28,67,142,129,178,26,32,107,182,153,1...</td>\n",
       "      <td>P2</td>\n",
       "    </tr>\n",
       "  </tbody>\n",
       "</table>\n",
       "</div>"
      ],
      "text/plain": [
       "   id                                             bitmap spacegroup\n",
       "0   1  b'76,181,54,74,59,59,187,198,37,74,56,86,139,1...         P2\n",
       "1   2  b'48,118,142,11,188,190,179,136,28,16,116,103,...         P2\n",
       "2   3  b'148,102,46,195,120,63,85,123,88,98,119,204,1...         P2\n",
       "3   4  b'142,131,92,86,1,148,78,145,92,191,184,44,85,...         P2\n",
       "4   5  b'113,57,28,67,142,129,178,26,32,107,182,153,1...         P2"
      ]
     },
     "execution_count": 42,
     "metadata": {},
     "output_type": "execute_result"
    }
   ],
   "source": [
    "df = pd.read_sql_table('j10_crystalmorphology', engine)\n",
    "df.head()"
   ]
  },
  {
   "cell_type": "markdown",
   "id": "ef608129-aacf-4193-97f5-a5c666124b25",
   "metadata": {},
   "source": [
    "# 3. Save DataFrame as a file"
   ]
  },
  {
   "cell_type": "code",
   "execution_count": 43,
   "id": "acaa6115-71d2-46b8-9bb0-80d0d6727ea8",
   "metadata": {},
   "outputs": [],
   "source": [
    "df.to_csv(file_path_df, index=False)"
   ]
  },
  {
   "cell_type": "markdown",
   "id": "9c2176ab-73b5-410e-9551-69b2e14234f0",
   "metadata": {},
   "source": [
    "# 4. Read In DataFrame from file"
   ]
  },
  {
   "cell_type": "code",
   "execution_count": 46,
   "id": "82f49f36-a692-4a37-bc47-43404d291b9c",
   "metadata": {},
   "outputs": [
    {
     "data": {
      "text/html": [
       "<div>\n",
       "<style scoped>\n",
       "    .dataframe tbody tr th:only-of-type {\n",
       "        vertical-align: middle;\n",
       "    }\n",
       "\n",
       "    .dataframe tbody tr th {\n",
       "        vertical-align: top;\n",
       "    }\n",
       "\n",
       "    .dataframe thead th {\n",
       "        text-align: right;\n",
       "    }\n",
       "</style>\n",
       "<table border=\"1\" class=\"dataframe\">\n",
       "  <thead>\n",
       "    <tr style=\"text-align: right;\">\n",
       "      <th></th>\n",
       "      <th>id</th>\n",
       "      <th>bitmap</th>\n",
       "      <th>spacegroup</th>\n",
       "    </tr>\n",
       "  </thead>\n",
       "  <tbody>\n",
       "    <tr>\n",
       "      <th>0</th>\n",
       "      <td>1</td>\n",
       "      <td>b'76,181,54,74,59,59,187,198,37,74,56,86,139,1...</td>\n",
       "      <td>P2</td>\n",
       "    </tr>\n",
       "    <tr>\n",
       "      <th>1</th>\n",
       "      <td>2</td>\n",
       "      <td>b'48,118,142,11,188,190,179,136,28,16,116,103,...</td>\n",
       "      <td>P2</td>\n",
       "    </tr>\n",
       "    <tr>\n",
       "      <th>2</th>\n",
       "      <td>3</td>\n",
       "      <td>b'148,102,46,195,120,63,85,123,88,98,119,204,1...</td>\n",
       "      <td>P2</td>\n",
       "    </tr>\n",
       "    <tr>\n",
       "      <th>3</th>\n",
       "      <td>4</td>\n",
       "      <td>b'142,131,92,86,1,148,78,145,92,191,184,44,85,...</td>\n",
       "      <td>P2</td>\n",
       "    </tr>\n",
       "    <tr>\n",
       "      <th>4</th>\n",
       "      <td>5</td>\n",
       "      <td>b'113,57,28,67,142,129,178,26,32,107,182,153,1...</td>\n",
       "      <td>P2</td>\n",
       "    </tr>\n",
       "  </tbody>\n",
       "</table>\n",
       "</div>"
      ],
      "text/plain": [
       "   id                                             bitmap spacegroup\n",
       "0   1  b'76,181,54,74,59,59,187,198,37,74,56,86,139,1...         P2\n",
       "1   2  b'48,118,142,11,188,190,179,136,28,16,116,103,...         P2\n",
       "2   3  b'148,102,46,195,120,63,85,123,88,98,119,204,1...         P2\n",
       "3   4  b'142,131,92,86,1,148,78,145,92,191,184,44,85,...         P2\n",
       "4   5  b'113,57,28,67,142,129,178,26,32,107,182,153,1...         P2"
      ]
     },
     "execution_count": 46,
     "metadata": {},
     "output_type": "execute_result"
    }
   ],
   "source": [
    "read_df = pd.read_csv(file_path_df)\n",
    "read_df.head()"
   ]
  },
  {
   "cell_type": "code",
   "execution_count": null,
   "id": "244363f2-bfe4-4a90-bc56-0c49eeae7da9",
   "metadata": {},
   "outputs": [],
   "source": []
  },
  {
   "cell_type": "code",
   "execution_count": null,
   "id": "e8387208-268e-4c3f-86bf-8cb53eeb37a8",
   "metadata": {},
   "outputs": [],
   "source": []
  }
 ],
 "metadata": {
  "kernelspec": {
   "display_name": "Python 3 (ipykernel)",
   "language": "python",
   "name": "python3"
  },
  "language_info": {
   "codemirror_mode": {
    "name": "ipython",
    "version": 3
   },
   "file_extension": ".py",
   "mimetype": "text/x-python",
   "name": "python",
   "nbconvert_exporter": "python",
   "pygments_lexer": "ipython3",
   "version": "3.11.7"
  }
 },
 "nbformat": 4,
 "nbformat_minor": 5
}
