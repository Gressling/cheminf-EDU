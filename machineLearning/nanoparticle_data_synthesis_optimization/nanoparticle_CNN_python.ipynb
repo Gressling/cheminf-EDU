{
  "nbformat": 4,
  "nbformat_minor": 0,
  "metadata": {
    "colab": {
      "provenance": [],
      "authorship_tag": "ABX9TyOlBxWzaoGOZHgO1WXDoz81",
      "include_colab_link": true
    },
    "kernelspec": {
      "name": "python3",
      "display_name": "Python 3"
    },
    "language_info": {
      "name": "python"
    }
  },
  "cells": [
    {
      "cell_type": "markdown",
      "metadata": {
        "id": "view-in-github",
        "colab_type": "text"
      },
      "source": [
        "<a href=\"https://colab.research.google.com/github/Gressling/cheminf-EDU/blob/main/machineLearning/nanoparticle_data_synthesis_optimization/nanoparticle_CNN_python.ipynb\" target=\"_parent\"><img src=\"https://colab.research.google.com/assets/colab-badge.svg\" alt=\"Open In Colab\"/></a>"
      ]
    },
    {
      "cell_type": "markdown",
      "source": [
        "# Optimisation of nanoparticle synthesis: Python version\n",
        "\n",
        "In the next steps, we switch from the R-based analysis to a Python implementation. Based on the results of the GAM analysis, we prepare the data for training a Convolutional Neural Network (CNN). The CNN can capture more complex patterns and interactions between the variables, which may be necessary for particle size prediction.\n",
        "\n",
        "## Data preparation for the Convolutional Neural Network (CNN)\n",
        "The data is standardised and split into training (80%), validation (10%) and test (10%) datasets. The training and validation datasets are used for training and hyperparameter optimisation, while the test dataset is used for the final evaluation. The process includes cross-validation to average the results and ensure robustness. Additionally, ROC curves and AUC metrics are used to evaluate the performance of the CNN and compare it to the GAM.\n",
        "\n",
        "## CNN model training\n",
        "The CNN model is defined, compiled and trained using the Keras package. The model includes:\n",
        "\n",
        "- **Convolutional Layers**: To extract features from the input data.\n",
        "- **Pooling Layers**: To reduce the dimensionality of the data and retain key features.\n",
        "- **Flatten Layers**: To convert the 2D output into a 1D vector.\n",
        "- **Dense Layer**: To learn the complex relationships in the data.\n",
        "- **Dropout Layer**: To prevent overfitting by randomly removing units during training.\n",
        "\n",
        "Hyperparameters such as the number of filters, the kernel size, the activation functions and the dropout rate are selected. The model is trained using the Adam optimiser and evaluated with the metrics Mean Squared Error (MSE) and Mean Absolute Error (MAE).\n",
        "\n",
        "**NOTE**: This is only an overview of the process and more data is required to do this correctly."
      ],
      "metadata": {
        "id": "j6tmBLLaH3XL"
      }
    },
    {
      "cell_type": "markdown",
      "source": [
        "In this cell, we install and import the necessary Python libraries for the database connection, data manipulation, machine learning and plotting."
      ],
      "metadata": {
        "id": "nFDN6qttLL06"
      }
    },
    {
      "cell_type": "code",
      "source": [
        "%%capture\n",
        "!pip install PyMySQL\n",
        "import pymysql.cursors\n",
        "import pandas as pd\n",
        "import warnings\n",
        "import getpass\n",
        "import numpy as np\n",
        "from sklearn.model_selection import train_test_split\n",
        "from sklearn.preprocessing import StandardScaler\n",
        "from keras.models import Sequential\n",
        "from keras.layers import Conv1D, MaxPooling1D, Flatten, Dense, Dropout\n",
        "from keras.optimizers import Adam\n",
        "from sklearn.metrics import roc_auc_score, roc_curve\n",
        "import matplotlib.pyplot as plt\n",
        "warnings.filterwarnings('ignore')"
      ],
      "metadata": {
        "id": "bNBzVEMEIPvJ"
      },
      "execution_count": 1,
      "outputs": []
    },
    {
      "cell_type": "markdown",
      "source": [
        "## Next Step:\n",
        "\n",
        "The following cell contains functions for connecting to the database and for querying the required table. The data is then loaded into a pandas DataFrame."
      ],
      "metadata": {
        "id": "PIm1a_iEK-uB"
      }
    },
    {
      "cell_type": "code",
      "source": [
        "def connect():\n",
        "    # database credentials\n",
        "    host = \"den1.mysql6.gear.host\"\n",
        "    db = \"situation\"\n",
        "    usr = \"situation\"\n",
        "    pwd = getpass.getpass(\"Enter database password: \")\n",
        "\n",
        "\n",
        "    # connect to the database\n",
        "    try:\n",
        "        return pymysql.connect(host=host, user=usr, password=pwd, database=db,\n",
        "            cursorclass=pymysql.cursors.DictCursor)\n",
        "    except pymysql.Error as err:\n",
        "        print(\"error %d: %s\" %(err.args[0], err.args[1]))\n",
        "        return \"\"\n",
        "\n",
        "\n",
        "def query_table(table_name):\n",
        "    sql = f\"SELECT * FROM {table_name};\"\n",
        "\n",
        "    # connect to database\n",
        "    db_connection = connect()\n",
        "\n",
        "    # check connection\n",
        "    if not (type(db_connection) == str):\n",
        "        # execute query and fetch results\n",
        "        with db_connection.cursor() as cursor:\n",
        "            cursor.execute(sql)\n",
        "            result = cursor.fetchall()\n",
        "        return result\n",
        "    else:\n",
        "        return []\n",
        "\n",
        "# Call the function to query the table\n",
        "data = query_table('r18_nanoparticle_experiments')\n",
        "data_tbl = pd.DataFrame(data)"
      ],
      "metadata": {
        "colab": {
          "base_uri": "https://localhost:8080/"
        },
        "id": "anwRYGzoILaw",
        "outputId": "7bfdfbf6-2db7-41ce-dae1-2d36cd846efc"
      },
      "execution_count": 2,
      "outputs": [
        {
          "name": "stdout",
          "output_type": "stream",
          "text": [
            "Enter database password: ··········\n"
          ]
        }
      ]
    },
    {
      "cell_type": "markdown",
      "source": [
        "## Next Step:\n",
        "\n",
        "The data is prepared in this cell, including standardisation and division into training, validation and test data sets. The CNN model definition and training are commented out as additional data points are required.\n",
        "\n",
        "**Note:** the following code is executable, but it is not recommended to trust the results, as the dataset currently does not have enough entries for such an evaluation."
      ],
      "metadata": {
        "id": "0eRVHr23Lw1U"
      }
    },
    {
      "cell_type": "code",
      "execution_count": 8,
      "metadata": {
        "id": "9AWMettpHxrT"
      },
      "outputs": [],
      "source": [
        "# Standardize the predictors\n",
        "scaler = StandardScaler()\n",
        "data_scaled = data_tbl.copy()\n",
        "data_scaled[['temperature', 'pressure', 'time', 'reactant_A_concentration', 'reactant_B_concentration', 'reactant_C_concentration']] = scaler.fit_transform(\n",
        "    data_tbl[['temperature', 'pressure', 'time', 'reactant_A_concentration', 'reactant_B_concentration', 'reactant_C_concentration']])\n",
        "\n",
        "# Splitting the data into training, validation, and testing sets\n",
        "train_data, temp_data = train_test_split(data_scaled, test_size=0.2, random_state=123)\n",
        "validation_data, test_data = train_test_split(temp_data, test_size=0.5, random_state=123)\n",
        "\n",
        "# Convert data to matrices\n",
        "train_x = train_data.drop(['id', 'particle_size'], axis=1).values\n",
        "train_y = train_data['particle_size'].values\n",
        "validation_x = validation_data.drop(['id', 'particle_size'], axis=1).values\n",
        "validation_y = validation_data['particle_size'].values\n",
        "test_x = test_data.drop(['id', 'particle_size'], axis=1).values\n",
        "test_y = test_data['particle_size'].values\n",
        "\n",
        "# Ensure the input shape is appropriate for Conv1D layers\n",
        "train_x = train_x.reshape((train_x.shape[0], train_x.shape[1], 1))\n",
        "validation_x = validation_x.reshape((validation_x.shape[0], validation_x.shape[1], 1))\n",
        "test_x = test_x.reshape((test_x.shape[0], test_x.shape[1], 1))\n",
        "\n",
        "# The following code for the model is commented out due to insufficient data.\n",
        "# More data points are needed to properly train and evaluate the CNN model.\n",
        "if False:\n",
        "    # Define the CNN model\n",
        "    cnn_model = Sequential([\n",
        "        Conv1D(filters=32, kernel_size=3, activation='relu', input_shape=(train_x.shape[1], 1), padding='same'),\n",
        "        MaxPooling1D(pool_size=2),\n",
        "        Conv1D(filters=64, kernel_size=3, activation='relu', padding='same'),\n",
        "        MaxPooling1D(pool_size=2),\n",
        "        Flatten(),\n",
        "        Dense(128, activation='relu'),\n",
        "        Dropout(0.5),\n",
        "        Dense(1)\n",
        "    ])\n",
        "\n",
        "    # Compile the model\n",
        "    cnn_model.compile(\n",
        "        loss='mse',\n",
        "        optimizer=Adam(),\n",
        "        metrics=['mean_absolute_error']\n",
        "    )\n",
        "\n",
        "    # Train the model\n",
        "    history = cnn_model.fit(\n",
        "        train_x, train_y,\n",
        "        epochs=100,  # Number of epochs to train the model\n",
        "        batch_size=10,  # Number of samples per gradient update\n",
        "        validation_data=(validation_x, validation_y)  # Data for validation\n",
        "    )\n",
        "\n",
        "   # Cross-validation and averaging results (example outline)\n",
        "    cv_results = []\n",
        "    for i in range(5):\n",
        "        x_train, x_val, y_train, y_val = train_test_split(train_x, train_y, test_size=0.2, random_state=123+i)\n",
        "\n",
        "        # Train CNN on cv_train_x and cv_train_y\n",
        "        cv_history = cnn_model.fit(\n",
        "            x_train, y_train,\n",
        "            epochs=100,\n",
        "            batch_size=10,\n",
        "            validation_data=(x_val, y_val),\n",
        "            verbose=0\n",
        "        )\n",
        "\n",
        "        # Predict on cv_validation_x\n",
        "        cv_predictions = cnn_model.predict(x_val)\n",
        "\n",
        "        # Calculate performance metrics\n",
        "        cv_mae = np.mean(np.abs(y_val - cv_predictions))\n",
        "        cv_results.append(cv_mae)"
      ]
    },
    {
      "cell_type": "markdown",
      "source": [
        "An example illustration is shown. The data is not meaningful!"
      ],
      "metadata": {
        "id": "R3Dfun6TRARy"
      }
    },
    {
      "cell_type": "code",
      "source": [
        "average_mae = np.mean(cv_results)\n",
        "print(f\"Average MAE from cross-validation: {average_mae}\")\n",
        "\n",
        "# Performance evaluation for the final model on test data\n",
        "cnn_predictions = cnn_model.predict(test_x)\n",
        "cnn_mae = np.mean(np.abs(test_y - cnn_predictions))\n",
        "print(f\"CNN MAE: {cnn_mae}\")\n",
        "\n",
        "# Plot predicted vs actual values for CNN\n",
        "plt.scatter(test_y, cnn_predictions, label=f'CNN (MAE = {cnn_mae:.2f})', alpha=0.6)\n",
        "plt.plot([min(test_y), max(test_y)], [min(test_y), max(test_y)], color='red')\n",
        "plt.xlabel('Actual Particle Size')\n",
        "plt.ylabel('Predicted Particle Size')\n",
        "plt.title('Predicted vs Actual Particle Size')\n",
        "plt.legend()\n",
        "plt.show()"
      ],
      "metadata": {
        "colab": {
          "base_uri": "https://localhost:8080/",
          "height": 524
        },
        "id": "Dsc1omFaQt3K",
        "outputId": "a860040d-916f-49c6-f774-b4bb68e999ed"
      },
      "execution_count": 7,
      "outputs": [
        {
          "output_type": "stream",
          "name": "stdout",
          "text": [
            "Average MAE from cross-validation: 4.838676071166992\n",
            "1/1 [==============================] - 0s 84ms/step\n",
            "CNN MAE: 7.738752153184679\n"
          ]
        },
        {
          "output_type": "display_data",
          "data": {
            "text/plain": [
              "<Figure size 640x480 with 1 Axes>"
            ],
            "image/png": "[encoded data removed]"
          },
          "metadata": {}
        }
      ]
    }
  ]
}