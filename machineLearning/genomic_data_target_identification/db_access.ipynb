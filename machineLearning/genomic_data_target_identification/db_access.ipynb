{
  "cells": [
    {
      "cell_type": "code",
      "execution_count": 1,
      "metadata": {
        "colab": {
          "base_uri": "https://localhost:8080/"
        },
        "id": "9NIk6uh_o2Qm",
        "outputId": "ed9da32a-1d60-4e53-e9f1-ad919053f164"
      },
      "outputs": [
        {
          "name": "stdout",
          "output_type": "stream",
          "text": [
            "Requirement already satisfied: PyMySQL in c:\\users\\thobe\\anaconda3\\envs\\nlpcourse\\lib\\site-packages (1.1.0)\n"
          ]
        }
      ],
      "source": [
        "!pip install PyMySQL"
      ]
    },
    {
      "cell_type": "code",
      "execution_count": 9,
      "metadata": {
        "id": "ymDm-UTuozIS"
      },
      "outputs": [],
      "source": [
        "import pymysql.cursors\n",
        "import pandas as pd\n",
        "from typing import Union"
      ]
    },
    {
      "cell_type": "code",
      "execution_count": 10,
      "metadata": {
        "id": "uREGQO5oo6kn"
      },
      "outputs": [],
      "source": [
        "host = 'den1.mysql6.gear.host'\n",
        "db = 'situation'\n",
        "usr = 'situation'\n",
        "psword = 'cogni88.'\n",
        "\n",
        "try:\n",
        "    connection = pymysql.connect(host=host, user=usr, password=psword, database=db, cursorclass=pymysql.cursors.DictCursor)\n",
        "except pymysql.Error as e:\n",
        "    print(f\"There's been an error: {e.args[0], e.args[1]}\")"
      ]
    },
    {
      "cell_type": "code",
      "execution_count": 11,
      "metadata": {
        "colab": {
          "base_uri": "https://localhost:8080/"
        },
        "id": "itWlKrwgpFUh",
        "outputId": "1a94e83d-5715-42d1-a590-f3c571927e24"
      },
      "outputs": [],
      "source": [
        "# querying the table\n",
        "table = \"p16_drug_target_data\"\n",
        "sql = f\"SELECT * FROM {table}\"\n",
        "\n",
        "\n",
        "def query_data(type: str = \"sql\") -> Union[list[object], pd.DataFrame]:\n",
        "    if type == \"sql\":\n",
        "        try:\n",
        "            with connection.cursor() as cursor:\n",
        "                cursor.execute(sql)\n",
        "                res = cursor.fetchall() # get results\n",
        "                return res\n",
        "        except pymysql.Error as e:\n",
        "            print(f\"There has been an error: {e.args[0], e.args[1]}\")\n",
        "            return []\n",
        "        \n",
        "    elif type == \"dataframe\":\n",
        "        try:\n",
        "            res = pd.read_sql(sql=sql, con=connection)\n",
        "            return res\n",
        "        except Exception as e:\n",
        "            print(e)\n",
        "            return []\n",
        "        \n",
        "    else:\n",
        "        print(\"Type not found.\")\n",
        "        return []"
      ]
    },
    {
      "cell_type": "code",
      "execution_count": 12,
      "metadata": {
        "id": "jR2iwdWLpTf6"
      },
      "outputs": [
        {
          "name": "stdout",
          "output_type": "stream",
          "text": [
            "{'gene_id': 1, 'gene_name': 'GeneA', 'chromosome': 'Chr1', 'start_position': 1000, 'end_position': 2000, 'strand': '+', 'gene_expression': 0.8, 'drug_target': 1}\n",
            "{'gene_id': 2, 'gene_name': 'GeneB', 'chromosome': 'Chr2', 'start_position': 3000, 'end_position': 4000, 'strand': '-', 'gene_expression': 0.6, 'drug_target': 0}\n",
            "{'gene_id': 3, 'gene_name': 'GeneC', 'chromosome': 'Chr3', 'start_position': 5000, 'end_position': 6000, 'strand': '+', 'gene_expression': 0.9, 'drug_target': 1}\n",
            "{'gene_id': 4, 'gene_name': 'GeneD', 'chromosome': 'Chr4', 'start_position': 7000, 'end_position': 8000, 'strand': '-', 'gene_expression': 0.3, 'drug_target': 0}\n",
            "{'gene_id': 5, 'gene_name': 'GeneE', 'chromosome': 'Chr5', 'start_position': 9000, 'end_position': 10000, 'strand': '+', 'gene_expression': 0.7, 'drug_target': 1}\n",
            "{'gene_id': 6, 'gene_name': 'GeneF', 'chromosome': 'Chr6', 'start_position': 11000, 'end_position': 12000, 'strand': '-', 'gene_expression': 0.5, 'drug_target': 0}\n",
            "{'gene_id': 7, 'gene_name': 'GeneG', 'chromosome': 'Chr7', 'start_position': 13000, 'end_position': 14000, 'strand': '+', 'gene_expression': 0.2, 'drug_target': 0}\n",
            "{'gene_id': 8, 'gene_name': 'GeneH', 'chromosome': 'Chr8', 'start_position': 15000, 'end_position': 16000, 'strand': '-', 'gene_expression': 0.85, 'drug_target': 1}\n",
            "{'gene_id': 9, 'gene_name': 'GeneI', 'chromosome': 'Chr9', 'start_position': 17000, 'end_position': 18000, 'strand': '+', 'gene_expression': 0.4, 'drug_target': 0}\n",
            "{'gene_id': 10, 'gene_name': 'GeneJ', 'chromosome': 'Chr10', 'start_position': 19000, 'end_position': 20000, 'strand': '-', 'gene_expression': 0.6, 'drug_target': 1}\n"
          ]
        }
      ],
      "source": [
        "# ts_from = \"2022-01-14\"\n",
        "type = \"sql\"\n",
        "ts_from = \"2023-01-14\"\n",
        "ts_to = \"2023-04-01\"\n",
        "df = query_data(type=type)\n",
        "\n",
        "if type == \"sql\":\n",
        "    for i in range(10):\n",
        "        print(df[i])\n",
        "else:\n",
        "    print(df.head(10))"
      ]
    },
    {
      "cell_type": "code",
      "execution_count": 17,
      "metadata": {},
      "outputs": [],
      "source": [
        "with open(\"./data.txt\", \"w\") as f:\n",
        "    for line in df:\n",
        "        f.write(str(line))\n",
        "        f.write(\"\\n\")"
      ]
    }
  ],
  "metadata": {
    "colab": {
      "provenance": []
    },
    "kernelspec": {
      "display_name": "Python 3",
      "name": "python3"
    },
    "language_info": {
      "codemirror_mode": {
        "name": "ipython",
        "version": 3
      },
      "file_extension": ".py",
      "mimetype": "text/x-python",
      "name": "python",
      "nbconvert_exporter": "python",
      "pygments_lexer": "ipython3",
      "version": "3.9.18"
    }
  },
  "nbformat": 4,
  "nbformat_minor": 0
}
