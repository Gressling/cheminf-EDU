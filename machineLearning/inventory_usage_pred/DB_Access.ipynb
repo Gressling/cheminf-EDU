{
 "cells": [
  {
   "cell_type": "code",
   "execution_count": 22,
   "metadata": {},
   "outputs": [],
   "source": [
    "import pandas as pd\n",
    "import pymysql\n"
   ]
  },
  {
   "cell_type": "code",
   "execution_count": 23,
   "metadata": {},
   "outputs": [],
   "source": [
    "# 这里使用你的实际数据库连接信息\n",
    "connection = pymysql.connect(host='den1.mysql6.gear.host',  # 数据库服务器地址\n",
    "                             user='situation',              # 数据库登录用户名\n",
    "                             password='aichem567.',         # 数据库登录密码\n",
    "                             db='situation',                # 数据库名称\n",
    "                             charset='utf8mb4',             # 编码格式，确保支持完整的 Unicode 字符\n",
    "                             cursorclass=pymysql.cursors.DictCursor)\n"
   ]
  },
  {
   "cell_type": "code",
   "execution_count": 24,
   "metadata": {},
   "outputs": [
    {
     "name": "stderr",
     "output_type": "stream",
     "text": [
      "C:\\Users\\Administrator\\AppData\\Local\\Temp\\ipykernel_22040\\4276777928.py:5: UserWarning: pandas only supports SQLAlchemy connectable (engine/connection) or database string URI or sqlite3 DBAPI2 connection. Other DBAPI2 objects are not tested. Please consider using SQLAlchemy.\n",
      "  df = pd.read_sql(sql, connection)\n"
     ]
    },
    {
     "name": "stdout",
     "output_type": "stream",
     "text": [
      "   id  amount_taken unit location    chemical      CAS            reason\n",
      "0   1      187.8960    L    Lab_2  Chemical_D  50-00-0  initial purchase\n",
      "1   2      475.4060   mg    Lab_2  Chemical_D  75-07-0  initial purchase\n",
      "2   3      366.2650   ml    Lab_1  Chemical_A  64-17-5  initial purchase\n",
      "3   4      299.7310   mg    Lab_1  Chemical_C  64-17-5  initial purchase\n",
      "4   5       78.8533   mg    Lab_2  Chemical_A  67-56-1     Experiment_20\n"
     ]
    }
   ],
   "source": [
    "# SQL 查询语句\n",
    "sql = \"SELECT * FROM h8_chemical_inventory_usage;\"\n",
    "\n",
    "# 使用 pandas 的 read_sql 函数执行 SQL 查询并将结果存储在 DataFrame 中\n",
    "df = pd.read_sql(sql, connection)\n",
    "\n",
    "# 显示 DataFrame 的头部数据，以确认数据已正确加载\n",
    "print(df.head())\n"
   ]
  },
  {
   "cell_type": "code",
   "execution_count": 25,
   "metadata": {},
   "outputs": [],
   "source": [
    "connection.close()\n"
   ]
  }
 ],
 "metadata": {
  "colab": {
   "provenance": []
  },
  "kernelspec": {
   "display_name": "Python 3 (ipykernel)",
   "language": "python",
   "name": "python3"
  },
  "language_info": {
   "codemirror_mode": {
    "name": "ipython",
    "version": 3
   },
   "file_extension": ".py",
   "mimetype": "text/x-python",
   "name": "python",
   "nbconvert_exporter": "python",
   "pygments_lexer": "ipython3",
   "version": "3.11.7"
  }
 },
 "nbformat": 4,
 "nbformat_minor": 1
}
