{
 "cells": [
  {
   "cell_type": "code",
   "execution_count": 1,
   "metadata": {
    "colab": {
     "base_uri": "https://localhost:8080/"
    },
    "id": "9NIk6uh_o2Qm",
    "outputId": "ed9da32a-1d60-4e53-e9f1-ad919053f164"
   },
   "outputs": [
    {
     "name": "stdout",
     "output_type": "stream",
     "text": [
      "Requirement already satisfied: PyMySQL in /Users/ivantsian/opt/anaconda3/lib/python3.9/site-packages (1.1.0)\r\n"
     ]
    }
   ],
   "source": [
    "!pip install PyMySQL"
   ]
  },
  {
   "cell_type": "code",
   "execution_count": 2,
   "metadata": {
    "id": "ymDm-UTuozIS"
   },
   "outputs": [],
   "source": [
    "import pymysql.cursors"
   ]
  },
  {
   "cell_type": "code",
   "execution_count": null,
   "metadata": {
    "id": "uREGQO5oo6kn"
   },
   "outputs": [],
   "source": [
    "host = 'den1.mysql6.gear.host'\n",
    "db = 'situation'\n",
    "usr = 'situation'\n",
    "psword = input(\"Please input the password of the database: \")\n",
    "\n",
    "# Connect to the database\n",
    "connection = pymysql.connect(host=host, user=usr, password=psword, database=db, cursorclass=pymysql.cursors.DictCursor)\n",
    "\n",
    "print(connection)"
   ]
  },
  {
   "cell_type": "code",
   "execution_count": 4,
   "metadata": {
    "id": "uc00c1w1pJhN"
   },
   "outputs": [],
   "source": [
    "import pandas as pd"
   ]
  },
  {
   "cell_type": "code",
   "execution_count": 5,
   "metadata": {
    "colab": {
     "base_uri": "https://localhost:8080/"
    },
    "id": "itWlKrwgpFUh",
    "outputId": "1a94e83d-5715-42d1-a590-f3c571927e24"
   },
   "outputs": [
    {
     "name": "stderr",
     "output_type": "stream",
     "text": [
      "/Users/ivantsian/opt/anaconda3/lib/python3.9/site-packages/pandas/io/sql.py:761: UserWarning: pandas only support SQLAlchemy connectable(engine/connection) ordatabase string URI or sqlite3 DBAPI2 connectionother DBAPI2 objects are not tested, please consider using SQLAlchemy\n",
      "  warnings.warn(\n"
     ]
    },
    {
     "name": "stdout",
     "output_type": "stream",
     "text": [
      "       id  amount_taken unit location    chemical      CAS            reason\n",
      "0       1      187.8960    L    Lab_2  Chemical_D  50-00-0  initial purchase\n",
      "1       2      475.4060   mg    Lab_2  Chemical_D  75-07-0  initial purchase\n",
      "2       3      366.2650   ml    Lab_1  Chemical_A  64-17-5  initial purchase\n",
      "3       4      299.7310   mg    Lab_1  Chemical_C  64-17-5  initial purchase\n",
      "4       5       78.8533   mg    Lab_2  Chemical_A  67-56-1     Experiment_20\n",
      "..    ...           ...  ...      ...         ...      ...               ...\n",
      "995   996       46.6995    g    Lab_1  Chemical_A  75-07-0     Experiment_16\n",
      "996   997      458.7390    L    Lab_1  Chemical_B  67-56-1  initial purchase\n",
      "997   998       69.2725    g    Lab_1  Chemical_D  75-07-0     Experiment_12\n",
      "998   999      475.1680   ml    Lab_2  Chemical_B  64-17-5  initial purchase\n",
      "999  1000      223.5570   mg    Lab_2  Chemical_B  67-56-1  initial purchase\n",
      "\n",
      "[1000 rows x 7 columns]\n"
     ]
    }
   ],
   "source": [
    "UserId = 'ivantsian'\n",
    "sql = \"SELECT * FROM situation.h8_chemical_inventory_usage;\"\n",
    "\n",
    "# with connection.cursor() as cursor:\n",
    "#   cursor.execute(sql % UserId)\n",
    "\n",
    "df_raw = pd.read_sql(sql, connection)\n",
    "print(df_raw)\n"
   ]
  },
  {
   "cell_type": "code",
   "execution_count": null,
   "metadata": {
    "id": "jR2iwdWLpTf6"
   },
   "outputs": [],
   "source": [
    "#df = df_raw[(df_raw['timestamp'] >= '2023-01-14') & (df_raw['timestamp'] <= '2023-02-01')]\n",
    "#df['timestamp'] = pd.to_datetime(df['timestamp'])\n",
    "#df = df.set_index('timestamp')\n",
    "#df = df.resample('10s').first()\n",
    "#df = df.interpolate()"
   ]
  },
  {
   "cell_type": "code",
   "execution_count": null,
   "metadata": {
    "colab": {
     "base_uri": "https://localhost:8080/",
     "height": 80
    },
    "id": "9I6Erp58pQA8",
    "outputId": "ad216043-cb78-405a-a76b-a2216ef75488"
   },
   "outputs": [],
   "source": [
    "#df.head(10)"
   ]
  },
  {
   "cell_type": "code",
   "execution_count": null,
   "metadata": {},
   "outputs": [],
   "source": []
  },
  {
   "cell_type": "code",
   "execution_count": null,
   "metadata": {},
   "outputs": [],
   "source": []
  }
 ],
 "metadata": {
  "colab": {
   "provenance": []
  },
  "kernelspec": {
   "display_name": "Python 3 (ipykernel)",
   "language": "python",
   "name": "python3"
  },
  "language_info": {
   "codemirror_mode": {
    "name": "ipython",
    "version": 3
   },
   "file_extension": ".py",
   "mimetype": "text/x-python",
   "name": "python",
   "nbconvert_exporter": "python",
   "pygments_lexer": "ipython3",
   "version": "3.9.12"
  }
 },
 "nbformat": 4,
 "nbformat_minor": 1
}
