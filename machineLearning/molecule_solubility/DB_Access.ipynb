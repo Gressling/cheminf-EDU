{
 "cells": [
  {
   "cell_type": "code",
   "execution_count": null,
   "metadata": {},
   "outputs": [],
   "source": [
    "# pip install PyMySQL\n",
    "# PyMySQL is already installed in the virtual environment"
   ]
  },
  {
   "cell_type": "markdown",
   "metadata": {},
   "source": [
    "# All the steps from the Example"
   ]
  },
  {
   "cell_type": "code",
   "execution_count": 4,
   "metadata": {},
   "outputs": [],
   "source": [
    "import pymysql.cursors\n",
    "import pandas as pd"
   ]
  },
  {
   "cell_type": "code",
   "execution_count": 2,
   "metadata": {},
   "outputs": [],
   "source": [
    "host = 'den1.mysql6.gear.host'\n",
    "db = 'situation'\n",
    "usr = 'situation'\n",
    "psword = input()\n",
    "\n",
    "# Connect to the database\n",
    "connection = pymysql.connect(host=host, user=usr, password=psword, database=db, cursorclass=pymysql.cursors.DictCursor)"
   ]
  },
  {
   "cell_type": "code",
   "execution_count": 5,
   "metadata": {},
   "outputs": [
    {
     "name": "stderr",
     "output_type": "stream",
     "text": [
      "/var/folders/4_/pl6t6pd123545nrgljv7gy340000gn/T/ipykernel_44302/1665320423.py:7: UserWarning: pandas only supports SQLAlchemy connectable (engine/connection) or database string URI or sqlite3 DBAPI2 connection. Other DBAPI2 objects are not tested. Please consider using SQLAlchemy.\n",
      "  df_raw = pd.read_sql(sql, connection, params=(UserId,))\n"
     ]
    }
   ],
   "source": [
    "UserId = 'SomeDeviceName'\n",
    "sql = \"SELECT timestamp, sensorValue FROM lims_timeseries WHERE Fkey_limsDevice = %s\"\n",
    "\n",
    "# with connection.cursor() as cursor:\n",
    "#   cursor.execute(sql % UserId)\n",
    "\n",
    "df_raw = pd.read_sql(sql, connection, params=(UserId,))"
   ]
  },
  {
   "cell_type": "code",
   "execution_count": 6,
   "metadata": {},
   "outputs": [],
   "source": [
    "df = df_raw[(df_raw['timestamp'] >= '2022-01-14') & (df_raw['timestamp'] <= '2024-02-01')]\n",
    "df['timestamp'] = pd.to_datetime(df['timestamp'])\n",
    "df = df.set_index('timestamp')\n",
    "df = df.resample('10s').first()\n",
    "df = df.interpolate()"
   ]
  },
  {
   "cell_type": "code",
   "execution_count": 7,
   "metadata": {},
   "outputs": [
    {
     "data": {
      "text/html": [
       "<div>\n",
       "<style scoped>\n",
       "    .dataframe tbody tr th:only-of-type {\n",
       "        vertical-align: middle;\n",
       "    }\n",
       "\n",
       "    .dataframe tbody tr th {\n",
       "        vertical-align: top;\n",
       "    }\n",
       "\n",
       "    .dataframe thead th {\n",
       "        text-align: right;\n",
       "    }\n",
       "</style>\n",
       "<table border=\"1\" class=\"dataframe\">\n",
       "  <thead>\n",
       "    <tr style=\"text-align: right;\">\n",
       "      <th></th>\n",
       "      <th>sensorValue</th>\n",
       "    </tr>\n",
       "    <tr>\n",
       "      <th>timestamp</th>\n",
       "      <th></th>\n",
       "    </tr>\n",
       "  </thead>\n",
       "  <tbody>\n",
       "  </tbody>\n",
       "</table>\n",
       "</div>"
      ],
      "text/plain": [
       "Empty DataFrame\n",
       "Columns: [sensorValue]\n",
       "Index: []"
      ]
     },
     "execution_count": 7,
     "metadata": {},
     "output_type": "execute_result"
    }
   ],
   "source": [
    "df.head(10)"
   ]
  },
  {
   "cell_type": "markdown",
   "metadata": {},
   "source": [
    "# Trying to access the database used in B2"
   ]
  },
  {
   "cell_type": "code",
   "execution_count": 13,
   "metadata": {},
   "outputs": [],
   "source": [
    "from sqlalchemy import create_engine"
   ]
  },
  {
   "cell_type": "code",
   "execution_count": 9,
   "metadata": {},
   "outputs": [
    {
     "name": "stdout",
     "output_type": "stream",
     "text": [
      "[{'Tables_in_situation': 'a1_experiments'}, {'Tables_in_situation': 'a1_reacts'}, {'Tables_in_situation': 'a1_results'}, {'Tables_in_situation': 'aspirin_synthesis_workflow'}, {'Tables_in_situation': 'b2_molecule_solubility'}, {'Tables_in_situation': 'b2_molecules'}, {'Tables_in_situation': 'c3_device_properties'}, {'Tables_in_situation': 'c3_devicecalibration'}, {'Tables_in_situation': 'c3_devices'}, {'Tables_in_situation': 'c3_devices_depr'}, {'Tables_in_situation': 'c3_devices_properties_temp'}, {'Tables_in_situation': 'chemicals_inventory'}, {'Tables_in_situation': 'copper_sulfate_pentahydrate_synthesis_workflow'}, {'Tables_in_situation': 'd4_device'}, {'Tables_in_situation': 'd4_les_workflow'}, {'Tables_in_situation': 'd4_timeseriesdata'}, {'Tables_in_situation': 'e5_cdb_analysis'}, {'Tables_in_situation': 'e5_cdb_column'}, {'Tables_in_situation': 'e5_cdb_diagram_data'}, {'Tables_in_situation': 'e5_cdb_method'}, {'Tables_in_situation': 'educts'}, {'Tables_in_situation': 'eln_experiment'}, {'Tables_in_situation': 'equipment'}, {'Tables_in_situation': 'f6_entity'}, {'Tables_in_situation': 'f6_laboratorytasks'}, {'Tables_in_situation': 'f6_les_workflow'}, {'Tables_in_situation': 'f6_workflow_step_chemicals'}, {'Tables_in_situation': 'f6_workflow_step_devices'}, {'Tables_in_situation': 'g7_les_unit_operations_degradation'}, {'Tables_in_situation': 'g7_les_uo_params'}, {'Tables_in_situation': 'h8_chemicals'}, {'Tables_in_situation': 'h8_chemikalien'}, {'Tables_in_situation': 'h8_devices'}, {'Tables_in_situation': 'h8_geraete'}, {'Tables_in_situation': 'h8_materialien'}, {'Tables_in_situation': 'h8_materials'}, {'Tables_in_situation': 'i9_moleculeproperties'}, {'Tables_in_situation': 'i9_moleculesdipole'}, {'Tables_in_situation': 'i9_properties'}, {'Tables_in_situation': 'j10_crystalmorphology'}, {'Tables_in_situation': 'k11_reaction_kinetics'}, {'Tables_in_situation': 'l12_proteinliganddocking'}, {'Tables_in_situation': 'labdata'}, {'Tables_in_situation': 'lims_device'}, {'Tables_in_situation': 'lims_device_status'}, {'Tables_in_situation': 'lims_timeseries'}, {'Tables_in_situation': 'lims_timeseries_wise23backup'}, {'Tables_in_situation': 'lims_timeseries_wise23v1'}, {'Tables_in_situation': 'm13_chemicalsafetydata'}, {'Tables_in_situation': 'materials'}, {'Tables_in_situation': 'metadata'}, {'Tables_in_situation': 'n14_metabolomics_data'}, {'Tables_in_situation': 'o15_environmental_data'}, {'Tables_in_situation': 'p16_drug_target_data'}, {'Tables_in_situation': 'q17_decarburization_data'}, {'Tables_in_situation': 'r18_nanoparticle_experiments'}, {'Tables_in_situation': 'rgb-sensor-timeseries'}, {'Tables_in_situation': 's19_biologicalassays'}, {'Tables_in_situation': 'situation'}, {'Tables_in_situation': 'synthesisprocess'}, {'Tables_in_situation': 't20_chemicalsensor_data'}, {'Tables_in_situation': 'temperaturedata'}, {'Tables_in_situation': 'test'}, {'Tables_in_situation': 'timeseries'}, {'Tables_in_situation': 'u21_labtimeaccountingrl'}, {'Tables_in_situation': 'unitoperations'}]\n"
     ]
    }
   ],
   "source": [
    "with connection.cursor() as cursor:\n",
    "    # get all tables'name\n",
    "    cursor.execute(\"SHOW TABLES;\")\n",
    "    tables = cursor.fetchall()\n",
    "    print(tables)"
   ]
  },
  {
   "cell_type": "code",
   "execution_count": 14,
   "metadata": {},
   "outputs": [
    {
     "name": "stdout",
     "output_type": "stream",
     "text": [
      "DataFrame for b2_molecule_solubility:\n",
      "   id molecule_name       smiles  solubility\n",
      "0   1     Molecule1  C1=CC=CC=C1     1.59763\n",
      "1   2     Molecule2  C2=CC=CC=C2     1.93038\n",
      "2   3     Molecule3  C3=CC=CC=C3     1.70553\n",
      "3   4     Molecule4  C4=CC=CC=C4     1.58977\n",
      "4   5     Molecule5  C5=CC=CC=C5     1.34731\n",
      "DataFrame for b2_molecules:\n",
      "   MoleculeID  FkeyUser   MoleculeName           CanonicalSmileFormat  \\\n",
      "0           1         1  Acetaminophen          CC(=O)NC1=CC=C(C=C1)O   \n",
      "1           2         1        Aspirin       CC(=O)OC1=CC=CC=C1C(=O)O   \n",
      "2           3         1       Caffeine   CN1C=NC2=C1C(=O)N(C(=O)N2C)C   \n",
      "3           4         1      Ibuprofen  CC(C)CC1=CC=C(C=C1)C(C)C(=O)O   \n",
      "4           5         1  Butyl Acetate                    CCCCOC(=O)C   \n",
      "\n",
      "        CasId   Formular                                            MOLFile  \n",
      "0    103-90-2    C8H9NO2  1983\\n  -OEChem-11082306173D\\n\\n 20 20  0     ...  \n",
      "1     50-78-2     C9H8O4  2244\\n  -OEChem-11082306153D\\n\\n 21 21  0     ...  \n",
      "2     58-08-2  C8H10N4O2  2519\\n  -OEChem-11082306213D\\n\\n 24 25  0     ...  \n",
      "3  15687-27-1   C13H18O2  3672\\n  -OEChem-12012304452D\\n\\n 33 33  0     ...  \n",
      "4    123-86-4    C6H12O2  31272\\n  -OEChem-12012304452D\\n\\n 20 19  0    ...  \n"
     ]
    }
   ],
   "source": [
    "connection_string = f\"mysql+pymysql://{'situation'}:{'cogni88.'}@{'den1.mysql6.gear.host'}/{'situation'}\"\n",
    "engine = create_engine(connection_string)\n",
    "\n",
    "\n",
    "tables_to_read = ['b2_molecule_solubility', 'b2_molecules']\n",
    "        \n",
    "dataframes = {}\n",
    "\n",
    "for table_name in tables_to_read:\n",
    "    # using pandas to read the data\n",
    "    query = f\"SELECT * FROM `{table_name}`\"\n",
    "    df = pd.read_sql_query(query, engine)\n",
    "    dataframes[table_name] = df\n",
    "    print(f\"DataFrame for {table_name}:\")\n",
    "    print(df.head())"
   ]
  },
  {
   "cell_type": "code",
   "execution_count": null,
   "metadata": {},
   "outputs": [],
   "source": []
  }
 ],
 "metadata": {
  "kernelspec": {
   "display_name": "cheminf_ss24",
   "language": "python",
   "name": "python3"
  },
  "language_info": {
   "codemirror_mode": {
    "name": "ipython",
    "version": 3
   },
   "file_extension": ".py",
   "mimetype": "text/x-python",
   "name": "python",
   "nbconvert_exporter": "python",
   "pygments_lexer": "ipython3",
   "version": "3.9.19"
  }
 },
 "nbformat": 4,
 "nbformat_minor": 2
}
