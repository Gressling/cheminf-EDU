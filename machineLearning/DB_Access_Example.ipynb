{
  "cells": [
    {
      "cell_type": "code",
      "execution_count": 1,
      "metadata": {
        "colab": {
          "base_uri": "https://localhost:8080/"
        },
        "id": "9NIk6uh_o2Qm",
        "outputId": "ed9da32a-1d60-4e53-e9f1-ad919053f164"
      },
      "outputs": [
        {
          "name": "stdout",
          "output_type": "stream",
          "text": [
            "Requirement already satisfied: PyMySQL in d:\\anaconda\\lib\\site-packages (1.1.1)\n"
          ]
        }
      ],
      "source": [
        "!pip install PyMySQL"
      ]
    },
    {
      "cell_type": "code",
      "execution_count": 3,
      "metadata": {
        "id": "ymDm-UTuozIS"
      },
      "outputs": [],
      "source": [
        "import pymysql.cursors"
      ]
    },
    {
      "cell_type": "code",
      "execution_count": 4,
      "metadata": {
        "id": "uREGQO5oo6kn"
      },
      "outputs": [],
      "source": [
        "host = 'den1.mysql6.gear.host'\n",
        "db = 'situation'\n",
        "usr = 'situation'\n",
        "psword = 'aichem567.'\n",
        "\n",
        "# Connect to the database\n",
        "connection = pymysql.connect(host=host, user=usr, password=psword, database=db, cursorclass=pymysql.cursors.DictCursor)"
      ]
    },
    {
      "cell_type": "code",
      "execution_count": 5,
      "metadata": {
        "id": "uc00c1w1pJhN"
      },
      "outputs": [],
      "source": [
        "import pandas as pd"
      ]
    },
    {
      "cell_type": "code",
      "execution_count": 6,
      "metadata": {
        "colab": {
          "base_uri": "https://localhost:8080/"
        },
        "id": "itWlKrwgpFUh",
        "outputId": "1a94e83d-5715-42d1-a590-f3c571927e24"
      },
      "outputs": [
        {
          "name": "stderr",
          "output_type": "stream",
          "text": [
            "C:\\Users\\Administrator\\AppData\\Local\\Temp\\ipykernel_15264\\1665320423.py:7: UserWarning: pandas only supports SQLAlchemy connectable (engine/connection) or database string URI or sqlite3 DBAPI2 connection. Other DBAPI2 objects are not tested. Please consider using SQLAlchemy.\n",
            "  df_raw = pd.read_sql(sql, connection, params=(UserId,))\n"
          ]
        }
      ],
      "source": [
        "UserId = 'SomeDeviceName'\n",
        "sql = \"SELECT timestamp, sensorValue FROM lims_timeseries WHERE Fkey_limsDevice = %s\"\n",
        "\n",
        "# with connection.cursor() as cursor:\n",
        "#   cursor.execute(sql % UserId)\n",
        "\n",
        "df_raw = pd.read_sql(sql, connection, params=(UserId,))"
      ]
    },
    {
      "cell_type": "code",
      "execution_count": 7,
      "metadata": {
        "id": "jR2iwdWLpTf6"
      },
      "outputs": [],
      "source": [
        "df = df_raw[(df_raw['timestamp'] >= '2022-01-14') & (df_raw['timestamp'] <= '2024-02-01')]\n",
        "df['timestamp'] = pd.to_datetime(df['timestamp'])\n",
        "df = df.set_index('timestamp')\n",
        "df = df.resample('10s').first()\n",
        "df = df.interpolate()"
      ]
    },
    {
      "cell_type": "code",
      "execution_count": 8,
      "metadata": {
        "colab": {
          "base_uri": "https://localhost:8080/",
          "height": 80
        },
        "id": "9I6Erp58pQA8",
        "outputId": "ad216043-cb78-405a-a76b-a2216ef75488"
      },
      "outputs": [
        {
          "data": {
            "text/html": [
              "<div>\n",
              "<style scoped>\n",
              "    .dataframe tbody tr th:only-of-type {\n",
              "        vertical-align: middle;\n",
              "    }\n",
              "\n",
              "    .dataframe tbody tr th {\n",
              "        vertical-align: top;\n",
              "    }\n",
              "\n",
              "    .dataframe thead th {\n",
              "        text-align: right;\n",
              "    }\n",
              "</style>\n",
              "<table border=\"1\" class=\"dataframe\">\n",
              "  <thead>\n",
              "    <tr style=\"text-align: right;\">\n",
              "      <th></th>\n",
              "      <th>sensorValue</th>\n",
              "    </tr>\n",
              "    <tr>\n",
              "      <th>timestamp</th>\n",
              "      <th></th>\n",
              "    </tr>\n",
              "  </thead>\n",
              "  <tbody>\n",
              "  </tbody>\n",
              "</table>\n",
              "</div>"
            ],
            "text/plain": [
              "Empty DataFrame\n",
              "Columns: [sensorValue]\n",
              "Index: []"
            ]
          },
          "execution_count": 8,
          "metadata": {},
          "output_type": "execute_result"
        }
      ],
      "source": [
        "df.head(10)"
      ]
    }
  ],
  "metadata": {
    "colab": {
      "provenance": []
    },
    "kernelspec": {
      "display_name": "Python 3",
      "name": "python3"
    },
    "language_info": {
      "codemirror_mode": {
        "name": "ipython",
        "version": 3
      },
      "file_extension": ".py",
      "mimetype": "text/x-python",
      "name": "python",
      "nbconvert_exporter": "python",
      "pygments_lexer": "ipython3",
      "version": "3.11.7"
    }
  },
  "nbformat": 4,
  "nbformat_minor": 0
}
