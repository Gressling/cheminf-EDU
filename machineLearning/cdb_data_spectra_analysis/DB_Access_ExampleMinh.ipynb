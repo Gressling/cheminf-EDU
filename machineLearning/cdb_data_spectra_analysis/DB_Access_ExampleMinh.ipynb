{
  "nbformat": 4,
  "nbformat_minor": 0,
  "metadata": {
    "colab": {
      "provenance": []
    },
    "kernelspec": {
      "name": "python3",
      "display_name": "Python 3"
    },
    "language_info": {
      "name": "python"
    }
  },
  "cells": [
    {
      "cell_type": "code",
      "source": [
        "!pip install PyMySQL"
      ],
      "metadata": {
        "colab": {
          "base_uri": "https://localhost:8080/"
        },
        "id": "9NIk6uh_o2Qm",
        "outputId": "70bb85ae-388b-4539-d533-09eec09ab580"
      },
      "execution_count": 1,
      "outputs": [
        {
          "output_type": "stream",
          "name": "stdout",
          "text": [
            "Collecting PyMySQL\n",
            "  Downloading PyMySQL-1.1.0-py3-none-any.whl (44 kB)\n",
            "\u001b[2K     \u001b[90m━━━━━━━━━━━━━━━━━━━━━━━━━━━━━━━━━━━━━━━━\u001b[0m \u001b[32m44.8/44.8 kB\u001b[0m \u001b[31m501.8 kB/s\u001b[0m eta \u001b[36m0:00:00\u001b[0m\n",
            "\u001b[?25hInstalling collected packages: PyMySQL\n",
            "Successfully installed PyMySQL-1.1.0\n"
          ]
        }
      ]
    },
    {
      "cell_type": "code",
      "execution_count": 2,
      "metadata": {
        "id": "ymDm-UTuozIS"
      },
      "outputs": [],
      "source": [
        "import pymysql.cursors"
      ]
    },
    {
      "cell_type": "code",
      "source": [
        "host = 'den1.mysql6.gear.host'\n",
        "db = 'situation'\n",
        "usr = 'situation'\n",
        "psword = 'cogni88.'\n",
        "\n",
        "# Connect to the database\n",
        "connection = pymysql.connect(host=host, user=usr, password=psword, database=db, cursorclass=pymysql.cursors.DictCursor)"
      ],
      "metadata": {
        "id": "uREGQO5oo6kn"
      },
      "execution_count": 9,
      "outputs": []
    },
    {
      "cell_type": "code",
      "source": [
        "import pandas as pd"
      ],
      "metadata": {
        "id": "uc00c1w1pJhN"
      },
      "execution_count": 10,
      "outputs": []
    },
    {
      "cell_type": "code",
      "source": [
        "sql = \"SELECT MethodID FROM e5_cdb_analysis\"\n",
        "\n",
        "with connection.cursor() as cursor:\n",
        "   cursor.execute(sql)\n",
        "   # Fetch all the results\n",
        "   results = cursor.fetchall()\n",
        "\n",
        "  # Print the results\n",
        "   for row in results:\n",
        "      print(row)\n",
        "\n",
        "connection.close()"
      ],
      "metadata": {
        "colab": {
          "base_uri": "https://localhost:8080/"
        },
        "id": "itWlKrwgpFUh",
        "outputId": "e8559af0-89c1-4889-8d45-0f3e3b36c790"
      },
      "execution_count": 14,
      "outputs": [
        {
          "output_type": "stream",
          "name": "stdout",
          "text": [
            "{'MethodID': 1}\n",
            "{'MethodID': 1}\n",
            "{'MethodID': 1}\n",
            "{'MethodID': 3}\n"
          ]
        }
      ]
    },
    {
      "cell_type": "code",
      "source": [],
      "metadata": {
        "id": "sfzVIA2D14K6"
      },
      "execution_count": null,
      "outputs": []
    }
  ]
}