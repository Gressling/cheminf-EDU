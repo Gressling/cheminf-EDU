{
 "cells": [
  {
   "cell_type": "code",
   "execution_count": 6,
   "id": "e2d86352-9c71-4c2a-920a-80226c64ade6",
   "metadata": {},
   "outputs": [],
   "source": [
    "import pandas as pd\n",
    "import numpy as np\n",
    "from sklearn.model_selection import train_test_split\n",
    "from sklearn.ensemble import RandomForestRegressor\n",
    "from sklearn.preprocessing import LabelEncoder\n",
    "from sklearn.metrics import mean_squared_error, r2_score"
   ]
  },
  {
   "cell_type": "code",
   "execution_count": 18,
   "id": "e7d53162-8ec7-4b04-a99c-bdae7320f328",
   "metadata": {},
   "outputs": [],
   "source": [
    "# CSV-Datei einlesen\n",
    "df = pd.read_csv('laboratory_tasks.csv')"
   ]
  },
  {
   "cell_type": "code",
   "execution_count": 19,
   "id": "96a3f72b-f7f8-4c82-a756-481ac1b24cad",
   "metadata": {},
   "outputs": [],
   "source": [
    "# Feature-Engineering\n",
    "le = LabelEncoder()\n",
    "df['TaskStatus_encoded'] = le.fit_transform(df['TaskStatus'])\n",
    "df['ResourceAllocated_encoded'] = le.fit_transform(df['ResourceAllocated'])\n",
    "\n",
    "# Features und Zielwariable definieren\n",
    "features = ['TaskStatus_encoded', 'ResourceAllocated_encoded', 'Reward']\n",
    "target = 'TimeSpent'\n",
    "\n",
    "X = df[features]\n",
    "y = df[target]\n",
    "\n",
    "# Daten in Trainings- und Testsets aufteilen\n",
    "X_train, X_test, y_train, y_test = train_test_split(X, y, test_size=0.2, random_state=42)"
   ]
  },
  {
   "cell_type": "code",
   "execution_count": 20,
   "id": "43f816a3-051a-496f-875a-fee2632df27f",
   "metadata": {},
   "outputs": [
    {
     "name": "stdout",
     "output_type": "stream",
     "text": [
      "Mean Squared Error: 0.017583333333333343\n",
      "R-squared Score: 0.9882777777777778\n",
      "\n",
      "Feature Importance:\n",
      "                     feature  importance\n",
      "1  ResourceAllocated_encoded    0.535791\n",
      "2                     Reward    0.456335\n",
      "0         TaskStatus_encoded    0.007874\n"
     ]
    }
   ],
   "source": [
    "# Random Forest Regressor-Modell initialisieren und trainieren\n",
    "rf_model = RandomForestRegressor(n_estimators=100, random_state=42)\n",
    "rf_model.fit(X_train, y_train)\n",
    "\n",
    "# Vorhersagen für das Testset machen\n",
    "y_pred = rf_model.predict(X_test)\n",
    "\n",
    "# Modellleistung bewerten\n",
    "mse = mean_squared_error(y_test, y_pred)\n",
    "r2 = r2_score(y_test, y_pred)\n",
    "\n",
    "print(f\"Mean Squared Error: {mse}\")\n",
    "print(f\"R-squared Score: {r2}\")\n",
    "\n",
    "# Feature-Wichtigkeit analysieren\n",
    "feature_importance = pd.DataFrame({\n",
    "    'feature': features,\n",
    "    'importance': rf_model.feature_importances_\n",
    "}).sort_values('importance', ascending=False)\n",
    "\n",
    "print(\"\\nFeature Importance:\")\n",
    "print(feature_importance)"
   ]
  },
  {
   "cell_type": "code",
   "execution_count": 21,
   "id": "8967e548-0dec-439b-9801-24c587c46794",
   "metadata": {},
   "outputs": [
    {
     "name": "stdout",
     "output_type": "stream",
     "text": [
      "\n",
      "Vorhergesagte Zeit für die Beispieleingabe: 2.23\n"
     ]
    }
   ],
   "source": [
    "# Beispiel für eine Vorhersage\n",
    "sample_input = pd.DataFrame({\n",
    "    'TaskStatus_encoded': [1],\n",
    "    'ResourceAllocated_encoded': [2],\n",
    "    'Reward': [1.5]\n",
    "})\n",
    "\n",
    "predicted_time = rf_model.predict(sample_input)\n",
    "print(f\"\\nVorhergesagte Zeit für die Beispieleingabe: {predicted_time[0]:.2f}\")"
   ]
  },
  {
   "cell_type": "code",
   "execution_count": null,
   "id": "3747dedc-ec8c-4439-a35f-4b7778c63857",
   "metadata": {},
   "outputs": [],
   "source": []
  }
 ],
 "metadata": {
  "kernelspec": {
   "display_name": "Python 3 (ipykernel)",
   "language": "python",
   "name": "python3"
  },
  "language_info": {
   "codemirror_mode": {
    "name": "ipython",
    "version": 3
   },
   "file_extension": ".py",
   "mimetype": "text/x-python",
   "name": "python",
   "nbconvert_exporter": "python",
   "pygments_lexer": "ipython3",
   "version": "3.12.4"
  }
 },
 "nbformat": 4,
 "nbformat_minor": 5
}
