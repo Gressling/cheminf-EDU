{
  "nbformat": 4,
  "nbformat_minor": 0,
  "metadata": {
    "colab": {
      "provenance": []
    },
    "kernelspec": {
      "name": "python3",
      "display_name": "Python 3"
    },
    "language_info": {
      "name": "python"
    }
  },
  "cells": [
    {
      "cell_type": "markdown",
      "source": [
        "Connection to Database\n"
      ],
      "metadata": {
        "id": "WoHlmLoBZGcC"
      }
    },
    {
      "cell_type": "code",
      "source": [
        "!pip install PyMySQL\n",
        "import pymysql.cursors\n",
        "import pandas as pd\n",
        "import matplotlib.pyplot as plt\n",
        "\n",
        "host = 'den1.mysql6.gear.host'\n",
        "db = 'situation'\n",
        "usr = 'situation'\n",
        "psword = input(\"Enter password:\")\n",
        "\n",
        "# Connect to the database\n",
        "connection = pymysql.connect(host=host, user=usr, password=psword, database=db, cursorclass=pymysql.cursors.DictCursor)\n",
        "\n",
        "\n",
        "sql = \"SELECT * FROM situation.s19_biologicalassays\"\n",
        "\n",
        "with connection.cursor() as cursor:\n",
        "   cursor.execute(sql)\n",
        "   results = cursor.fetchall()\n",
        "   column_names = [desc[0] for desc in cursor.description]  # Get column names from the cursor description\n",
        "\n",
        "# Initialize an empty DataFrame with the column names\n",
        "df = pd.DataFrame(columns=column_names)\n",
        "\n",
        "# Collect all rows in a list\n",
        "rows = []\n",
        "\n",
        "# Loop through the fetched results and add each row to the list\n",
        "for row in results:\n",
        "   rows.append(pd.Series(row, index=column_names))\n",
        "\n",
        "# Convert the list of rows to a DataFrame and concatenate it with the initial empty DataFrame\n",
        "df = pd.concat([df, pd.DataFrame(rows)], ignore_index=True)\n",
        "\n",
        "\n",
        "connection.close()\n",
        "print(df)\n",
        "\n"
      ],
      "metadata": {
        "id": "sfzVIA2D14K6",
        "colab": {
          "base_uri": "https://localhost:8080/"
        },
        "outputId": "bca063e2-3ec6-4cd8-c01d-067e9097442b"
      },
      "execution_count": 6,
      "outputs": [
        {
          "output_type": "stream",
          "name": "stdout",
          "text": [
            "Requirement already satisfied: PyMySQL in /usr/local/lib/python3.10/dist-packages (1.1.1)\n",
            "Enter password:aichem567.\n",
            "   assay_id compound_name    target  assay_type measurement_type  \\\n",
            "0         1     CompoundA  ProteinX     Binding               Kd   \n",
            "1         2     CompoundB  ProteinY  Inhibition             IC50   \n",
            "2         3     CompoundC  ProteinZ  Activation             EC50   \n",
            "3         4     CompoundD  ProteinA     Binding               Kd   \n",
            "4         5     CompoundE  ProteinB  Inhibition             IC50   \n",
            "5         6     CompoundF  ProteinC  Activation             EC50   \n",
            "6         7     CompoundG  ProteinD     Binding               Kd   \n",
            "7         8     CompoundH  ProteinE  Inhibition             IC50   \n",
            "8         9     CompoundI  ProteinF  Activation             EC50   \n",
            "9        10     CompoundJ  ProteinG     Binding               Kd   \n",
            "10       11     CompoundK  ProteinH  Inhibition             IC50   \n",
            "11       12     CompoundL  ProteinI  Activation             EC50   \n",
            "12       13     CompoundM  ProteinJ     Binding               Kd   \n",
            "13       14     CompoundN  ProteinK  Inhibition             IC50   \n",
            "14       15     CompoundO  ProteinL  Activation             EC50   \n",
            "15       16     CompoundP  ProteinM     Binding               Kd   \n",
            "16       17     CompoundQ  ProteinN  Inhibition             IC50   \n",
            "17       18     CompoundR  ProteinO  Activation             EC50   \n",
            "18       19     CompoundS  ProteinP     Binding               Kd   \n",
            "19       20     CompoundT  ProteinQ  Inhibition             IC50   \n",
            "20       21     CompoundU  ProteinR  Activation             EC50   \n",
            "21       22     CompoundV  ProteinS     Binding               Kd   \n",
            "22       23     CompoundW  ProteinT  Inhibition             IC50   \n",
            "23       24     CompoundX  ProteinU  Activation             EC50   \n",
            "24       25     CompoundY  ProteinV     Binding               Kd   \n",
            "25       26     CompoundZ  ProteinW  Inhibition             IC50   \n",
            "26       27    CompoundAA  ProteinX  Activation             EC50   \n",
            "27       28    CompoundAB  ProteinY     Binding               Kd   \n",
            "28       29    CompoundAC  ProteinZ  Inhibition             IC50   \n",
            "29       30    CompoundAD  ProteinA  Activation             EC50   \n",
            "30       31    CompoundAE  ProteinB     Binding               Kd   \n",
            "\n",
            "    assay_result efficacy_class date_performed                     notes  \n",
            "0           0.54              1     2023-01-01             High affinity  \n",
            "1           1.20              1     2023-01-02       Moderate inhibition  \n",
            "2           0.30              1     2023-01-03         Strong activation  \n",
            "3           2.00              0     2023-01-04              Low affinity  \n",
            "4           5.50              0     2023-01-05           Weak inhibition  \n",
            "5           0.80              1     2023-01-06       Moderate activation  \n",
            "6           0.45              1     2023-01-07        Very high affinity  \n",
            "7           1.00              1     2023-01-08           Good inhibition  \n",
            "8           0.25              1     2023-01-09    Very strong activation  \n",
            "9           3.50              0     2023-01-10               Ineffective  \n",
            "10          6.00              0     2023-01-11             No inhibition  \n",
            "11          1.10              1     2023-01-12                  Moderate  \n",
            "12          0.60              1     2023-01-13                 Effective  \n",
            "13          0.90              1     2023-01-14      Effective inhibition  \n",
            "14          0.20              1     2023-01-15          Highly effective  \n",
            "15          4.00              0     2023-01-16             Not effective  \n",
            "16          7.80              0     2023-01-17            Not inhibitory  \n",
            "17          1.30              1     2023-01-18                    Active  \n",
            "18          0.55              1     2023-01-19              Good binding  \n",
            "19          1.10              1     2023-01-20            Effective dose  \n",
            "20          0.40              1     2023-01-21            Very effective  \n",
            "21          2.80              0     2023-01-22      Low binding efficacy  \n",
            "22          8.00              0     2023-01-23               Ineffective  \n",
            "23          1.20              1     2023-01-24                    Active  \n",
            "24          0.50              1     2023-01-25         Effective binding  \n",
            "25          0.95              1     2023-01-26           High inhibition  \n",
            "26          0.35              1     2023-01-27      Effective activation  \n",
            "27          1.90              0     2023-01-28       Ineffective binding  \n",
            "28          2.10              1     2023-01-29  Effective at higher dose  \n",
            "29          0.70              1     2023-01-30      Moderately effective  \n",
            "30          0.75              0     2023-01-31              Low affinity  \n"
          ]
        }
      ]
    },
    {
      "cell_type": "markdown",
      "source": [
        "Implementation of Neural Network MLP"
      ],
      "metadata": {
        "id": "BCosHjBnY-Fl"
      }
    },
    {
      "cell_type": "code",
      "source": [
        "# Change the datatype to use it in MLP\n",
        "print(df.dtypes)\n",
        "df['assay_id'] = df['assay_id'].astype(int)\n",
        "# Drop date since there is no dependency on that\n",
        "df = df.drop('date_performed', axis=1)\n",
        "\n",
        "# Convert to 'category' dtype first\n",
        "df['compound_name'] = df['compound_name'].astype('category')\n",
        "df['target'] = df['target'].astype('category')\n",
        "df['assay_type'] = df['assay_type'].astype('category')\n",
        "df['measurement_type'] = df['measurement_type'].astype('category')\n",
        "df['notes'] = df['notes'].astype('category')\n",
        "\n",
        "# Then convert categories to their corresponding codes\n",
        "df['compound_name'] = df['compound_name'].cat.codes\n",
        "df['target'] = df['target'].cat.codes\n",
        "df['assay_type'] = df['assay_type'].cat.codes\n",
        "df['measurement_type'] = df['measurement_type'].cat.codes\n",
        "df['notes'] = df['notes'].cat.codes\n",
        "\n",
        "\n",
        "print(df.dtypes)"
      ],
      "metadata": {
        "colab": {
          "base_uri": "https://localhost:8080/"
        },
        "id": "7WGzeYiyaRvG",
        "outputId": "a5b16015-cbde-4a1e-c6bd-9cb93dbced6c"
      },
      "execution_count": 20,
      "outputs": [
        {
          "output_type": "stream",
          "name": "stdout",
          "text": [
            "assay_id                     int64\n",
            "compound_name                 int8\n",
            "target                        int8\n",
            "assay_type                    int8\n",
            "measurement_type              int8\n",
            "assay_result               float64\n",
            "efficacy_class            category\n",
            "date_performed      datetime64[ns]\n",
            "notes                         int8\n",
            "dtype: object\n",
            "assay_id               int64\n",
            "compound_name           int8\n",
            "target                  int8\n",
            "assay_type              int8\n",
            "measurement_type        int8\n",
            "assay_result         float64\n",
            "efficacy_class      category\n",
            "notes                   int8\n",
            "dtype: object\n"
          ]
        }
      ]
    },
    {
      "cell_type": "code",
      "source": [
        "from sklearn.model_selection import train_test_split\n",
        "from sklearn.neural_network import MLPRegressor\n",
        "from sklearn.preprocessing import StandardScaler\n",
        "from sklearn.metrics import mean_squared_error\n",
        "import numpy as np\n",
        "\n",
        "\n",
        "# Check for missing values\n",
        "print(df.isnull().sum())\n",
        "# Prepare the data\n",
        "X = df.drop('assay_result', axis=1)  # Only use numeric columns as features\n",
        "print(X)\n",
        "y = df['assay_result']\n",
        "\n",
        "# Split the data\n",
        "X_train, X_test, y_train, y_test = train_test_split(X, y, test_size=0.2, random_state=42)\n",
        "# Standardize data\n",
        "scaler = StandardScaler()\n",
        "X_train_scaled = scaler.fit_transform(X_train)\n",
        "X_test_scaled = scaler.transform(X_test)\n",
        "\n",
        "# Train model\n",
        "mlp = MLPRegressor(hidden_layer_sizes=(100,), max_iter=500, random_state=42)\n",
        "mlp.fit(X_train_scaled, y_train)\n",
        "\n",
        "# Evaluate model\n",
        "y_pred = mlp.predict(X_test_scaled)\n",
        "mse = mean_squared_error(y_test, y_pred)\n",
        "print(\"Mean Squared Error:\", mse)\n",
        "\n"
      ],
      "metadata": {
        "colab": {
          "base_uri": "https://localhost:8080/"
        },
        "id": "4O5IqnvWSyqf",
        "outputId": "d65daf98-ac31-4977-b859-3a5a61beb4fb"
      },
      "execution_count": 23,
      "outputs": [
        {
          "output_type": "stream",
          "name": "stdout",
          "text": [
            "assay_id            0\n",
            "compound_name       0\n",
            "target              0\n",
            "assay_type          0\n",
            "measurement_type    0\n",
            "assay_result        0\n",
            "efficacy_class      0\n",
            "notes               0\n",
            "dtype: int64\n",
            "    assay_id  compound_name  target  assay_type  measurement_type  \\\n",
            "0          1              0      23           1                 2   \n",
            "1          2              6      24           2                 1   \n",
            "2          3              7      25           0                 0   \n",
            "3          4              8       0           1                 2   \n",
            "4          5              9       1           2                 1   \n",
            "5          6             10       2           0                 0   \n",
            "6          7             11       3           1                 2   \n",
            "7          8             12       4           2                 1   \n",
            "8          9             13       5           0                 0   \n",
            "9         10             14       6           1                 2   \n",
            "10        11             15       7           2                 1   \n",
            "11        12             16       8           0                 0   \n",
            "12        13             17       9           1                 2   \n",
            "13        14             18      10           2                 1   \n",
            "14        15             19      11           0                 0   \n",
            "15        16             20      12           1                 2   \n",
            "16        17             21      13           2                 1   \n",
            "17        18             22      14           0                 0   \n",
            "18        19             23      15           1                 2   \n",
            "19        20             24      16           2                 1   \n",
            "20        21             25      17           0                 0   \n",
            "21        22             26      18           1                 2   \n",
            "22        23             27      19           2                 1   \n",
            "23        24             28      20           0                 0   \n",
            "24        25             29      21           1                 2   \n",
            "25        26             30      22           2                 1   \n",
            "26        27              1      23           0                 0   \n",
            "27        28              2      24           1                 2   \n",
            "28        29              3      25           2                 1   \n",
            "29        30              4       0           0                 0   \n",
            "30        31              5       1           1                 2   \n",
            "\n",
            "   efficacy_class  notes  \n",
            "0               1      9  \n",
            "1               1     18  \n",
            "2               1     23  \n",
            "3               0     14  \n",
            "4               0     27  \n",
            "5               1     17  \n",
            "6               1     25  \n",
            "7               1      8  \n",
            "8               1     26  \n",
            "9               0     12  \n",
            "10              0     20  \n",
            "11              1     16  \n",
            "12              1      1  \n",
            "13              1      6  \n",
            "14              1     11  \n",
            "15              0     21  \n",
            "16              0     22  \n",
            "17              1      0  \n",
            "18              1      7  \n",
            "19              1      5  \n",
            "20              1     24  \n",
            "21              0     15  \n",
            "22              0     12  \n",
            "23              1      0  \n",
            "24              1      4  \n",
            "25              1     10  \n",
            "26              1      2  \n",
            "27              0     13  \n",
            "28              1      3  \n",
            "29              1     19  \n",
            "30              0     14  \n",
            "Mean Squared Error: 1.1925675152023825\n"
          ]
        }
      ]
    },
    {
      "cell_type": "code",
      "source": [
        "# Plot the results\n",
        "plt.figure(figsize=(10, 6))\n",
        "plt.scatter(y_test, y_pred, color='blue', alpha=0.6, edgecolor='w', s=100)\n",
        "plt.xlabel('Actual Assay Results')\n",
        "plt.ylabel('Predicted Assay Results')\n",
        "plt.title('MLP Regression Results')\n",
        "plt.grid(True)\n",
        "plt.show()"
      ],
      "metadata": {
        "colab": {
          "base_uri": "https://localhost:8080/",
          "height": 564
        },
        "id": "2PvRhtH9Z_bD",
        "outputId": "3f63fc3e-fed2-46f4-c87d-1b397b27d9de"
      },
      "execution_count": 22,
      "outputs": [
        {
          "output_type": "display_data",
          "data": {
            "text/plain": [
              "<Figure size 1000x600 with 1 Axes>"
            ],
            "image/png": "[encoded data removed]"
          },
          "metadata": {}
        }
      ]
    },
    {
      "cell_type": "code",
      "source": [],
      "metadata": {
        "id": "vODVBoxydOCQ"
      },
      "execution_count": null,
      "outputs": []
    }
  ]
}