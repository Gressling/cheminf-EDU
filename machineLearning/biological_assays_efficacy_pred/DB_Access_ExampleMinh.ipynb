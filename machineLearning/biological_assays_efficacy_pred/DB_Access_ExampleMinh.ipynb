{
 "nbformat": 4,
 "nbformat_minor": 0,
 "metadata": {
  "colab": {
   "provenance": []
  },
  "kernelspec": {
   "name": "python3",
   "language": "python",
   "display_name": "Python 3 (ipykernel)"
  },
  "language_info": {
   "name": "python"
  }
 },
 "cells": [
  {
   "cell_type": "code",
   "source": [
    "!pip install PyMySQL"
   ],
   "metadata": {
    "colab": {
     "base_uri": "https://localhost:8080/"
    },
    "id": "9NIk6uh_o2Qm",
    "outputId": "70bb85ae-388b-4539-d533-09eec09ab580",
    "ExecuteTime": {
     "end_time": "2024-05-23T18:04:40.455624Z",
     "start_time": "2024-05-23T18:04:36.283736Z"
    }
   },
   "execution_count": 12,
   "outputs": [
    {
     "name": "stdout",
     "output_type": "stream",
     "text": [
      "Requirement already satisfied: PyMySQL in c:\\users\\minh\\anaconda3\\lib\\site-packages (1.1.1)\n"
     ]
    }
   ]
  },
  {
   "cell_type": "code",
   "execution_count": 13,
   "metadata": {
    "id": "ymDm-UTuozIS",
    "ExecuteTime": {
     "end_time": "2024-05-23T18:04:40.459658Z",
     "start_time": "2024-05-23T18:04:40.456631Z"
    }
   },
   "outputs": [],
   "source": [
    "import pymysql.cursors\n",
    "import pandas as pd"
   ]
  },
  {
   "cell_type": "code",
   "source": [
    "host = 'den1.mysql6.gear.host'\n",
    "db = 'situation'\n",
    "usr = 'situation'\n",
    "psword = 'cogni88.'\n",
    "\n",
    "# Connect to the database\n",
    "connection = pymysql.connect(host=host, user=usr, password=psword, database=db, cursorclass=pymysql.cursors.DictCursor)"
   ],
   "metadata": {
    "id": "uREGQO5oo6kn",
    "ExecuteTime": {
     "end_time": "2024-05-23T18:04:41.275664Z",
     "start_time": "2024-05-23T18:04:40.460665Z"
    }
   },
   "execution_count": 14,
   "outputs": []
  },
  {
   "cell_type": "code",
   "source": [
    "sql = \"SELECT * FROM situation.s19_biologicalassays\"\n",
    "\n",
    "with connection.cursor() as cursor:\n",
    "   cursor.execute(sql)\n",
    "   results = cursor.fetchall()\n",
    "   column_names = [desc[0] for desc in cursor.description]  # Get column names from the cursor description\n",
    "\n",
    "# Initialize an empty DataFrame with the column names\n",
    "df = pd.DataFrame(columns=column_names)\n",
    "\n",
    "# Collect all rows in a list\n",
    "rows = []\n",
    "\n",
    "# Loop through the fetched results and add each row to the list\n",
    "for row in results:\n",
    "   rows.append(pd.Series(row, index=column_names))\n",
    "\n",
    "# Convert the list of rows to a DataFrame and concatenate it with the initial empty DataFrame\n",
    "df = pd.concat([df, pd.DataFrame(rows)], ignore_index=True)\n",
    "\n",
    "\n",
    "connection.close()\n",
    "print(df)"
   ],
   "metadata": {
    "colab": {
     "base_uri": "https://localhost:8080/"
    },
    "id": "itWlKrwgpFUh",
    "outputId": "e8559af0-89c1-4889-8d45-0f3e3b36c790",
    "ExecuteTime": {
     "end_time": "2024-05-23T18:05:45.677913Z",
     "start_time": "2024-05-23T18:05:45.497978Z"
    }
   },
   "execution_count": 17,
   "outputs": [
    {
     "name": "stdout",
     "output_type": "stream",
     "text": [
      "   assay_id compound_name    target  assay_type measurement_type  \\\n",
      "0         1     CompoundA  ProteinX     Binding               Kd   \n",
      "1         2     CompoundB  ProteinY  Inhibition             IC50   \n",
      "2         3     CompoundC  ProteinZ  Activation             EC50   \n",
      "3         4     CompoundD  ProteinA     Binding               Kd   \n",
      "4         5     CompoundE  ProteinB  Inhibition             IC50   \n",
      "5         6     CompoundF  ProteinC  Activation             EC50   \n",
      "6         7     CompoundG  ProteinD     Binding               Kd   \n",
      "7         8     CompoundH  ProteinE  Inhibition             IC50   \n",
      "8         9     CompoundI  ProteinF  Activation             EC50   \n",
      "9        10     CompoundJ  ProteinG     Binding               Kd   \n",
      "10       11     CompoundK  ProteinH  Inhibition             IC50   \n",
      "11       12     CompoundL  ProteinI  Activation             EC50   \n",
      "12       13     CompoundM  ProteinJ     Binding               Kd   \n",
      "13       14     CompoundN  ProteinK  Inhibition             IC50   \n",
      "14       15     CompoundO  ProteinL  Activation             EC50   \n",
      "15       16     CompoundP  ProteinM     Binding               Kd   \n",
      "16       17     CompoundQ  ProteinN  Inhibition             IC50   \n",
      "17       18     CompoundR  ProteinO  Activation             EC50   \n",
      "18       19     CompoundS  ProteinP     Binding               Kd   \n",
      "19       20     CompoundT  ProteinQ  Inhibition             IC50   \n",
      "20       21     CompoundU  ProteinR  Activation             EC50   \n",
      "21       22     CompoundV  ProteinS     Binding               Kd   \n",
      "22       23     CompoundW  ProteinT  Inhibition             IC50   \n",
      "23       24     CompoundX  ProteinU  Activation             EC50   \n",
      "24       25     CompoundY  ProteinV     Binding               Kd   \n",
      "25       26     CompoundZ  ProteinW  Inhibition             IC50   \n",
      "26       27    CompoundAA  ProteinX  Activation             EC50   \n",
      "27       28    CompoundAB  ProteinY     Binding               Kd   \n",
      "28       29    CompoundAC  ProteinZ  Inhibition             IC50   \n",
      "29       30    CompoundAD  ProteinA  Activation             EC50   \n",
      "30       31    CompoundAE  ProteinB     Binding               Kd   \n",
      "\n",
      "    assay_result efficacy_class date_performed                     notes  \n",
      "0           0.54              1     2023-01-01             High affinity  \n",
      "1           1.20              1     2023-01-02       Moderate inhibition  \n",
      "2           0.30              1     2023-01-03         Strong activation  \n",
      "3           2.00              0     2023-01-04              Low affinity  \n",
      "4           5.50              0     2023-01-05           Weak inhibition  \n",
      "5           0.80              1     2023-01-06       Moderate activation  \n",
      "6           0.45              1     2023-01-07        Very high affinity  \n",
      "7           1.00              1     2023-01-08           Good inhibition  \n",
      "8           0.25              1     2023-01-09    Very strong activation  \n",
      "9           3.50              0     2023-01-10               Ineffective  \n",
      "10          6.00              0     2023-01-11             No inhibition  \n",
      "11          1.10              1     2023-01-12                  Moderate  \n",
      "12          0.60              1     2023-01-13                 Effective  \n",
      "13          0.90              1     2023-01-14      Effective inhibition  \n",
      "14          0.20              1     2023-01-15          Highly effective  \n",
      "15          4.00              0     2023-01-16             Not effective  \n",
      "16          7.80              0     2023-01-17            Not inhibitory  \n",
      "17          1.30              1     2023-01-18                    Active  \n",
      "18          0.55              1     2023-01-19              Good binding  \n",
      "19          1.10              1     2023-01-20            Effective dose  \n",
      "20          0.40              1     2023-01-21            Very effective  \n",
      "21          2.80              0     2023-01-22      Low binding efficacy  \n",
      "22          8.00              0     2023-01-23               Ineffective  \n",
      "23          1.20              1     2023-01-24                    Active  \n",
      "24          0.50              1     2023-01-25         Effective binding  \n",
      "25          0.95              1     2023-01-26           High inhibition  \n",
      "26          0.35              1     2023-01-27      Effective activation  \n",
      "27          1.90              0     2023-01-28       Ineffective binding  \n",
      "28          2.10              1     2023-01-29  Effective at higher dose  \n",
      "29          0.70              1     2023-01-30      Moderately effective  \n",
      "30          0.75              0     2023-01-31              Low affinity  \n"
     ]
    }
   ]
  },
  {
   "cell_type": "code",
   "outputs": [],
   "source": [],
   "metadata": {
    "collapsed": false,
    "ExecuteTime": {
     "end_time": "2024-05-23T18:04:41.456374Z",
     "start_time": "2024-05-23T18:04:41.456374Z"
    }
   }
  }
 ]
}
