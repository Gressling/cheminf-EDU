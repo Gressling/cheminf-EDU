{
  "nbformat": 4,
  "nbformat_minor": 0,
  "metadata": {
    "colab": {
      "provenance": []
    },
    "kernelspec": {
      "name": "python3",
      "language": "python",
      "display_name": "Python 3 (ipykernel)"
    },
    "language_info": {
      "name": "python"
    }
  },
  "cells": [
    {
      "cell_type": "code",
      "source": [
        "!pip install PyMySQL"
      ],
      "metadata": {
        "colab": {
          "base_uri": "https://localhost:8080/"
        },
        "id": "9NIk6uh_o2Qm",
        "outputId": "f54b119e-6dbe-4250-ea34-d4231a014f97",
        "ExecuteTime": {
          "end_time": "2024-05-23T18:04:40.455624Z",
          "start_time": "2024-05-23T18:04:36.283736Z"
        }
      },
      "execution_count": 1,
      "outputs": [
        {
          "output_type": "stream",
          "name": "stdout",
          "text": [
            "Collecting PyMySQL\n",
            "  Downloading PyMySQL-1.1.1-py3-none-any.whl (44 kB)\n",
            "\u001b[2K     \u001b[90m━━━━━━━━━━━━━━━━━━━━━━━━━━━━━━━━━━━━━━━━\u001b[0m \u001b[32m45.0/45.0 kB\u001b[0m \u001b[31m692.6 kB/s\u001b[0m eta \u001b[36m0:00:00\u001b[0m\n",
            "\u001b[?25hInstalling collected packages: PyMySQL\n",
            "Successfully installed PyMySQL-1.1.1\n"
          ]
        }
      ]
    },
    {
      "cell_type": "code",
      "execution_count": 6,
      "metadata": {
        "id": "ymDm-UTuozIS",
        "ExecuteTime": {
          "end_time": "2024-05-23T18:04:40.459658Z",
          "start_time": "2024-05-23T18:04:40.456631Z"
        }
      },
      "outputs": [],
      "source": [
        "import pymysql.cursors\n",
        "import pandas as pd\n",
        "import matplotlib.pyplot as plt"
      ]
    },
    {
      "cell_type": "code",
      "source": [
        "host = 'den1.mysql6.gear.host'\n",
        "db = 'situation'\n",
        "usr = 'situation'\n",
        "psword = input(\"Enter password:\")\n",
        "\n",
        "# Connect to the database\n",
        "connection = pymysql.connect(host=host, user=usr, password=psword, database=db, cursorclass=pymysql.cursors.DictCursor)"
      ],
      "metadata": {
        "id": "uREGQO5oo6kn",
        "ExecuteTime": {
          "end_time": "2024-05-23T18:04:41.275664Z",
          "start_time": "2024-05-23T18:04:40.460665Z"
        },
        "colab": {
          "base_uri": "https://localhost:8080/"
        },
        "outputId": "37c24408-6adc-4787-f1b2-1f4c2fca2df5"
      },
      "execution_count": 3,
      "outputs": [
        {
          "name": "stdout",
          "output_type": "stream",
          "text": [
            "Enter password:xxxx\n"
          ]
        }
      ]
    },
    {
      "cell_type": "code",
      "source": [
        "sql = \"SELECT * FROM situation.s19_biologicalassays\"\n",
        "\n",
        "with connection.cursor() as cursor:\n",
        "   cursor.execute(sql)\n",
        "   results = cursor.fetchall()\n",
        "   column_names = [desc[0] for desc in cursor.description]  # Get column names from the cursor description\n",
        "\n",
        "# Initialize an empty DataFrame with the column names\n",
        "df = pd.DataFrame(columns=column_names)\n",
        "\n",
        "# Collect all rows in a list\n",
        "rows = []\n",
        "\n",
        "# Loop through the fetched results and add each row to the list\n",
        "for row in results:\n",
        "   rows.append(pd.Series(row, index=column_names))\n",
        "\n",
        "# Convert the list of rows to a DataFrame and concatenate it with the initial empty DataFrame\n",
        "df = pd.concat([df, pd.DataFrame(rows)], ignore_index=True)\n",
        "\n",
        "\n",
        "connection.close()\n",
        "print(df)"
      ],
      "metadata": {
        "colab": {
          "base_uri": "https://localhost:8080/"
        },
        "id": "itWlKrwgpFUh",
        "outputId": "b12cbeb4-6c56-45ed-a051-f00711da24df",
        "ExecuteTime": {
          "end_time": "2024-05-23T18:05:45.677913Z",
          "start_time": "2024-05-23T18:05:45.497978Z"
        },
        "collapsed": true
      },
      "execution_count": 4,
      "outputs": [
        {
          "output_type": "stream",
          "name": "stdout",
          "text": [
            "   assay_id compound_name    target  assay_type measurement_type  \\\n",
            "0         1     CompoundA  ProteinX     Binding               Kd   \n",
            "1         2     CompoundB  ProteinY  Inhibition             IC50   \n",
            "2         3     CompoundC  ProteinZ  Activation             EC50   \n",
            "3         4     CompoundD  ProteinA     Binding               Kd   \n",
            "4         5     CompoundE  ProteinB  Inhibition             IC50   \n",
            "5         6     CompoundF  ProteinC  Activation             EC50   \n",
            "6         7     CompoundG  ProteinD     Binding               Kd   \n",
            "7         8     CompoundH  ProteinE  Inhibition             IC50   \n",
            "8         9     CompoundI  ProteinF  Activation             EC50   \n",
            "9        10     CompoundJ  ProteinG     Binding               Kd   \n",
            "10       11     CompoundK  ProteinH  Inhibition             IC50   \n",
            "11       12     CompoundL  ProteinI  Activation             EC50   \n",
            "12       13     CompoundM  ProteinJ     Binding               Kd   \n",
            "13       14     CompoundN  ProteinK  Inhibition             IC50   \n",
            "14       15     CompoundO  ProteinL  Activation             EC50   \n",
            "15       16     CompoundP  ProteinM     Binding               Kd   \n",
            "16       17     CompoundQ  ProteinN  Inhibition             IC50   \n",
            "17       18     CompoundR  ProteinO  Activation             EC50   \n",
            "18       19     CompoundS  ProteinP     Binding               Kd   \n",
            "19       20     CompoundT  ProteinQ  Inhibition             IC50   \n",
            "20       21     CompoundU  ProteinR  Activation             EC50   \n",
            "21       22     CompoundV  ProteinS     Binding               Kd   \n",
            "22       23     CompoundW  ProteinT  Inhibition             IC50   \n",
            "23       24     CompoundX  ProteinU  Activation             EC50   \n",
            "24       25     CompoundY  ProteinV     Binding               Kd   \n",
            "25       26     CompoundZ  ProteinW  Inhibition             IC50   \n",
            "26       27    CompoundAA  ProteinX  Activation             EC50   \n",
            "27       28    CompoundAB  ProteinY     Binding               Kd   \n",
            "28       29    CompoundAC  ProteinZ  Inhibition             IC50   \n",
            "29       30    CompoundAD  ProteinA  Activation             EC50   \n",
            "30       31    CompoundAE  ProteinB     Binding               Kd   \n",
            "\n",
            "    assay_result efficacy_class date_performed                     notes  \n",
            "0           0.54              1     2023-01-01             High affinity  \n",
            "1           1.20              1     2023-01-02       Moderate inhibition  \n",
            "2           0.30              1     2023-01-03         Strong activation  \n",
            "3           2.00              0     2023-01-04              Low affinity  \n",
            "4           5.50              0     2023-01-05           Weak inhibition  \n",
            "5           0.80              1     2023-01-06       Moderate activation  \n",
            "6           0.45              1     2023-01-07        Very high affinity  \n",
            "7           1.00              1     2023-01-08           Good inhibition  \n",
            "8           0.25              1     2023-01-09    Very strong activation  \n",
            "9           3.50              0     2023-01-10               Ineffective  \n",
            "10          6.00              0     2023-01-11             No inhibition  \n",
            "11          1.10              1     2023-01-12                  Moderate  \n",
            "12          0.60              1     2023-01-13                 Effective  \n",
            "13          0.90              1     2023-01-14      Effective inhibition  \n",
            "14          0.20              1     2023-01-15          Highly effective  \n",
            "15          4.00              0     2023-01-16             Not effective  \n",
            "16          7.80              0     2023-01-17            Not inhibitory  \n",
            "17          1.30              1     2023-01-18                    Active  \n",
            "18          0.55              1     2023-01-19              Good binding  \n",
            "19          1.10              1     2023-01-20            Effective dose  \n",
            "20          0.40              1     2023-01-21            Very effective  \n",
            "21          2.80              0     2023-01-22      Low binding efficacy  \n",
            "22          8.00              0     2023-01-23               Ineffective  \n",
            "23          1.20              1     2023-01-24                    Active  \n",
            "24          0.50              1     2023-01-25         Effective binding  \n",
            "25          0.95              1     2023-01-26           High inhibition  \n",
            "26          0.35              1     2023-01-27      Effective activation  \n",
            "27          1.90              0     2023-01-28       Ineffective binding  \n",
            "28          2.10              1     2023-01-29  Effective at higher dose  \n",
            "29          0.70              1     2023-01-30      Moderately effective  \n",
            "30          0.75              0     2023-01-31              Low affinity  \n"
          ]
        }
      ]
    },
    {
      "cell_type": "code",
      "outputs": [
        {
          "output_type": "stream",
          "name": "stdout",
          "text": [
            "Minimum value: 0.2\n",
            "Maximum value: 8.0\n",
            "Range: 7.8\n"
          ]
        },
        {
          "output_type": "display_data",
          "data": {
            "text/plain": [
              "<Figure size 1000x600 with 1 Axes>"
            ],
            "image/png": "[encoded data removed]"
          },
          "metadata": {}
        }
      ],
      "source": [
        "# Calculate minima, maxima, and range\n",
        "minima = df['assay_result'].min()\n",
        "maxima = df['assay_result'].max()\n",
        "ranges = maxima - minima\n",
        "\n",
        "print(f\"Minimum value: {minima}\")\n",
        "print(f\"Maximum value: {maxima}\")\n",
        "print(f\"Range: {ranges}\")\n",
        "\n",
        "# Scatter plot\n",
        "plt.figure(figsize=(10, 6))\n",
        "plt.scatter(df.index, df['assay_result'], color='blue', alpha=0.6, edgecolor='w', s=100)\n",
        "plt.title('Scatter Plot of Assay Results')\n",
        "plt.xlabel('Index')\n",
        "plt.ylabel('Assay Result')\n",
        "plt.grid(True)\n",
        "plt.show()"
      ],
      "metadata": {
        "ExecuteTime": {
          "end_time": "2024-05-23T18:04:41.456374Z",
          "start_time": "2024-05-23T18:04:41.456374Z"
        },
        "colab": {
          "base_uri": "https://localhost:8080/",
          "height": 619
        },
        "id": "fWL457tUOiqO",
        "outputId": "06e33506-d483-41a4-b292-48c3718604a9"
      },
      "execution_count": 7
    }
  ]
}
