{
  "nbformat": 4,
  "nbformat_minor": 0,
  "metadata": {
    "colab": {
      "provenance": []
    },
    "kernelspec": {
      "name": "python3",
      "display_name": "Python 3"
    },
    "language_info": {
      "name": "python"
    }
  },
  "cells": [
    {
      "cell_type": "code",
      "execution_count": 2,
      "metadata": {
        "colab": {
          "base_uri": "https://localhost:8080/"
        },
        "id": "ghr7O5kslEPl",
        "outputId": "5a957cab-a4bf-4154-8a8a-25ef3be5bb67"
      },
      "outputs": [
        {
          "output_type": "stream",
          "name": "stdout",
          "text": [
            "Collecting pymysql\n",
            "  Downloading PyMySQL-1.1.1-py3-none-any.whl (44 kB)\n",
            "\u001b[2K     \u001b[90m━━━━━━━━━━━━━━━━━━━━━━━━━━━━━━━━━━━━━━━━\u001b[0m \u001b[32m45.0/45.0 kB\u001b[0m \u001b[31m584.6 kB/s\u001b[0m eta \u001b[36m0:00:00\u001b[0m\n",
            "\u001b[?25hInstalling collected packages: pymysql\n",
            "Successfully installed pymysql-1.1.1\n"
          ]
        }
      ],
      "source": [
        "! pip install pymysql\n",
        "import pymysql.cursors\n",
        "import pandas as pd\n",
        "import numpy as np\n",
        "from sklearn.model_selection import train_test_split\n",
        "from sklearn.neural_network import MLPClassifier\n",
        "from sklearn.metrics import classification_report, accuracy_score\n",
        "from sklearn.preprocessing import LabelEncoder\n",
        "from sklearn.preprocessing import StandardScaler, OneHotEncoder\n",
        "from sklearn.compose import ColumnTransformer\n",
        "from tensorflow.keras.models import Sequential\n",
        "from tensorflow.keras.layers import Dense, Conv1D, Flatten\n",
        "from tensorflow.keras.optimizers import Adam\n",
        "from sklearn.metrics import classification_report"
      ]
    },
    {
      "cell_type": "code",
      "source": [
        "host = 'den1.mysql6.gear.host'\n",
        "db = 'situation'\n",
        "usr = 'situation'\n",
        "psword = input()"
      ],
      "metadata": {
        "colab": {
          "base_uri": "https://localhost:8080/"
        },
        "id": "bw_EyAedmkli",
        "outputId": "3f46c345-c340-4a01-9700-8b861f19b043"
      },
      "execution_count": 3,
      "outputs": [
        {
          "name": "stdout",
          "output_type": "stream",
          "text": [
            "aichem567.\n"
          ]
        }
      ]
    },
    {
      "cell_type": "code",
      "source": [
        "# database connection\n",
        "connection = pymysql.connect(\n",
        "    host=host,\n",
        "    user=usr,\n",
        "    password=psword,\n",
        "    database=db,\n",
        "    charset=\"utf8mb4\",\n",
        "    cursorclass=pymysql.cursors.DictCursor,\n",
        "           )\n",
        "cursor = connection.cursor()\n",
        "\n",
        "UserId = 'zzyyliu98'\n",
        "sql =\"SELECT * FROM situation.a1_results;\"\n",
        "\n",
        "    # with connection.cursor() as cursor:\n",
        "    #   cursor.execute(sql % UserId)\n",
        "\n",
        "cursor.execute(sql)\n",
        "        # result for searching Databank\n",
        "result = cursor.fetchall()\n",
        "        # change result to dataframe\n",
        "df_raw = pd.DataFrame(result, columns=[i[0] for i in cursor.description])\n",
        "\n",
        "print(df_raw)"
      ],
      "metadata": {
        "id": "3hnKXTveq6Vo",
        "colab": {
          "base_uri": "https://localhost:8080/"
        },
        "outputId": "fe2fef96-7c74-4c24-c4e9-4958fd1b3cfa"
      },
      "execution_count": 4,
      "outputs": [
        {
          "output_type": "stream",
          "name": "stdout",
          "text": [
            "    ExperimentNumber  Weight  Yield                SampleDesc  QualityTest  \\\n",
            "0                  1     297   78.0   White crystalline solid            1   \n",
            "1                  2     488   70.0    Solid formation varies            1   \n",
            "2                  3     315   80.0  Speed of reaction varies            1   \n",
            "3                  4     120    NaN   Purity by melting point            0   \n",
            "4                  5     232   70.0      Degree of completion            1   \n",
            "..               ...     ...    ...                       ...          ...   \n",
            "56                 3      90   66.0                Compound B            0   \n",
            "57                 3     130   93.0                Compound C            1   \n",
            "58                 3     170   94.0                Compound A            1   \n",
            "59                 3      85   65.0                Compound B            0   \n",
            "60                 3     125   95.0                Compound C            1   \n",
            "\n",
            "    Spectrum_ID  ReactionTime  \n",
            "0           NaN           NaN  \n",
            "1           NaN           NaN  \n",
            "2           NaN           NaN  \n",
            "3           NaN           NaN  \n",
            "4           NaN           NaN  \n",
            "..          ...           ...  \n",
            "56         44.0        5300.0  \n",
            "57         45.0        6900.0  \n",
            "58         46.0        3700.0  \n",
            "59         47.0        5000.0  \n",
            "60         48.0        7200.0  \n",
            "\n",
            "[61 rows x 7 columns]\n"
          ]
        }
      ]
    },
    {
      "cell_type": "markdown",
      "source": [
        "From example: MLPClassifier"
      ],
      "metadata": {
        "id": "2GBE9_B0mwzw"
      }
    },
    {
      "cell_type": "code",
      "source": [
        "df_raw1 = df_raw\n",
        "\n",
        "#Select all results in Experiment 3 and delete the results with no reaction time\n",
        "df_raw1 = df_raw1[df_raw1['ExperimentNumber'] == 3]\n",
        "df_raw1 = df_raw1.dropna(subset=['ReactionTime'])\n",
        "\n",
        "\n",
        "# Define features and target variable\n",
        "X = df_raw1.drop(columns=[\"ExperimentNumber\", \"QualityTest\",\"SampleDesc\",\n",
        "            \"Spectrum_ID\"])\n",
        "y = df_raw1[\"QualityTest\"]\n",
        "\n",
        "X = pd.get_dummies(X)\n",
        "\n",
        "# Split the data into training and test sets\n",
        "X_train, X_test, y_train, y_test = train_test_split(X, y, test_size=0.2, random_state=42)\n",
        "\n",
        "model = MLPClassifier(random_state=42, max_iter=500)\n",
        "\n",
        "# Train the model\n",
        "model.fit(X_train, y_train)\n",
        "\n",
        "# Make predictions\n",
        "y_pred = model.predict(X_test)\n",
        "\n",
        "accuracy = accuracy_score(y_test, y_pred)\n",
        "report = classification_report(y_test, y_pred)\n",
        "\n",
        "print(f\"Accuracy: {round(accuracy * 100, 4)} %\\n\\nReport:\\n{report}\")\n"
      ],
      "metadata": {
        "colab": {
          "base_uri": "https://localhost:8080/"
        },
        "id": "OzvCXhAFmwMo",
        "outputId": "80216237-35ab-4f5c-b5a4-6bb1903b6b83"
      },
      "execution_count": 5,
      "outputs": [
        {
          "output_type": "stream",
          "name": "stdout",
          "text": [
            "Accuracy: 40.0 %\n",
            "\n",
            "Report:\n",
            "              precision    recall  f1-score   support\n",
            "\n",
            "           0       0.00      0.00      0.00         6\n",
            "           1       0.40      1.00      0.57         4\n",
            "\n",
            "    accuracy                           0.40        10\n",
            "   macro avg       0.20      0.50      0.29        10\n",
            "weighted avg       0.16      0.40      0.23        10\n",
            "\n"
          ]
        },
        {
          "output_type": "stream",
          "name": "stderr",
          "text": [
            "/usr/local/lib/python3.10/dist-packages/sklearn/metrics/_classification.py:1344: UndefinedMetricWarning: Precision and F-score are ill-defined and being set to 0.0 in labels with no predicted samples. Use `zero_division` parameter to control this behavior.\n",
            "  _warn_prf(average, modifier, msg_start, len(result))\n",
            "/usr/local/lib/python3.10/dist-packages/sklearn/metrics/_classification.py:1344: UndefinedMetricWarning: Precision and F-score are ill-defined and being set to 0.0 in labels with no predicted samples. Use `zero_division` parameter to control this behavior.\n",
            "  _warn_prf(average, modifier, msg_start, len(result))\n",
            "/usr/local/lib/python3.10/dist-packages/sklearn/metrics/_classification.py:1344: UndefinedMetricWarning: Precision and F-score are ill-defined and being set to 0.0 in labels with no predicted samples. Use `zero_division` parameter to control this behavior.\n",
            "  _warn_prf(average, modifier, msg_start, len(result))\n"
          ]
        }
      ]
    },
    {
      "cell_type": "markdown",
      "source": [
        "Suggestion: Neural Network Regression（Keras）"
      ],
      "metadata": {
        "id": "QMUmgB4yg_Yt"
      }
    },
    {
      "cell_type": "code",
      "source": [
        "# keras model\n",
        "model_keras= Sequential([\n",
        "    Dense(64, input_shape=(X_train.shape[1],), activation='relu'),\n",
        "    Dense(32, activation='relu'),\n",
        "    Dense(1, activation='sigmoid')\n",
        "])\n",
        "\n",
        "model_keras.compile(optimizer=Adam(learning_rate=0.001), loss='binary_crossentropy', metrics=['accuracy'])\n",
        "\n",
        "# training\n",
        "model_keras.fit(X_train, y_train, epochs=50, validation_data=(X_test, y_test))\n",
        "\n",
        "# prediction\n",
        "y_pred = model_keras.predict(X_test)\n",
        "y_pred_classes = (y_pred > 0.5).astype(int)\n",
        "\n",
        "\n",
        "# results\n",
        "test_results = X_test.copy()\n",
        "test_results['Predicted_QualityTest'] = y_pred_classes.flatten()\n",
        "\n",
        "print(f'Accuracy: {accuracy}')\n",
        "print(test_results)"
      ],
      "metadata": {
        "colab": {
          "base_uri": "https://localhost:8080/"
        },
        "id": "7vOslRRIhQZn",
        "outputId": "04793885-6bb5-4a3d-9c45-005da8199b4c"
      },
      "execution_count": 6,
      "outputs": [
        {
          "output_type": "stream",
          "name": "stdout",
          "text": [
            "Epoch 1/50\n",
            "2/2 [==============================] - 2s 378ms/step - loss: 95.6398 - accuracy: 0.7368 - val_loss: 81.1182 - val_accuracy: 0.4000\n",
            "Epoch 2/50\n",
            "2/2 [==============================] - 0s 81ms/step - loss: 32.7415 - accuracy: 0.7368 - val_loss: 23.8119 - val_accuracy: 0.6000\n",
            "Epoch 3/50\n",
            "2/2 [==============================] - 0s 50ms/step - loss: 55.4942 - accuracy: 0.2632 - val_loss: 0.9891 - val_accuracy: 0.9000\n",
            "Epoch 4/50\n",
            "2/2 [==============================] - 0s 64ms/step - loss: 2.7784 - accuracy: 0.7105 - val_loss: 76.6378 - val_accuracy: 0.4000\n",
            "Epoch 5/50\n",
            "2/2 [==============================] - 0s 49ms/step - loss: 36.8784 - accuracy: 0.7368 - val_loss: 113.5561 - val_accuracy: 0.4000\n",
            "Epoch 6/50\n",
            "2/2 [==============================] - 0s 50ms/step - loss: 49.4608 - accuracy: 0.7368 - val_loss: 115.0064 - val_accuracy: 0.4000\n",
            "Epoch 7/50\n",
            "2/2 [==============================] - 0s 66ms/step - loss: 49.6066 - accuracy: 0.7368 - val_loss: 96.3196 - val_accuracy: 0.4000\n",
            "Epoch 8/50\n",
            "2/2 [==============================] - 0s 74ms/step - loss: 39.7496 - accuracy: 0.7368 - val_loss: 52.9878 - val_accuracy: 0.4000\n",
            "Epoch 9/50\n",
            "2/2 [==============================] - 0s 57ms/step - loss: 20.6535 - accuracy: 0.7368 - val_loss: 3.3293 - val_accuracy: 0.6000\n",
            "Epoch 10/50\n",
            "2/2 [==============================] - 0s 52ms/step - loss: 12.6769 - accuracy: 0.2632 - val_loss: 7.5506 - val_accuracy: 0.6000\n",
            "Epoch 11/50\n",
            "2/2 [==============================] - 0s 36ms/step - loss: 17.4204 - accuracy: 0.3158 - val_loss: 20.5633 - val_accuracy: 0.4000\n",
            "Epoch 12/50\n",
            "2/2 [==============================] - 0s 34ms/step - loss: 9.6783 - accuracy: 0.7368 - val_loss: 43.4542 - val_accuracy: 0.4000\n",
            "Epoch 13/50\n",
            "2/2 [==============================] - 0s 50ms/step - loss: 19.8697 - accuracy: 0.7368 - val_loss: 40.2790 - val_accuracy: 0.4000\n",
            "Epoch 14/50\n",
            "2/2 [==============================] - 0s 49ms/step - loss: 17.1353 - accuracy: 0.7368 - val_loss: 13.4002 - val_accuracy: 0.4000\n",
            "Epoch 15/50\n",
            "2/2 [==============================] - 0s 39ms/step - loss: 5.7091 - accuracy: 0.7368 - val_loss: 5.8166 - val_accuracy: 0.6000\n",
            "Epoch 16/50\n",
            "2/2 [==============================] - 0s 36ms/step - loss: 15.6337 - accuracy: 0.2632 - val_loss: 8.4918 - val_accuracy: 0.4000\n",
            "Epoch 17/50\n",
            "2/2 [==============================] - 0s 54ms/step - loss: 4.4053 - accuracy: 0.7368 - val_loss: 27.8849 - val_accuracy: 0.4000\n",
            "Epoch 18/50\n",
            "2/2 [==============================] - 0s 39ms/step - loss: 12.6864 - accuracy: 0.7368 - val_loss: 24.8913 - val_accuracy: 0.4000\n",
            "Epoch 19/50\n",
            "2/2 [==============================] - 0s 43ms/step - loss: 10.5763 - accuracy: 0.7368 - val_loss: 2.0744 - val_accuracy: 0.4000\n",
            "Epoch 20/50\n",
            "2/2 [==============================] - 0s 64ms/step - loss: 3.3867 - accuracy: 0.6316 - val_loss: 4.8564 - val_accuracy: 0.6000\n",
            "Epoch 21/50\n",
            "2/2 [==============================] - 0s 61ms/step - loss: 11.0705 - accuracy: 0.2895 - val_loss: 26.0794 - val_accuracy: 0.4000\n",
            "Epoch 22/50\n",
            "2/2 [==============================] - 0s 42ms/step - loss: 11.5390 - accuracy: 0.7368 - val_loss: 64.4136 - val_accuracy: 0.4000\n",
            "Epoch 23/50\n",
            "2/2 [==============================] - 0s 41ms/step - loss: 29.8664 - accuracy: 0.7368 - val_loss: 80.5008 - val_accuracy: 0.4000\n",
            "Epoch 24/50\n",
            "2/2 [==============================] - 0s 46ms/step - loss: 35.0491 - accuracy: 0.7368 - val_loss: 72.5090 - val_accuracy: 0.4000\n",
            "Epoch 25/50\n",
            "2/2 [==============================] - 0s 57ms/step - loss: 31.2382 - accuracy: 0.7368 - val_loss: 49.1449 - val_accuracy: 0.4000\n",
            "Epoch 26/50\n",
            "2/2 [==============================] - 0s 36ms/step - loss: 19.0225 - accuracy: 0.7368 - val_loss: 10.1690 - val_accuracy: 0.4000\n",
            "Epoch 27/50\n",
            "2/2 [==============================] - 0s 36ms/step - loss: 7.6851 - accuracy: 0.6316 - val_loss: 11.0314 - val_accuracy: 0.6000\n",
            "Epoch 28/50\n",
            "2/2 [==============================] - 0s 51ms/step - loss: 28.1749 - accuracy: 0.2632 - val_loss: 0.5430 - val_accuracy: 0.9000\n",
            "Epoch 29/50\n",
            "2/2 [==============================] - 0s 56ms/step - loss: 3.5290 - accuracy: 0.6053 - val_loss: 39.8846 - val_accuracy: 0.4000\n",
            "Epoch 30/50\n",
            "2/2 [==============================] - 0s 51ms/step - loss: 18.0240 - accuracy: 0.7368 - val_loss: 58.0934 - val_accuracy: 0.4000\n",
            "Epoch 31/50\n",
            "2/2 [==============================] - 0s 32ms/step - loss: 25.4527 - accuracy: 0.7368 - val_loss: 60.8711 - val_accuracy: 0.4000\n",
            "Epoch 32/50\n",
            "2/2 [==============================] - 0s 35ms/step - loss: 26.5012 - accuracy: 0.7368 - val_loss: 51.4130 - val_accuracy: 0.4000\n",
            "Epoch 33/50\n",
            "2/2 [==============================] - 0s 38ms/step - loss: 22.1085 - accuracy: 0.7368 - val_loss: 29.2263 - val_accuracy: 0.4000\n",
            "Epoch 34/50\n",
            "2/2 [==============================] - 0s 34ms/step - loss: 12.2526 - accuracy: 0.7368 - val_loss: 0.7942 - val_accuracy: 0.9000\n",
            "Epoch 35/50\n",
            "2/2 [==============================] - 0s 42ms/step - loss: 4.8441 - accuracy: 0.5789 - val_loss: 0.5698 - val_accuracy: 0.6000\n",
            "Epoch 36/50\n",
            "2/2 [==============================] - 0s 40ms/step - loss: 1.9331 - accuracy: 0.6053 - val_loss: 18.8740 - val_accuracy: 0.4000\n",
            "Epoch 37/50\n",
            "2/2 [==============================] - 0s 45ms/step - loss: 8.4370 - accuracy: 0.7368 - val_loss: 19.5480 - val_accuracy: 0.4000\n",
            "Epoch 38/50\n",
            "2/2 [==============================] - 0s 41ms/step - loss: 8.3924 - accuracy: 0.7368 - val_loss: 6.5267 - val_accuracy: 0.4000\n",
            "Epoch 39/50\n",
            "2/2 [==============================] - 0s 60ms/step - loss: 3.0940 - accuracy: 0.7105 - val_loss: 3.5749 - val_accuracy: 0.6000\n",
            "Epoch 40/50\n",
            "2/2 [==============================] - 0s 39ms/step - loss: 10.8194 - accuracy: 0.2895 - val_loss: 13.9730 - val_accuracy: 0.4000\n",
            "Epoch 41/50\n",
            "2/2 [==============================] - 0s 52ms/step - loss: 8.0650 - accuracy: 0.7368 - val_loss: 29.9917 - val_accuracy: 0.4000\n",
            "Epoch 42/50\n",
            "2/2 [==============================] - 0s 34ms/step - loss: 13.1738 - accuracy: 0.7368 - val_loss: 23.3053 - val_accuracy: 0.4000\n",
            "Epoch 43/50\n",
            "2/2 [==============================] - 0s 35ms/step - loss: 9.9709 - accuracy: 0.7368 - val_loss: 3.2707 - val_accuracy: 0.4000\n",
            "Epoch 44/50\n",
            "2/2 [==============================] - 0s 60ms/step - loss: 4.1973 - accuracy: 0.6316 - val_loss: 1.7116 - val_accuracy: 0.9000\n",
            "Epoch 45/50\n",
            "2/2 [==============================] - 0s 52ms/step - loss: 6.8502 - accuracy: 0.4737 - val_loss: 15.8794 - val_accuracy: 0.4000\n",
            "Epoch 46/50\n",
            "2/2 [==============================] - 0s 36ms/step - loss: 7.4209 - accuracy: 0.7368 - val_loss: 16.3709 - val_accuracy: 0.4000\n",
            "Epoch 47/50\n",
            "2/2 [==============================] - 0s 45ms/step - loss: 6.7917 - accuracy: 0.7368 - val_loss: 0.5130 - val_accuracy: 0.8000\n",
            "Epoch 48/50\n",
            "2/2 [==============================] - 0s 55ms/step - loss: 2.1035 - accuracy: 0.6053 - val_loss: 3.9883 - val_accuracy: 0.4000\n",
            "Epoch 49/50\n",
            "2/2 [==============================] - 0s 36ms/step - loss: 2.1162 - accuracy: 0.7368 - val_loss: 7.4366 - val_accuracy: 0.4000\n",
            "Epoch 50/50\n",
            "2/2 [==============================] - 0s 35ms/step - loss: 3.4796 - accuracy: 0.7368 - val_loss: 0.5648 - val_accuracy: 0.9000\n",
            "1/1 [==============================] - 0s 94ms/step\n",
            "Accuracy: 0.4\n",
            "    Weight  Yield  ReactionTime  Predicted_QualityTest\n",
            "40     210   98.0        3400.0                      1\n",
            "53      95   68.0        5200.0                      0\n",
            "39     160   95.0        7300.0                      0\n",
            "56      90   66.0        5300.0                      0\n",
            "37     205   97.0        3500.0                      1\n",
            "50     100   69.0        5100.0                      0\n",
            "25     210   93.0        3300.0                      1\n",
            "32     130   77.0        5400.0                      0\n",
            "17     160   86.0        5500.0                      0\n",
            "38     120   74.0        5100.0                      0\n"
          ]
        }
      ]
    }
  ]
}