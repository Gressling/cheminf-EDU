{
  "nbformat": 4,
  "nbformat_minor": 0,
  "metadata": {
    "colab": {
      "provenance": []
    },
    "kernelspec": {
      "name": "python3",
      "display_name": "Python 3"
    },
    "language_info": {
      "name": "python"
    }
  },
  "cells": [
    {
      "cell_type": "code",
      "execution_count": 7,
      "metadata": {
        "colab": {
          "base_uri": "https://localhost:8080/"
        },
        "id": "t9hNXqv_XIxV",
        "outputId": "9c170746-f4e7-4a86-b962-dbbeb4ddcf53"
      },
      "outputs": [
        {
          "output_type": "stream",
          "name": "stdout",
          "text": [
            "Requirement already satisfied: pymysql in /usr/local/lib/python3.10/dist-packages (1.1.0)\n"
          ]
        }
      ],
      "source": [
        "# -*- coding: utf-8 -*-\n",
        "! pip install pymysql\n",
        "\n",
        "import pymysql.cursors\n",
        "import pandas as pd\n",
        "\n",
        "host = 'den1.mysql6.gear.host'\n",
        "db = 'situation'\n",
        "usr = 'situation'\n",
        "psword = 'cogni88.'"
      ]
    },
    {
      "cell_type": "code",
      "source": [
        "# database connection\n",
        "connection = pymysql.connect(\n",
        "    host=host,\n",
        "    user=usr,\n",
        "    password=psword,\n",
        "    database=db,\n",
        "    charset=\"utf8mb4\",\n",
        "    cursorclass=pymysql.cursors.DictCursor,\n",
        "           )"
      ],
      "metadata": {
        "id": "DKRM4bfuRWtu"
      },
      "execution_count": 8,
      "outputs": []
    },
    {
      "cell_type": "code",
      "source": [
        "cursor = connection.cursor()\n",
        "\n",
        "UserId = 'zzyyliu98'\n",
        "sql =\"SELECT * FROM situation.a1_results;\"\n",
        "\n",
        "    # with connection.cursor() as cursor:\n",
        "    #   cursor.execute(sql % UserId)\n",
        "\n",
        "cursor.execute(sql)\n",
        "        # result for searching Databank\n",
        "result = cursor.fetchall()\n",
        "        # change result to dataframe\n",
        "df_raw = pd.DataFrame(result, columns=[i[0] for i in cursor.description])\n",
        "\n",
        "print(df_raw)\n"
      ],
      "metadata": {
        "id": "kbD_VzO7RbWo",
        "colab": {
          "base_uri": "https://localhost:8080/"
        },
        "outputId": "58c49d7f-0ef6-4561-eee6-f7195b6a0e86"
      },
      "execution_count": 9,
      "outputs": [
        {
          "output_type": "stream",
          "name": "stdout",
          "text": [
            "    ExperimentNumber  Weight  Yield                SampleDesc  QualityTest  \\\n",
            "0                  1     297   78.0   White crystalline solid            1   \n",
            "1                  2     488   70.0    Solid formation varies            1   \n",
            "2                  3     315   80.0  Speed of reaction varies            1   \n",
            "3                  4     120    NaN   Purity by melting point            0   \n",
            "4                  5     232   70.0      Degree of completion            1   \n",
            "..               ...     ...    ...                       ...          ...   \n",
            "56                 3      90   66.0                Compound B            0   \n",
            "57                 3     130   93.0                Compound C            1   \n",
            "58                 3     170   94.0                Compound A            1   \n",
            "59                 3      85   65.0                Compound B            0   \n",
            "60                 3     125   95.0                Compound C            1   \n",
            "\n",
            "    Spectrum_ID  ReactionTime  \n",
            "0           NaN           NaN  \n",
            "1           NaN           NaN  \n",
            "2           NaN           NaN  \n",
            "3           NaN           NaN  \n",
            "4           NaN           NaN  \n",
            "..          ...           ...  \n",
            "56         44.0        5300.0  \n",
            "57         45.0        6900.0  \n",
            "58         46.0        3700.0  \n",
            "59         47.0        5000.0  \n",
            "60         48.0        7200.0  \n",
            "\n",
            "[61 rows x 7 columns]\n"
          ]
        }
      ]
    },
    {
      "cell_type": "code",
      "source": [
        "    # close connection\n",
        "cursor.close()\n",
        "connection.close()"
      ],
      "metadata": {
        "id": "Z-l-PFsTRc5X"
      },
      "execution_count": 10,
      "outputs": []
    }
  ]
}