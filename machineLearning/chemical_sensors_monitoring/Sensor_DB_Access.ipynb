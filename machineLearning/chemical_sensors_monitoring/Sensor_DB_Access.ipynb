{
 "cells": [
  {
   "cell_type": "code",
   "execution_count": 3,
   "metadata": {
    "colab": {
     "base_uri": "https://localhost:8080/"
    },
    "executionInfo": {
     "elapsed": 5150,
     "status": "ok",
     "timestamp": 1673093137788,
     "user": {
      "displayName": "Dr. Thorsten Gressling",
      "userId": "13930012239171699375"
     },
     "user_tz": -60
    },
    "id": "CpM76AuVHCQW",
    "outputId": "4a384f25-3847-4f2f-9f77-1e5543997266"
   },
   "outputs": [
    {
     "name": "stdout",
     "output_type": "stream",
     "text": [
      "Requirement already satisfied: PyMySQL in d:\\miniconda3\\lib\\site-packages (1.1.0)\n",
      "Collecting pandas\n",
      "  Downloading pandas-2.2.2-cp39-cp39-win_amd64.whl.metadata (19 kB)\n",
      "Requirement already satisfied: numpy>=1.22.4 in d:\\miniconda3\\lib\\site-packages (from pandas) (1.26.4)\n",
      "Requirement already satisfied: python-dateutil>=2.8.2 in d:\\miniconda3\\lib\\site-packages (from pandas) (2.8.2)\n",
      "Requirement already satisfied: pytz>=2020.1 in d:\\miniconda3\\lib\\site-packages (from pandas) (2024.1)\n",
      "Collecting tzdata>=2022.7 (from pandas)\n",
      "  Downloading tzdata-2024.1-py2.py3-none-any.whl.metadata (1.4 kB)\n",
      "Requirement already satisfied: six>=1.5 in d:\\miniconda3\\lib\\site-packages (from python-dateutil>=2.8.2->pandas) (1.16.0)\n",
      "Downloading pandas-2.2.2-cp39-cp39-win_amd64.whl (11.6 MB)\n",
      "   ---------------------------------------- 0.0/11.6 MB ? eta -:--:--\n",
      "   ---------------------------------------- 0.0/11.6 MB 2.0 MB/s eta 0:00:06\n",
      "    --------------------------------------- 0.3/11.6 MB 4.3 MB/s eta 0:00:03\n",
      "   --- ------------------------------------ 0.9/11.6 MB 7.1 MB/s eta 0:00:02\n",
      "   ----- ---------------------------------- 1.6/11.6 MB 10.0 MB/s eta 0:00:02\n",
      "   ------- -------------------------------- 2.3/11.6 MB 11.2 MB/s eta 0:00:01\n",
      "   ---------- ----------------------------- 3.1/11.6 MB 13.2 MB/s eta 0:00:01\n",
      "   ------------- -------------------------- 3.8/11.6 MB 14.3 MB/s eta 0:00:01\n",
      "   ---------------- ----------------------- 4.9/11.6 MB 14.8 MB/s eta 0:00:01\n",
      "   ------------------- -------------------- 5.7/11.6 MB 15.8 MB/s eta 0:00:01\n",
      "   --------------------- ------------------ 6.4/11.6 MB 15.1 MB/s eta 0:00:01\n",
      "   ------------------------ --------------- 7.2/11.6 MB 15.9 MB/s eta 0:00:01\n",
      "   ---------------------------- ----------- 8.4/11.6 MB 17.3 MB/s eta 0:00:01\n",
      "   --------------------------------- ------ 9.8/11.6 MB 18.0 MB/s eta 0:00:01\n",
      "   -------------------------------------- - 11.2/11.6 MB 22.6 MB/s eta 0:00:01\n",
      "   ---------------------------------------- 11.6/11.6 MB 22.6 MB/s eta 0:00:00\n",
      "Downloading tzdata-2024.1-py2.py3-none-any.whl (345 kB)\n",
      "   ---------------------------------------- 0.0/345.4 kB ? eta -:--:--\n",
      "   ---------------------------------------- 345.4/345.4 kB ? eta 0:00:00\n",
      "Installing collected packages: tzdata, pandas\n",
      "Successfully installed pandas-2.2.2 tzdata-2024.1\n"
     ]
    }
   ],
   "source": [
    "!pip install PyMySQL\n",
    "# https://github.com/PyMySQL/PyMySQL/\n",
    "!pip install pandas"
   ]
  },
  {
   "cell_type": "code",
   "execution_count": 1,
   "metadata": {
    "executionInfo": {
     "elapsed": 873,
     "status": "ok",
     "timestamp": 1673093452373,
     "user": {
      "displayName": "Dr. Thorsten Gressling",
      "userId": "13930012239171699375"
     },
     "user_tz": -60
    },
    "id": "Rrz-BUNnHhoh"
   },
   "outputs": [],
   "source": [
    "import pymysql.cursors\n",
    "import warnings\n",
    "import pandas as pd\n",
    "warnings.filterwarnings('ignore')"
   ]
  },
  {
   "cell_type": "code",
   "execution_count": 2,
   "metadata": {},
   "outputs": [],
   "source": [
    "def connect():\n",
    "    # database credentials\n",
    "    host = 'den1.mysql6.gear.host'\n",
    "    db = 'situation'\n",
    "    usr = 'situation'\n",
    "    # pwd = input()\n",
    "    pwd = input()\n",
    "\n",
    "    # connect to the database\n",
    "    try: \n",
    "        return pymysql.connect(host=host, user=usr, password=pwd, database=db, \n",
    "            cursorclass=pymysql.cursors.DictCursor)\n",
    "    except pymysql.Error as err:\n",
    "        print(\"error %d: %s\" %(err.args[0], err.args[1]))\n",
    "        return \"\""
   ]
  },
  {
   "cell_type": "code",
   "execution_count": 3,
   "metadata": {
    "colab": {
     "base_uri": "https://localhost:8080/"
    },
    "executionInfo": {
     "elapsed": 9,
     "status": "ok",
     "timestamp": 1673093761832,
     "user": {
      "displayName": "Dr. Thorsten Gressling",
      "userId": "13930012239171699375"
     },
     "user_tz": -60
    },
    "id": "AAoFC_HfJIwN",
    "outputId": "9f180f34-d340-485e-c6f7-8189973cfe59"
   },
   "outputs": [],
   "source": [
    "def query_table(table_name):\n",
    "    sql = f\"SELECT * FROM {table_name};\"\n",
    "\n",
    "    # connect to database\n",
    "    db_connection = connect()\n",
    "\n",
    "    # check connection\n",
    "    if not (type(db_connection) == str):\n",
    "        # execute query and fetch results\n",
    "        with db_connection.cursor() as cursor:\n",
    "            cursor.execute(sql)\n",
    "            result = cursor.fetchall()\n",
    "        return result\n",
    "    else:\n",
    "        return []"
   ]
  },
  {
   "cell_type": "code",
   "execution_count": 4,
   "metadata": {},
   "outputs": [
    {
     "name": "stdin",
     "output_type": "stream",
     "text": [
      " cogni88.\n"
     ]
    },
    {
     "name": "stdout",
     "output_type": "stream",
     "text": [
      "{'SensorID': 1, 'Timestamp': datetime.datetime(2024, 1, 1, 0, 0), 'SensorValue': 56.7641, 'Temperature': 20.0, 'Humidity': 60.0, 'DegradationLevel': 0.0}\n",
      "{'SensorID': 1, 'Timestamp': datetime.datetime(2024, 1, 2, 0, 0), 'SensorValue': 60.1641, 'Temperature': 20.3917, 'Humidity': 59.0499, 'DegradationLevel': 0.012346}\n",
      "{'SensorID': 1, 'Timestamp': datetime.datetime(2024, 1, 3, 0, 0), 'SensorValue': 62.309, 'Temperature': 21.5564, 'Humidity': 56.2088, 'DegradationLevel': 0.024691}\n",
      "{'SensorID': 1, 'Timestamp': datetime.datetime(2024, 1, 4, 0, 0), 'SensorValue': 64.0033, 'Temperature': 23.419, 'Humidity': 51.6724, 'DegradationLevel': 0.037037}\n",
      "{'SensorID': 1, 'Timestamp': datetime.datetime(2024, 1, 5, 0, 0), 'SensorValue': 68.76, 'Temperature': 25.7989, 'Humidity': 46.1243, 'DegradationLevel': 0.049383}\n",
      "{'SensorID': 1, 'Timestamp': datetime.datetime(2024, 1, 6, 0, 0), 'SensorValue': 69.6223, 'Temperature': 28.505, 'Humidity': 40.3306, 'DegradationLevel': 0.061728}\n",
      "{'SensorID': 1, 'Timestamp': datetime.datetime(2024, 1, 7, 0, 0), 'SensorValue': 73.4594, 'Temperature': 31.3376, 'Humidity': 34.2141, 'DegradationLevel': 0.074074}\n",
      "{'SensorID': 1, 'Timestamp': datetime.datetime(2024, 1, 8, 0, 0), 'SensorValue': 76.8672, 'Temperature': 34.0886, 'Humidity': 28.6662, 'DegradationLevel': 0.08642}\n",
      "{'SensorID': 1, 'Timestamp': datetime.datetime(2024, 1, 9, 0, 0), 'SensorValue': 78.1281, 'Temperature': 36.5512, 'Humidity': 24.5537, 'DegradationLevel': 0.098765}\n",
      "{'SensorID': 1, 'Timestamp': datetime.datetime(2024, 1, 10, 0, 0), 'SensorValue': 82.2019, 'Temperature': 38.529, 'Humidity': 22.7011, 'DegradationLevel': 0.111111}\n",
      "{'SensorID': 1, 'Timestamp': datetime.datetime(2024, 1, 11, 0, 0), 'SensorValue': 82.548, 'Temperature': 39.8399, 'Humidity': 23.8809, 'DegradationLevel': 0.123457}\n",
      "{'SensorID': 1, 'Timestamp': datetime.datetime(2024, 1, 12, 0, 0), 'SensorValue': 85.0952, 'Temperature': 40.3213, 'Humidity': 28.8081, 'DegradationLevel': 0.135802}\n",
      "{'SensorID': 1, 'Timestamp': datetime.datetime(2024, 1, 13, 0, 0), 'SensorValue': 88.8887, 'Temperature': 39.8432, 'Humidity': 37.0212, 'DegradationLevel': 0.148148}\n",
      "{'SensorID': 1, 'Timestamp': datetime.datetime(2024, 1, 14, 0, 0), 'SensorValue': 89.3669, 'Temperature': 38.3224, 'Humidity': 47.9512, 'DegradationLevel': 0.160494}\n",
      "{'SensorID': 1, 'Timestamp': datetime.datetime(2024, 1, 15, 0, 0), 'SensorValue': 91.6971, 'Temperature': 35.703, 'Humidity': 60.848, 'DegradationLevel': 0.17284}\n",
      "{'SensorID': 1, 'Timestamp': datetime.datetime(2024, 1, 16, 0, 0), 'SensorValue': 92.5182, 'Temperature': 32.0, 'Humidity': 74.0741, 'DegradationLevel': 0.185185}\n",
      "{'SensorID': 1, 'Timestamp': datetime.datetime(2024, 1, 17, 0, 0), 'SensorValue': 93.6103, 'Temperature': 27.2394, 'Humidity': 85.9394, 'DegradationLevel': 0.197531}\n",
      "{'SensorID': 1, 'Timestamp': datetime.datetime(2024, 1, 18, 0, 0), 'SensorValue': 94.6243, 'Temperature': 21.4949, 'Humidity': 95.7383, 'DegradationLevel': 0.209877}\n",
      "{'SensorID': 1, 'Timestamp': datetime.datetime(2024, 1, 19, 0, 0), 'SensorValue': 94.8049, 'Temperature': 14.8711, 'Humidity': 102.765, 'DegradationLevel': 0.222222}\n",
      "{'SensorID': 1, 'Timestamp': datetime.datetime(2024, 1, 20, 0, 0), 'SensorValue': 95.5042, 'Temperature': 7.51047, 'Humidity': 106.437, 'DegradationLevel': 0.234568}\n",
      "{'SensorID': 1, 'Timestamp': datetime.datetime(2024, 1, 21, 0, 0), 'SensorValue': 96.7818, 'Temperature': -0.5, 'Humidity': 106.36, 'DegradationLevel': 0.246914}\n",
      "{'SensorID': 1, 'Timestamp': datetime.datetime(2024, 1, 22, 0, 0), 'SensorValue': 97.7666, 'Temperature': -8.15038, 'Humidity': 102.221, 'DegradationLevel': 0.259259}\n",
      "{'SensorID': 1, 'Timestamp': datetime.datetime(2024, 1, 23, 0, 0), 'SensorValue': 98.3256, 'Temperature': -15.4409, 'Humidity': 94.009, 'DegradationLevel': 0.271605}\n",
      "{'SensorID': 1, 'Timestamp': datetime.datetime(2024, 1, 24, 0, 0), 'SensorValue': 99.342, 'Temperature': -21.3843, 'Humidity': 82.86, 'DegradationLevel': 0.283951}\n",
      "{'SensorID': 1, 'Timestamp': datetime.datetime(2024, 1, 25, 0, 0), 'SensorValue': 100.017, 'Temperature': -25.9992, 'Humidity': 69.0364, 'DegradationLevel': 0.296296}\n",
      "{'SensorID': 1, 'Timestamp': datetime.datetime(2024, 1, 26, 0, 0), 'SensorValue': 99.6849, 'Temperature': -29.3426, 'Humidity': 53.0082, 'DegradationLevel': 0.308642}\n",
      "{'SensorID': 1, 'Timestamp': datetime.datetime(2024, 1, 27, 0, 0), 'SensorValue': 98.7312, 'Temperature': -31.5, 'Humidity': 35.3574, 'DegradationLevel': 0.320988}\n",
      "{'SensorID': 1, 'Timestamp': datetime.datetime(2024, 1, 28, 0, 0), 'SensorValue': 99.4719, 'Temperature': -32.5859, 'Humidity': 16.752, 'DegradationLevel': 0.333333}\n",
      "{'SensorID': 1, 'Timestamp': datetime.datetime(2024, 1, 29, 0, 0), 'SensorValue': 100.151, 'Temperature': -32.7365, 'Humidity': -2.28853, 'DegradationLevel': 0.345679}\n",
      "{'SensorID': 1, 'Timestamp': datetime.datetime(2024, 1, 30, 0, 0), 'SensorValue': 100.376, 'Temperature': -32.1042, 'Humidity': -21.2445, 'DegradationLevel': 0.358025}\n",
      "{'SensorID': 1, 'Timestamp': datetime.datetime(2024, 1, 31, 0, 0), 'SensorValue': 100.283, 'Temperature': -30.8582, 'Humidity': -39.5841, 'DegradationLevel': 0.37037}\n",
      "{'SensorID': 1, 'Timestamp': datetime.datetime(2024, 2, 1, 0, 0), 'SensorValue': 100.529, 'Temperature': -29.1791, 'Humidity': -56.7817, 'DegradationLevel': 0.382716}\n",
      "{'SensorID': 1, 'Timestamp': datetime.datetime(2024, 2, 2, 0, 0), 'SensorValue': 100.071, 'Temperature': -27.2583, 'Humidity': -72.3142, 'DegradationLevel': 0.395062}\n"
     ]
    }
   ],
   "source": [
    "# Call the function to query the table\n",
    "results = query_table('t20_chemicalsensor_data')\n",
    "\n",
    "# Print out the results\n",
    "for row in results:\n",
    "    print(row)"
   ]
  },
  {
   "cell_type": "code",
   "execution_count": null,
   "metadata": {},
   "outputs": [],
   "source": []
  }
 ],
 "metadata": {
  "colab": {
   "authorship_tag": "ABX9TyPscIbxpw3vubY2hRx284cu",
   "provenance": []
  },
  "kernelspec": {
   "display_name": "Python 3 (ipykernel)",
   "language": "python",
   "name": "python3"
  },
  "language_info": {
   "codemirror_mode": {
    "name": "ipython",
    "version": 3
   },
   "file_extension": ".py",
   "mimetype": "text/x-python",
   "name": "python",
   "nbconvert_exporter": "python",
   "pygments_lexer": "ipython3",
   "version": "3.9.19"
  }
 },
 "nbformat": 4,
 "nbformat_minor": 4
}
