{
 "cells": [
  {
   "cell_type": "markdown",
   "metadata": {},
   "source": [
    "### Read table data"
   ]
  },
  {
   "cell_type": "code",
   "execution_count": null,
   "metadata": {},
   "outputs": [],
   "source": [
    "### Install\n",
    "\n",
    "%pip install sqlalchemy pandas python-dotenv pymysql pyarrow matplotlib"
   ]
  },
  {
   "cell_type": "code",
   "execution_count": 18,
   "metadata": {},
   "outputs": [],
   "source": [
    "### Imports\n",
    "\n",
    "from sqlalchemy import create_engine, text\n",
    "import pandas as pd\n",
    "from dotenv import load_dotenv\n",
    "import os\n",
    "import matplotlib.pyplot as plt"
   ]
  },
  {
   "cell_type": "code",
   "execution_count": 4,
   "metadata": {},
   "outputs": [],
   "source": [
    "### Load credentials\n",
    "\n",
    "# .env file path\n",
    "env_path = os.path.join(\"env\", \"credentials.env\")\n",
    "\n",
    "# Load .env file\n",
    "load_dotenv(dotenv_path=env_path)\n",
    "\n",
    "# Call credentials\n",
    "db_host = os.getenv(\"DB_HOST\")\n",
    "db_name = os.getenv(\"DB_NAME\")\n",
    "db_user = os.getenv(\"DB_USER\")\n",
    "db_password = os.getenv(\"DB_PASSWORD\")"
   ]
  },
  {
   "cell_type": "code",
   "execution_count": 5,
   "metadata": {},
   "outputs": [
    {
     "name": "stdout",
     "output_type": "stream",
     "text": [
      "Data (Parquet) successfully saved in 'data/proteinliganddocking.parquet'\n",
      "Data (CSV) successfully saved in 'data/proteinliganddocking.csv'\n"
     ]
    }
   ],
   "source": [
    "### connect to DB\n",
    "\n",
    "db_url = f\"mysql+pymysql://{db_user}:{db_password}@{db_host}/{db_name}\"\n",
    "\n",
    "\n",
    "engine = create_engine(db_url)\n",
    "\n",
    "query = text(\"SELECT * FROM situation.l12_proteinliganddocking\")\n",
    "\n",
    "# Save path for CSV and parquet files\n",
    "save_path_parquet = \"data/proteinliganddocking.parquet\"\n",
    "save_path_csv = \"data/proteinliganddocking.csv\"\n",
    "\n",
    "\n",
    "try:\n",
    "    with engine.connect() as connection:\n",
    "        \n",
    "        result = connection.execute(query)\n",
    "\n",
    "        df = pd.DataFrame(result.fetchall(), columns=result.keys())\n",
    "        \n",
    "        df.to_parquet(save_path_parquet)\n",
    "        print(f\"Data (Parquet) successfully saved in '{save_path_parquet}'\")\n",
    "        df.to_csv(save_path_csv, index=False)\n",
    "        print(f\"Data (CSV) successfully saved in '{save_path_csv}'\")\n",
    "        \n",
    "        connection.close()\n",
    "except Exception as e:\n",
    "    print(f\"Error: {e}\")"
   ]
  },
  {
   "cell_type": "code",
   "execution_count": 21,
   "metadata": {},
   "outputs": [
    {
     "name": "stdout",
     "output_type": "stream",
     "text": [
      "Affinity: \n",
      " count    31.000000\n",
      "mean      5.580645\n",
      "std       1.004463\n",
      "min       3.800000\n",
      "25%       4.750000\n",
      "50%       5.500000\n",
      "75%       6.350000\n",
      "max       7.300000\n",
      "Name: affinity, dtype: float64 \n",
      "\n",
      "Resolution: \n",
      " count    31.000000\n",
      "mean      2.048387\n",
      "std       0.194715\n",
      "min       1.700000\n",
      "25%       1.950000\n",
      "50%       2.000000\n",
      "75%       2.100000\n",
      "max       2.500000\n",
      "Name: resolution, dtype: float64 \n",
      "\n",
      "Classification: \n",
      " classification\n",
      "Enzyme       11\n",
      "Transport    11\n",
      "Receptor      9\n",
      "Name: count, dtype: int64 \n",
      "\n"
     ]
    },
    {
     "data": {
      "image/png": "[encoded data removed]",
      "text/plain": [
       "<Figure size 640x480 with 1 Axes>"
      ]
     },
     "metadata": {},
     "output_type": "display_data"
    }
   ],
   "source": [
    "### Read and analyse data\n",
    "\n",
    "data = pd.read_parquet(save_path_parquet, engine=\"pyarrow\")\n",
    "#data.head(5)\n",
    "\n",
    "# Summary statistics for affinity and resolution\n",
    "affinity_stats = df['affinity'].describe()\n",
    "resolution_stats = df['resolution'].describe()\n",
    "\n",
    "# Count of classifications\n",
    "classification_counts = df['classification'].value_counts()\n",
    "\n",
    "print(\"Affinity: \\n\", affinity_stats, \"\\n\")\n",
    "print(\"Resolution: \\n\", resolution_stats, \"\\n\")\n",
    "print(\"Classification: \\n\", classification_counts, \"\\n\")\n",
    "\n",
    "# Plotting the histogram for affinity\n",
    "plt.hist(df['affinity'], bins=10, edgecolor='black')\n",
    "plt.title('Histogram of Affinity')\n",
    "plt.xlabel('Affinity')\n",
    "plt.ylabel('Frequency')\n",
    "plt.show()"
   ]
  }
 ],
 "metadata": {
  "colab": {
   "provenance": []
  },
  "kernelspec": {
   "display_name": "Python 3 (ipykernel)",
   "language": "python",
   "name": "python3"
  },
  "language_info": {
   "codemirror_mode": {
    "name": "ipython",
    "version": 3
   },
   "file_extension": ".py",
   "mimetype": "text/x-python",
   "name": "python",
   "nbconvert_exporter": "python",
   "pygments_lexer": "ipython3",
   "version": "3.12.3"
  }
 },
 "nbformat": 4,
 "nbformat_minor": 4
}
