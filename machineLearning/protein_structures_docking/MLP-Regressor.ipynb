{
 "cells": [
  {
   "cell_type": "markdown",
   "id": "78f06ed1-22b1-43cc-a3b0-19d929aeff57",
   "metadata": {},
   "source": [
    "##### Imports:"
   ]
  },
  {
   "cell_type": "code",
   "execution_count": 20,
   "id": "b1f16e28",
   "metadata": {},
   "outputs": [
    {
     "name": "stdout",
     "output_type": "stream",
     "text": [
      "Requirement already satisfied: pandas in c:\\users\\vincent\\appdata\\local\\programs\\python\\python312\\lib\\site-packages (2.2.2)\n",
      "Requirement already satisfied: scikit-learn in c:\\users\\vincent\\appdata\\local\\programs\\python\\python312\\lib\\site-packages (1.5.1)\n",
      "Requirement already satisfied: numpy>=1.26.0 in c:\\users\\vincent\\appdata\\local\\programs\\python\\python312\\lib\\site-packages (from pandas) (1.26.4)\n",
      "Requirement already satisfied: python-dateutil>=2.8.2 in c:\\users\\vincent\\appdata\\roaming\\python\\python312\\site-packages (from pandas) (2.9.0.post0)\n",
      "Requirement already satisfied: pytz>=2020.1 in c:\\users\\vincent\\appdata\\local\\programs\\python\\python312\\lib\\site-packages (from pandas) (2024.1)\n",
      "Requirement already satisfied: tzdata>=2022.7 in c:\\users\\vincent\\appdata\\local\\programs\\python\\python312\\lib\\site-packages (from pandas) (2024.1)\n",
      "Requirement already satisfied: scipy>=1.6.0 in c:\\users\\vincent\\appdata\\local\\programs\\python\\python312\\lib\\site-packages (from scikit-learn) (1.14.0)\n",
      "Requirement already satisfied: joblib>=1.2.0 in c:\\users\\vincent\\appdata\\local\\programs\\python\\python312\\lib\\site-packages (from scikit-learn) (1.4.2)\n",
      "Requirement already satisfied: threadpoolctl>=3.1.0 in c:\\users\\vincent\\appdata\\local\\programs\\python\\python312\\lib\\site-packages (from scikit-learn) (3.5.0)\n",
      "Requirement already satisfied: six>=1.5 in c:\\users\\vincent\\appdata\\roaming\\python\\python312\\site-packages (from python-dateutil>=2.8.2->pandas) (1.16.0)\n",
      "Note: you may need to restart the kernel to use updated packages.\n"
     ]
    }
   ],
   "source": [
    "### Install\n",
    "\n",
    "%pip install -U pandas scikit-learn\n",
    "\n",
    "import pandas as pd\n",
    "from sklearn.model_selection import train_test_split\n",
    "from sklearn.neural_network import MLPClassifier, MLPRegressor\n",
    "from sklearn.metrics import classification_report, accuracy_score, mean_squared_error\n",
    "from sklearn.model_selection import RandomizedSearchCV"
   ]
  },
  {
   "cell_type": "markdown",
   "id": "88cc7690-3e60-4680-a573-083a1e833a7f",
   "metadata": {},
   "source": [
    "##### MLPClassifier:"
   ]
  },
  {
   "cell_type": "code",
   "execution_count": 37,
   "id": "bc777eb7-03ca-42ae-9fbf-642800df4b5d",
   "metadata": {},
   "outputs": [
    {
     "name": "stdout",
     "output_type": "stream",
     "text": [
      "Mean Squared Error: 0.8421\n"
     ]
    }
   ],
   "source": [
    "# Load data\n",
    "csv_file_path = \"data/proteinliganddocking.csv\"\n",
    "data = pd.read_csv(csv_file_path)\n",
    "\n",
    "# columns\n",
    "# id,protein_id,ligand_id,protein_HELM,ligand_HELM,affinity,resolution,pdb_code,classification,source\n",
    "\n",
    "# Define features and target variable\n",
    "X = data.drop(columns=[\"id\", \n",
    "                       \"protein_id\", \n",
    "                       \"ligand_id\",\n",
    "                       \"affinity\",\n",
    "                       \"pdb_code\", \n",
    "                       \"source\"])\n",
    "X = pd.get_dummies(X)\n",
    "\n",
    "y = data[\"affinity\"]\n",
    "\n",
    "# Split data into train/test set\n",
    "X_train, X_test, y_train, y_test = train_test_split(X,\n",
    "                                                    y, \n",
    "                                                    test_size=0.2, \n",
    "                                                    random_state=42)\n",
    "\n",
    "\n",
    "mlp = MLPRegressor(hidden_layer_sizes= (100, 50),\n",
    "                   activation= 'relu',\n",
    "                   solver= 'lbfgs',\n",
    "                   learning_rate= 'adaptive',\n",
    "                   learning_rate_init= 0.01, \n",
    "                   max_iter= 1500,\n",
    "                   alpha= 0.0001,\n",
    "                   random_state= 42)\n",
    "\n",
    "mlp.fit(X_train, y_train)\n",
    "y_pred = mlp.predict(X_test)\n",
    "\n",
    "mse = mean_squared_error(y_test, y_pred)\n",
    "\n",
    "print(f\"Mean Squared Error: {round(mse, 4)}\")\n"
   ]
  },
  {
   "cell_type": "markdown",
   "id": "4710faa9",
   "metadata": {},
   "source": [
    "The Mean Squared Error started at 3.2383 with the help of RandomizedSearchCV the optimal parameters where searched."
   ]
  },
  {
   "cell_type": "code",
   "execution_count": 38,
   "id": "fb1bb4dc",
   "metadata": {},
   "outputs": [
    {
     "name": "stdout",
     "output_type": "stream",
     "text": [
      "Best Hyperparameters: {'solver': 'lbfgs', 'max_iter': 1500, 'learning_rate_init': 0.01, 'learning_rate': 'constant', 'hidden_layer_sizes': (100, 50), 'alpha': 0.0001, 'activation': 'relu'}\n",
      "{'activation': 'relu', 'alpha': 0.0001, 'batch_size': 'auto', 'beta_1': 0.9, 'beta_2': 0.999, 'early_stopping': False, 'epsilon': 1e-08, 'hidden_layer_sizes': (100, 50), 'learning_rate': 'constant', 'learning_rate_init': 0.01, 'max_fun': 15000, 'max_iter': 1500, 'momentum': 0.9, 'n_iter_no_change': 10, 'nesterovs_momentum': True, 'power_t': 0.5, 'random_state': 42, 'shuffle': True, 'solver': 'lbfgs', 'tol': 0.0001, 'validation_fraction': 0.1, 'verbose': False, 'warm_start': False}\n"
     ]
    }
   ],
   "source": [
    "param_dist = {\n",
    "    'hidden_layer_sizes': [(100,), (100, 50), (150, 100, 50), (100, 100, 10)],\n",
    "    'activation': ['relu', 'tanh'],\n",
    "    'solver': ['adam', 'lbfgs'],\n",
    "    'alpha': [0.0001, 0.001, 0.01],\n",
    "    'learning_rate': ['constant', 'invscaling', 'adaptive'],\n",
    "    'learning_rate_init': [0.001, 0.01, 0.1],\n",
    "    'max_iter': [500, 1000, 1500]\n",
    "}\n",
    "\n",
    "mlp = MLPRegressor(random_state=42)\n",
    "\n",
    "random_search = RandomizedSearchCV(estimator=mlp, param_distributions=param_dist, n_iter=100, cv=5, random_state=42)\n",
    "random_search.fit(X_train, y_train)\n",
    "\n",
    "best_params = random_search.best_params_\n",
    "print(\"Best Hyperparameters:\", best_params)\n",
    "\n",
    "# Define an empty list to store results\n",
    "results_list = []\n",
    "\n",
    "# Perform RandomizedSearchCV and store results\n",
    "for params, mse in zip(random_search.cv_results_['params'], random_search.cv_results_['mean_test_score']):\n",
    "    result = {**params, 'MSE': mse}\n",
    "    results_list.append(result)\n",
    "\n",
    "# Create a DataFrame from the list of results\n",
    "results_df = pd.DataFrame(results_list)\n",
    "results_df.to_csv('hyperparameter_results.csv', index=False)\n",
    "\n",
    "best_model = random_search.best_estimator_\n",
    "print( best_model.get_params())"
   ]
  }
 ],
 "metadata": {
  "kernelspec": {
   "display_name": "Python 3 (ipykernel)",
   "language": "python",
   "name": "python3"
  },
  "language_info": {
   "codemirror_mode": {
    "name": "ipython",
    "version": 3
   },
   "file_extension": ".py",
   "mimetype": "text/x-python",
   "name": "python",
   "nbconvert_exporter": "python",
   "pygments_lexer": "ipython3",
   "version": "3.12.3"
  }
 },
 "nbformat": 4,
 "nbformat_minor": 5
}
